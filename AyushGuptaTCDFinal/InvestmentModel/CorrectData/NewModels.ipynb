{
 "cells": [
  {
   "cell_type": "code",
   "execution_count": 1,
   "id": "ffa072ef",
   "metadata": {},
   "outputs": [],
   "source": [
    "import numpy as np \n",
    "from numpy import interp\n",
    "\n",
    "import pandas as pd \n",
    "import matplotlib.pyplot as plt\n",
    "\n",
    "from sklearn.preprocessing import LabelEncoder\n",
    "from sklearn.model_selection import train_test_split\n",
    "from sklearn.ensemble import RandomForestClassifier\n",
    "from sklearn.linear_model import LogisticRegression\n",
    "from sklearn import tree\n",
    "from sklearn.model_selection import cross_val_score\n",
    "from sklearn.neighbors import KNeighborsClassifier\n",
    "\n",
    "from pprint import pprint\n",
    "from sklearn.utils import resample\n",
    "from sklearn.metrics import confusion_matrix\n",
    "from sklearn.metrics import roc_auc_score, roc_curve,auc"
   ]
  },
  {
   "cell_type": "code",
   "execution_count": 2,
   "id": "636b9833",
   "metadata": {},
   "outputs": [],
   "source": [
    "df = pd.read_excel('DS_data.xlsx')"
   ]
  },
  {
   "cell_type": "code",
   "execution_count": 3,
   "id": "439a64ef",
   "metadata": {},
   "outputs": [],
   "source": [
    "working_df = pd.read_excel('FinalFinalFinalSheet.xlsx')"
   ]
  },
  {
   "cell_type": "code",
   "execution_count": 4,
   "id": "a5178aa7",
   "metadata": {},
   "outputs": [
    {
     "name": "stdout",
     "output_type": "stream",
     "text": [
      "Index(['Unnamed: 0', 'Unnamed: 0.1', 'Unnamed: 0.1.1', 'Sr No',\n",
      "       'Date dd/mm/yyyy', 'Startup Name', 'Industry Vertical', 'SubVertical',\n",
      "       'City  Location', 'Investors Name', 'InvestmentnType', 'Amount in USD',\n",
      "       'TierBoolean', 'AmountInUSDBoolean', 'Year', 'Month',\n",
      "       'OnlineMarketPlaceBoolean', 'EducationBool', 'ServiceInternetBoolean',\n",
      "       'HealthTechBoolean', 'Quantile Rank', 'Number_Investors',\n",
      "       'tryColumnForInvestment', 'Reached_Series_A'],\n",
      "      dtype='object')\n"
     ]
    }
   ],
   "source": [
    "print(working_df.columns)"
   ]
  },
  {
   "cell_type": "code",
   "execution_count": 5,
   "id": "2715f6c6",
   "metadata": {},
   "outputs": [],
   "source": [
    "working_df.drop('Unnamed: 0',axis = 1, inplace = True)\n",
    "working_df.drop('Unnamed: 0.1',axis = 1, inplace = True)\n",
    "working_df.drop('Unnamed: 0.1.1',axis = 1, inplace = True)"
   ]
  },
  {
   "cell_type": "code",
   "execution_count": 6,
   "id": "4f91d5b1",
   "metadata": {},
   "outputs": [
    {
     "data": {
      "text/plain": [
       "Index(['Sr No', 'Date dd/mm/yyyy', 'Startup Name', 'Industry Vertical',\n",
       "       'SubVertical', 'City  Location', 'Investors Name', 'InvestmentnType',\n",
       "       'Amount in USD', 'TierBoolean', 'AmountInUSDBoolean', 'Year', 'Month',\n",
       "       'OnlineMarketPlaceBoolean', 'EducationBool', 'ServiceInternetBoolean',\n",
       "       'HealthTechBoolean', 'Quantile Rank', 'Number_Investors',\n",
       "       'tryColumnForInvestment', 'Reached_Series_A'],\n",
       "      dtype='object')"
      ]
     },
     "execution_count": 6,
     "metadata": {},
     "output_type": "execute_result"
    }
   ],
   "source": [
    "working_df.columns"
   ]
  },
  {
   "cell_type": "code",
   "execution_count": 7,
   "id": "2bf8295f",
   "metadata": {},
   "outputs": [
    {
     "data": {
      "text/plain": [
       "Index(['Sl No', 'Name of startup', 'Amount of invertment ', 'Stake % if any',\n",
       "       'Engagement with startup currently '],\n",
       "      dtype='object')"
      ]
     },
     "execution_count": 7,
     "metadata": {},
     "output_type": "execute_result"
    }
   ],
   "source": [
    "df.columns"
   ]
  },
  {
   "cell_type": "code",
   "execution_count": 8,
   "id": "55c64ee5",
   "metadata": {},
   "outputs": [],
   "source": [
    "df = df.rename(columns={'Name of startup':'Startup Name','Amount of invertment ':'Amount in INR'})"
   ]
  },
  {
   "cell_type": "code",
   "execution_count": 9,
   "id": "c78e2c7b",
   "metadata": {},
   "outputs": [
    {
     "data": {
      "text/plain": [
       "Index(['Sl No', 'Startup Name', 'Amount in INR', 'Stake % if any',\n",
       "       'Engagement with startup currently '],\n",
       "      dtype='object')"
      ]
     },
     "execution_count": 9,
     "metadata": {},
     "output_type": "execute_result"
    }
   ],
   "source": [
    "df.columns"
   ]
  },
  {
   "cell_type": "code",
   "execution_count": 10,
   "id": "d7bb11e3",
   "metadata": {},
   "outputs": [],
   "source": [
    "df['Amount in USD'] = df[\"Amount in INR\"]/78"
   ]
  },
  {
   "cell_type": "code",
   "execution_count": 11,
   "id": "821c76bf",
   "metadata": {},
   "outputs": [
    {
     "data": {
      "text/plain": [
       "64289.692307692305"
      ]
     },
     "execution_count": 11,
     "metadata": {},
     "output_type": "execute_result"
    }
   ],
   "source": [
    "df[\"Amount in USD\"][1]"
   ]
  },
  {
   "cell_type": "code",
   "execution_count": null,
   "id": "56e282c1",
   "metadata": {},
   "outputs": [],
   "source": []
  }
 ],
 "metadata": {
  "kernelspec": {
   "display_name": "Python 3",
   "language": "python",
   "name": "python3"
  },
  "language_info": {
   "codemirror_mode": {
    "name": "ipython",
    "version": 3
   },
   "file_extension": ".py",
   "mimetype": "text/x-python",
   "name": "python",
   "nbconvert_exporter": "python",
   "pygments_lexer": "ipython3",
   "version": "3.9.4"
  }
 },
 "nbformat": 4,
 "nbformat_minor": 5
}
