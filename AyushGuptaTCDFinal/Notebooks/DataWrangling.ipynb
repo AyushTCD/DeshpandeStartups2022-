{
 "cells": [
  {
   "cell_type": "code",
   "execution_count": 143,
   "id": "0978e428",
   "metadata": {},
   "outputs": [],
   "source": [
    "import seaborn as sns\n",
    "import matplotlib.pyplot as plt \n",
    "import numpy as np\n",
    "import pandas as pd \n",
    "from collections import Counter "
   ]
  },
  {
   "cell_type": "code",
   "execution_count": 144,
   "id": "f0601f15",
   "metadata": {},
   "outputs": [],
   "source": [
    "DF = pd.read_excel(r'C:\\Users\\ayush\\Desktop\\Hubli Project\\InvestmentModel\\CorrectData\\CleanedFinalDataset.xlsx')"
   ]
  },
  {
   "cell_type": "code",
   "execution_count": 145,
   "id": "00cad598",
   "metadata": {},
   "outputs": [
    {
     "data": {
      "text/html": [
       "<div>\n",
       "<style scoped>\n",
       "    .dataframe tbody tr th:only-of-type {\n",
       "        vertical-align: middle;\n",
       "    }\n",
       "\n",
       "    .dataframe tbody tr th {\n",
       "        vertical-align: top;\n",
       "    }\n",
       "\n",
       "    .dataframe thead th {\n",
       "        text-align: right;\n",
       "    }\n",
       "</style>\n",
       "<table border=\"1\" class=\"dataframe\">\n",
       "  <thead>\n",
       "    <tr style=\"text-align: right;\">\n",
       "      <th></th>\n",
       "      <th>Unnamed: 0</th>\n",
       "      <th>Unnamed: 0.1</th>\n",
       "      <th>Unnamed: 0.1.1</th>\n",
       "      <th>Sr No</th>\n",
       "      <th>Date dd/mm/yyyy</th>\n",
       "      <th>Startup Name</th>\n",
       "      <th>Industry Vertical</th>\n",
       "      <th>SubVertical</th>\n",
       "      <th>City  Location</th>\n",
       "      <th>Investors Name</th>\n",
       "      <th>InvestmentnType</th>\n",
       "      <th>Amount in USD</th>\n",
       "      <th>Remarks</th>\n",
       "    </tr>\n",
       "  </thead>\n",
       "  <tbody>\n",
       "    <tr>\n",
       "      <th>0</th>\n",
       "      <td>0</td>\n",
       "      <td>0</td>\n",
       "      <td>0</td>\n",
       "      <td>1</td>\n",
       "      <td>2020-01-09 00:00:00</td>\n",
       "      <td>BYJU’S</td>\n",
       "      <td>E-Tech</td>\n",
       "      <td>E-learning</td>\n",
       "      <td>Bengaluru</td>\n",
       "      <td>Tiger Global Management</td>\n",
       "      <td>Private Equity Round</td>\n",
       "      <td>200000000</td>\n",
       "      <td>NaN</td>\n",
       "    </tr>\n",
       "    <tr>\n",
       "      <th>1</th>\n",
       "      <td>1</td>\n",
       "      <td>1</td>\n",
       "      <td>1</td>\n",
       "      <td>2</td>\n",
       "      <td>2020-01-13 00:00:00</td>\n",
       "      <td>Shuttl</td>\n",
       "      <td>Transportation</td>\n",
       "      <td>App based shuttle service</td>\n",
       "      <td>Gurgaon</td>\n",
       "      <td>Susquehanna Growth Equity</td>\n",
       "      <td>Series C</td>\n",
       "      <td>8048394</td>\n",
       "      <td>NaN</td>\n",
       "    </tr>\n",
       "    <tr>\n",
       "      <th>2</th>\n",
       "      <td>2</td>\n",
       "      <td>2</td>\n",
       "      <td>2</td>\n",
       "      <td>3</td>\n",
       "      <td>2020-01-09 00:00:00</td>\n",
       "      <td>Mamaearth</td>\n",
       "      <td>E-commerce</td>\n",
       "      <td>Retailer of baby and toddler products</td>\n",
       "      <td>Bengaluru</td>\n",
       "      <td>Sequoia Capital India</td>\n",
       "      <td>Series B</td>\n",
       "      <td>18358860</td>\n",
       "      <td>NaN</td>\n",
       "    </tr>\n",
       "    <tr>\n",
       "      <th>3</th>\n",
       "      <td>3</td>\n",
       "      <td>3</td>\n",
       "      <td>3</td>\n",
       "      <td>4</td>\n",
       "      <td>2020-01-02 00:00:00</td>\n",
       "      <td>https://www.wealthbucket.in/</td>\n",
       "      <td>FinTech</td>\n",
       "      <td>Online Investment</td>\n",
       "      <td>New Delhi</td>\n",
       "      <td>Vinod Khatumal</td>\n",
       "      <td>Pre-series A</td>\n",
       "      <td>3000000</td>\n",
       "      <td>NaN</td>\n",
       "    </tr>\n",
       "    <tr>\n",
       "      <th>4</th>\n",
       "      <td>4</td>\n",
       "      <td>4</td>\n",
       "      <td>4</td>\n",
       "      <td>5</td>\n",
       "      <td>2020-01-02 00:00:00</td>\n",
       "      <td>Fashor</td>\n",
       "      <td>Fashion and Apparel</td>\n",
       "      <td>Embroiled Clothes For Women</td>\n",
       "      <td>Mumbai</td>\n",
       "      <td>Sprout Venture Partners</td>\n",
       "      <td>Seed Funding</td>\n",
       "      <td>1800000</td>\n",
       "      <td>NaN</td>\n",
       "    </tr>\n",
       "    <tr>\n",
       "      <th>...</th>\n",
       "      <td>...</td>\n",
       "      <td>...</td>\n",
       "      <td>...</td>\n",
       "      <td>...</td>\n",
       "      <td>...</td>\n",
       "      <td>...</td>\n",
       "      <td>...</td>\n",
       "      <td>...</td>\n",
       "      <td>...</td>\n",
       "      <td>...</td>\n",
       "      <td>...</td>\n",
       "      <td>...</td>\n",
       "      <td>...</td>\n",
       "    </tr>\n",
       "    <tr>\n",
       "      <th>2065</th>\n",
       "      <td>2065</td>\n",
       "      <td>3038</td>\n",
       "      <td>3038</td>\n",
       "      <td>3039</td>\n",
       "      <td>2015-01-28 00:00:00</td>\n",
       "      <td>Grabhouse.com</td>\n",
       "      <td>NaN</td>\n",
       "      <td>NaN</td>\n",
       "      <td>NaN</td>\n",
       "      <td>Kalaari Capital, Sequoia Capital</td>\n",
       "      <td>Private Equity</td>\n",
       "      <td>2500000</td>\n",
       "      <td>Series A</td>\n",
       "    </tr>\n",
       "    <tr>\n",
       "      <th>2066</th>\n",
       "      <td>2066</td>\n",
       "      <td>3039</td>\n",
       "      <td>3039</td>\n",
       "      <td>3040</td>\n",
       "      <td>2015-01-29 00:00:00</td>\n",
       "      <td>Printvenue</td>\n",
       "      <td>NaN</td>\n",
       "      <td>NaN</td>\n",
       "      <td>NaN</td>\n",
       "      <td>Asia Pacific Internet Group</td>\n",
       "      <td>Private Equity</td>\n",
       "      <td>4500000</td>\n",
       "      <td>NaN</td>\n",
       "    </tr>\n",
       "    <tr>\n",
       "      <th>2067</th>\n",
       "      <td>2067</td>\n",
       "      <td>3040</td>\n",
       "      <td>3040</td>\n",
       "      <td>3041</td>\n",
       "      <td>2015-01-29 00:00:00</td>\n",
       "      <td>Graphene</td>\n",
       "      <td>NaN</td>\n",
       "      <td>NaN</td>\n",
       "      <td>NaN</td>\n",
       "      <td>KARSEMVEN Fund</td>\n",
       "      <td>Private Equity</td>\n",
       "      <td>825000</td>\n",
       "      <td>Govt backed VC Fund</td>\n",
       "    </tr>\n",
       "    <tr>\n",
       "      <th>2068</th>\n",
       "      <td>2068</td>\n",
       "      <td>3041</td>\n",
       "      <td>3041</td>\n",
       "      <td>3042</td>\n",
       "      <td>2015-01-30 00:00:00</td>\n",
       "      <td>Mad Street Den</td>\n",
       "      <td>NaN</td>\n",
       "      <td>NaN</td>\n",
       "      <td>NaN</td>\n",
       "      <td>Exfinity Fund, GrowX Ventures.</td>\n",
       "      <td>Private Equity</td>\n",
       "      <td>1500000</td>\n",
       "      <td>NaN</td>\n",
       "    </tr>\n",
       "    <tr>\n",
       "      <th>2069</th>\n",
       "      <td>2069</td>\n",
       "      <td>3043</td>\n",
       "      <td>3043</td>\n",
       "      <td>3044</td>\n",
       "      <td>2015-01-31 00:00:00</td>\n",
       "      <td>couponmachine.in</td>\n",
       "      <td>NaN</td>\n",
       "      <td>NaN</td>\n",
       "      <td>NaN</td>\n",
       "      <td>UK based Group of Angel Investors</td>\n",
       "      <td>Seed Funding</td>\n",
       "      <td>140000</td>\n",
       "      <td>NaN</td>\n",
       "    </tr>\n",
       "  </tbody>\n",
       "</table>\n",
       "<p>2070 rows × 13 columns</p>\n",
       "</div>"
      ],
      "text/plain": [
       "      Unnamed: 0  Unnamed: 0.1  Unnamed: 0.1.1  Sr No      Date dd/mm/yyyy  \\\n",
       "0              0             0               0      1  2020-01-09 00:00:00   \n",
       "1              1             1               1      2  2020-01-13 00:00:00   \n",
       "2              2             2               2      3  2020-01-09 00:00:00   \n",
       "3              3             3               3      4  2020-01-02 00:00:00   \n",
       "4              4             4               4      5  2020-01-02 00:00:00   \n",
       "...          ...           ...             ...    ...                  ...   \n",
       "2065        2065          3038            3038   3039  2015-01-28 00:00:00   \n",
       "2066        2066          3039            3039   3040  2015-01-29 00:00:00   \n",
       "2067        2067          3040            3040   3041  2015-01-29 00:00:00   \n",
       "2068        2068          3041            3041   3042  2015-01-30 00:00:00   \n",
       "2069        2069          3043            3043   3044  2015-01-31 00:00:00   \n",
       "\n",
       "                      Startup Name    Industry Vertical  \\\n",
       "0                           BYJU’S               E-Tech   \n",
       "1                           Shuttl       Transportation   \n",
       "2                        Mamaearth           E-commerce   \n",
       "3     https://www.wealthbucket.in/              FinTech   \n",
       "4                           Fashor  Fashion and Apparel   \n",
       "...                            ...                  ...   \n",
       "2065                 Grabhouse.com                  NaN   \n",
       "2066                    Printvenue                  NaN   \n",
       "2067                      Graphene                  NaN   \n",
       "2068                Mad Street Den                  NaN   \n",
       "2069              couponmachine.in                  NaN   \n",
       "\n",
       "                                SubVertical City  Location  \\\n",
       "0                                E-learning      Bengaluru   \n",
       "1                 App based shuttle service        Gurgaon   \n",
       "2     Retailer of baby and toddler products      Bengaluru   \n",
       "3                         Online Investment      New Delhi   \n",
       "4               Embroiled Clothes For Women         Mumbai   \n",
       "...                                     ...            ...   \n",
       "2065                                    NaN            NaN   \n",
       "2066                                    NaN            NaN   \n",
       "2067                                    NaN            NaN   \n",
       "2068                                    NaN            NaN   \n",
       "2069                                    NaN            NaN   \n",
       "\n",
       "                         Investors Name       InvestmentnType  Amount in USD  \\\n",
       "0               Tiger Global Management  Private Equity Round      200000000   \n",
       "1             Susquehanna Growth Equity              Series C        8048394   \n",
       "2                 Sequoia Capital India              Series B       18358860   \n",
       "3                        Vinod Khatumal          Pre-series A        3000000   \n",
       "4               Sprout Venture Partners          Seed Funding        1800000   \n",
       "...                                 ...                   ...            ...   \n",
       "2065   Kalaari Capital, Sequoia Capital        Private Equity        2500000   \n",
       "2066        Asia Pacific Internet Group        Private Equity        4500000   \n",
       "2067                     KARSEMVEN Fund        Private Equity         825000   \n",
       "2068     Exfinity Fund, GrowX Ventures.        Private Equity        1500000   \n",
       "2069  UK based Group of Angel Investors          Seed Funding         140000   \n",
       "\n",
       "                  Remarks  \n",
       "0                     NaN  \n",
       "1                     NaN  \n",
       "2                     NaN  \n",
       "3                     NaN  \n",
       "4                     NaN  \n",
       "...                   ...  \n",
       "2065             Series A  \n",
       "2066                  NaN  \n",
       "2067  Govt backed VC Fund  \n",
       "2068                  NaN  \n",
       "2069                  NaN  \n",
       "\n",
       "[2070 rows x 13 columns]"
      ]
     },
     "execution_count": 145,
     "metadata": {},
     "output_type": "execute_result"
    }
   ],
   "source": [
    "DF"
   ]
  },
  {
   "cell_type": "code",
   "execution_count": 146,
   "id": "88d695c4",
   "metadata": {},
   "outputs": [],
   "source": [
    "for x in DF['Amount in USD']:\n",
    "    if isinstance(x,str):\n",
    "        print(x)"
   ]
  },
  {
   "cell_type": "code",
   "execution_count": 147,
   "id": "3d7a245a",
   "metadata": {},
   "outputs": [],
   "source": [
    "New_DF = DF[DF['Amount in USD'] != 'undisclosed']"
   ]
  },
  {
   "cell_type": "code",
   "execution_count": 148,
   "id": "fe0a6e1a",
   "metadata": {},
   "outputs": [],
   "source": [
    "New_DF = New_DF[New_DF['Amount in USD'] != 'Undisclosed']"
   ]
  },
  {
   "cell_type": "code",
   "execution_count": 149,
   "id": "50d2334b",
   "metadata": {},
   "outputs": [],
   "source": [
    "New_DF = New_DF[New_DF['Amount in USD'] != 'unknown']"
   ]
  },
  {
   "cell_type": "code",
   "execution_count": 150,
   "id": "3f9303b2",
   "metadata": {},
   "outputs": [],
   "source": [
    "New_DF = New_DF[New_DF['Amount in USD'] != '14342000+']"
   ]
  },
  {
   "cell_type": "code",
   "execution_count": 151,
   "id": "1edecf59",
   "metadata": {},
   "outputs": [],
   "source": [
    "for x in New_DF['Amount in USD']:\n",
    "    if isinstance(x,str):\n",
    "        print(x)"
   ]
  },
  {
   "cell_type": "code",
   "execution_count": 152,
   "id": "0568beb4",
   "metadata": {},
   "outputs": [
    {
     "data": {
      "text/html": [
       "<div>\n",
       "<style scoped>\n",
       "    .dataframe tbody tr th:only-of-type {\n",
       "        vertical-align: middle;\n",
       "    }\n",
       "\n",
       "    .dataframe tbody tr th {\n",
       "        vertical-align: top;\n",
       "    }\n",
       "\n",
       "    .dataframe thead th {\n",
       "        text-align: right;\n",
       "    }\n",
       "</style>\n",
       "<table border=\"1\" class=\"dataframe\">\n",
       "  <thead>\n",
       "    <tr style=\"text-align: right;\">\n",
       "      <th></th>\n",
       "      <th>Unnamed: 0</th>\n",
       "      <th>Unnamed: 0.1</th>\n",
       "      <th>Unnamed: 0.1.1</th>\n",
       "      <th>Sr No</th>\n",
       "      <th>Date dd/mm/yyyy</th>\n",
       "      <th>Startup Name</th>\n",
       "      <th>Industry Vertical</th>\n",
       "      <th>SubVertical</th>\n",
       "      <th>City  Location</th>\n",
       "      <th>Investors Name</th>\n",
       "      <th>InvestmentnType</th>\n",
       "      <th>Amount in USD</th>\n",
       "      <th>Remarks</th>\n",
       "    </tr>\n",
       "  </thead>\n",
       "  <tbody>\n",
       "    <tr>\n",
       "      <th>0</th>\n",
       "      <td>0</td>\n",
       "      <td>0</td>\n",
       "      <td>0</td>\n",
       "      <td>1</td>\n",
       "      <td>2020-01-09 00:00:00</td>\n",
       "      <td>BYJU’S</td>\n",
       "      <td>E-Tech</td>\n",
       "      <td>E-learning</td>\n",
       "      <td>Bengaluru</td>\n",
       "      <td>Tiger Global Management</td>\n",
       "      <td>Private Equity Round</td>\n",
       "      <td>200000000</td>\n",
       "      <td>NaN</td>\n",
       "    </tr>\n",
       "    <tr>\n",
       "      <th>1</th>\n",
       "      <td>1</td>\n",
       "      <td>1</td>\n",
       "      <td>1</td>\n",
       "      <td>2</td>\n",
       "      <td>2020-01-13 00:00:00</td>\n",
       "      <td>Shuttl</td>\n",
       "      <td>Transportation</td>\n",
       "      <td>App based shuttle service</td>\n",
       "      <td>Gurgaon</td>\n",
       "      <td>Susquehanna Growth Equity</td>\n",
       "      <td>Series C</td>\n",
       "      <td>8048394</td>\n",
       "      <td>NaN</td>\n",
       "    </tr>\n",
       "    <tr>\n",
       "      <th>2</th>\n",
       "      <td>2</td>\n",
       "      <td>2</td>\n",
       "      <td>2</td>\n",
       "      <td>3</td>\n",
       "      <td>2020-01-09 00:00:00</td>\n",
       "      <td>Mamaearth</td>\n",
       "      <td>E-commerce</td>\n",
       "      <td>Retailer of baby and toddler products</td>\n",
       "      <td>Bengaluru</td>\n",
       "      <td>Sequoia Capital India</td>\n",
       "      <td>Series B</td>\n",
       "      <td>18358860</td>\n",
       "      <td>NaN</td>\n",
       "    </tr>\n",
       "    <tr>\n",
       "      <th>3</th>\n",
       "      <td>3</td>\n",
       "      <td>3</td>\n",
       "      <td>3</td>\n",
       "      <td>4</td>\n",
       "      <td>2020-01-02 00:00:00</td>\n",
       "      <td>https://www.wealthbucket.in/</td>\n",
       "      <td>FinTech</td>\n",
       "      <td>Online Investment</td>\n",
       "      <td>New Delhi</td>\n",
       "      <td>Vinod Khatumal</td>\n",
       "      <td>Pre-series A</td>\n",
       "      <td>3000000</td>\n",
       "      <td>NaN</td>\n",
       "    </tr>\n",
       "    <tr>\n",
       "      <th>4</th>\n",
       "      <td>4</td>\n",
       "      <td>4</td>\n",
       "      <td>4</td>\n",
       "      <td>5</td>\n",
       "      <td>2020-01-02 00:00:00</td>\n",
       "      <td>Fashor</td>\n",
       "      <td>Fashion and Apparel</td>\n",
       "      <td>Embroiled Clothes For Women</td>\n",
       "      <td>Mumbai</td>\n",
       "      <td>Sprout Venture Partners</td>\n",
       "      <td>Seed Funding</td>\n",
       "      <td>1800000</td>\n",
       "      <td>NaN</td>\n",
       "    </tr>\n",
       "    <tr>\n",
       "      <th>...</th>\n",
       "      <td>...</td>\n",
       "      <td>...</td>\n",
       "      <td>...</td>\n",
       "      <td>...</td>\n",
       "      <td>...</td>\n",
       "      <td>...</td>\n",
       "      <td>...</td>\n",
       "      <td>...</td>\n",
       "      <td>...</td>\n",
       "      <td>...</td>\n",
       "      <td>...</td>\n",
       "      <td>...</td>\n",
       "      <td>...</td>\n",
       "    </tr>\n",
       "    <tr>\n",
       "      <th>2065</th>\n",
       "      <td>2065</td>\n",
       "      <td>3038</td>\n",
       "      <td>3038</td>\n",
       "      <td>3039</td>\n",
       "      <td>2015-01-28 00:00:00</td>\n",
       "      <td>Grabhouse.com</td>\n",
       "      <td>NaN</td>\n",
       "      <td>NaN</td>\n",
       "      <td>NaN</td>\n",
       "      <td>Kalaari Capital, Sequoia Capital</td>\n",
       "      <td>Private Equity</td>\n",
       "      <td>2500000</td>\n",
       "      <td>Series A</td>\n",
       "    </tr>\n",
       "    <tr>\n",
       "      <th>2066</th>\n",
       "      <td>2066</td>\n",
       "      <td>3039</td>\n",
       "      <td>3039</td>\n",
       "      <td>3040</td>\n",
       "      <td>2015-01-29 00:00:00</td>\n",
       "      <td>Printvenue</td>\n",
       "      <td>NaN</td>\n",
       "      <td>NaN</td>\n",
       "      <td>NaN</td>\n",
       "      <td>Asia Pacific Internet Group</td>\n",
       "      <td>Private Equity</td>\n",
       "      <td>4500000</td>\n",
       "      <td>NaN</td>\n",
       "    </tr>\n",
       "    <tr>\n",
       "      <th>2067</th>\n",
       "      <td>2067</td>\n",
       "      <td>3040</td>\n",
       "      <td>3040</td>\n",
       "      <td>3041</td>\n",
       "      <td>2015-01-29 00:00:00</td>\n",
       "      <td>Graphene</td>\n",
       "      <td>NaN</td>\n",
       "      <td>NaN</td>\n",
       "      <td>NaN</td>\n",
       "      <td>KARSEMVEN Fund</td>\n",
       "      <td>Private Equity</td>\n",
       "      <td>825000</td>\n",
       "      <td>Govt backed VC Fund</td>\n",
       "    </tr>\n",
       "    <tr>\n",
       "      <th>2068</th>\n",
       "      <td>2068</td>\n",
       "      <td>3041</td>\n",
       "      <td>3041</td>\n",
       "      <td>3042</td>\n",
       "      <td>2015-01-30 00:00:00</td>\n",
       "      <td>Mad Street Den</td>\n",
       "      <td>NaN</td>\n",
       "      <td>NaN</td>\n",
       "      <td>NaN</td>\n",
       "      <td>Exfinity Fund, GrowX Ventures.</td>\n",
       "      <td>Private Equity</td>\n",
       "      <td>1500000</td>\n",
       "      <td>NaN</td>\n",
       "    </tr>\n",
       "    <tr>\n",
       "      <th>2069</th>\n",
       "      <td>2069</td>\n",
       "      <td>3043</td>\n",
       "      <td>3043</td>\n",
       "      <td>3044</td>\n",
       "      <td>2015-01-31 00:00:00</td>\n",
       "      <td>couponmachine.in</td>\n",
       "      <td>NaN</td>\n",
       "      <td>NaN</td>\n",
       "      <td>NaN</td>\n",
       "      <td>UK based Group of Angel Investors</td>\n",
       "      <td>Seed Funding</td>\n",
       "      <td>140000</td>\n",
       "      <td>NaN</td>\n",
       "    </tr>\n",
       "  </tbody>\n",
       "</table>\n",
       "<p>2070 rows × 13 columns</p>\n",
       "</div>"
      ],
      "text/plain": [
       "      Unnamed: 0  Unnamed: 0.1  Unnamed: 0.1.1  Sr No      Date dd/mm/yyyy  \\\n",
       "0              0             0               0      1  2020-01-09 00:00:00   \n",
       "1              1             1               1      2  2020-01-13 00:00:00   \n",
       "2              2             2               2      3  2020-01-09 00:00:00   \n",
       "3              3             3               3      4  2020-01-02 00:00:00   \n",
       "4              4             4               4      5  2020-01-02 00:00:00   \n",
       "...          ...           ...             ...    ...                  ...   \n",
       "2065        2065          3038            3038   3039  2015-01-28 00:00:00   \n",
       "2066        2066          3039            3039   3040  2015-01-29 00:00:00   \n",
       "2067        2067          3040            3040   3041  2015-01-29 00:00:00   \n",
       "2068        2068          3041            3041   3042  2015-01-30 00:00:00   \n",
       "2069        2069          3043            3043   3044  2015-01-31 00:00:00   \n",
       "\n",
       "                      Startup Name    Industry Vertical  \\\n",
       "0                           BYJU’S               E-Tech   \n",
       "1                           Shuttl       Transportation   \n",
       "2                        Mamaearth           E-commerce   \n",
       "3     https://www.wealthbucket.in/              FinTech   \n",
       "4                           Fashor  Fashion and Apparel   \n",
       "...                            ...                  ...   \n",
       "2065                 Grabhouse.com                  NaN   \n",
       "2066                    Printvenue                  NaN   \n",
       "2067                      Graphene                  NaN   \n",
       "2068                Mad Street Den                  NaN   \n",
       "2069              couponmachine.in                  NaN   \n",
       "\n",
       "                                SubVertical City  Location  \\\n",
       "0                                E-learning      Bengaluru   \n",
       "1                 App based shuttle service        Gurgaon   \n",
       "2     Retailer of baby and toddler products      Bengaluru   \n",
       "3                         Online Investment      New Delhi   \n",
       "4               Embroiled Clothes For Women         Mumbai   \n",
       "...                                     ...            ...   \n",
       "2065                                    NaN            NaN   \n",
       "2066                                    NaN            NaN   \n",
       "2067                                    NaN            NaN   \n",
       "2068                                    NaN            NaN   \n",
       "2069                                    NaN            NaN   \n",
       "\n",
       "                         Investors Name       InvestmentnType  Amount in USD  \\\n",
       "0               Tiger Global Management  Private Equity Round      200000000   \n",
       "1             Susquehanna Growth Equity              Series C        8048394   \n",
       "2                 Sequoia Capital India              Series B       18358860   \n",
       "3                        Vinod Khatumal          Pre-series A        3000000   \n",
       "4               Sprout Venture Partners          Seed Funding        1800000   \n",
       "...                                 ...                   ...            ...   \n",
       "2065   Kalaari Capital, Sequoia Capital        Private Equity        2500000   \n",
       "2066        Asia Pacific Internet Group        Private Equity        4500000   \n",
       "2067                     KARSEMVEN Fund        Private Equity         825000   \n",
       "2068     Exfinity Fund, GrowX Ventures.        Private Equity        1500000   \n",
       "2069  UK based Group of Angel Investors          Seed Funding         140000   \n",
       "\n",
       "                  Remarks  \n",
       "0                     NaN  \n",
       "1                     NaN  \n",
       "2                     NaN  \n",
       "3                     NaN  \n",
       "4                     NaN  \n",
       "...                   ...  \n",
       "2065             Series A  \n",
       "2066                  NaN  \n",
       "2067  Govt backed VC Fund  \n",
       "2068                  NaN  \n",
       "2069                  NaN  \n",
       "\n",
       "[2070 rows x 13 columns]"
      ]
     },
     "execution_count": 152,
     "metadata": {},
     "output_type": "execute_result"
    }
   ],
   "source": [
    "New_DF"
   ]
  },
  {
   "cell_type": "code",
   "execution_count": 153,
   "id": "489253aa",
   "metadata": {},
   "outputs": [],
   "source": [
    "TryDF = New_DF['Amount in USD'].dropna()"
   ]
  },
  {
   "cell_type": "code",
   "execution_count": 154,
   "id": "5cffef1e",
   "metadata": {},
   "outputs": [
    {
     "data": {
      "text/html": [
       "<div>\n",
       "<style scoped>\n",
       "    .dataframe tbody tr th:only-of-type {\n",
       "        vertical-align: middle;\n",
       "    }\n",
       "\n",
       "    .dataframe tbody tr th {\n",
       "        vertical-align: top;\n",
       "    }\n",
       "\n",
       "    .dataframe thead th {\n",
       "        text-align: right;\n",
       "    }\n",
       "</style>\n",
       "<table border=\"1\" class=\"dataframe\">\n",
       "  <thead>\n",
       "    <tr style=\"text-align: right;\">\n",
       "      <th></th>\n",
       "      <th>Unnamed: 0</th>\n",
       "      <th>Unnamed: 0.1</th>\n",
       "      <th>Unnamed: 0.1.1</th>\n",
       "      <th>Sr No</th>\n",
       "      <th>Date dd/mm/yyyy</th>\n",
       "      <th>Startup Name</th>\n",
       "      <th>Industry Vertical</th>\n",
       "      <th>SubVertical</th>\n",
       "      <th>City  Location</th>\n",
       "      <th>Investors Name</th>\n",
       "      <th>InvestmentnType</th>\n",
       "      <th>Amount in USD</th>\n",
       "      <th>Remarks</th>\n",
       "    </tr>\n",
       "  </thead>\n",
       "  <tbody>\n",
       "    <tr>\n",
       "      <th>0</th>\n",
       "      <td>0</td>\n",
       "      <td>0</td>\n",
       "      <td>0</td>\n",
       "      <td>1</td>\n",
       "      <td>2020-01-09 00:00:00</td>\n",
       "      <td>BYJU’S</td>\n",
       "      <td>E-Tech</td>\n",
       "      <td>E-learning</td>\n",
       "      <td>Bengaluru</td>\n",
       "      <td>Tiger Global Management</td>\n",
       "      <td>Private Equity Round</td>\n",
       "      <td>200000000</td>\n",
       "      <td>NaN</td>\n",
       "    </tr>\n",
       "    <tr>\n",
       "      <th>1</th>\n",
       "      <td>1</td>\n",
       "      <td>1</td>\n",
       "      <td>1</td>\n",
       "      <td>2</td>\n",
       "      <td>2020-01-13 00:00:00</td>\n",
       "      <td>Shuttl</td>\n",
       "      <td>Transportation</td>\n",
       "      <td>App based shuttle service</td>\n",
       "      <td>Gurgaon</td>\n",
       "      <td>Susquehanna Growth Equity</td>\n",
       "      <td>Series C</td>\n",
       "      <td>8048394</td>\n",
       "      <td>NaN</td>\n",
       "    </tr>\n",
       "    <tr>\n",
       "      <th>2</th>\n",
       "      <td>2</td>\n",
       "      <td>2</td>\n",
       "      <td>2</td>\n",
       "      <td>3</td>\n",
       "      <td>2020-01-09 00:00:00</td>\n",
       "      <td>Mamaearth</td>\n",
       "      <td>E-commerce</td>\n",
       "      <td>Retailer of baby and toddler products</td>\n",
       "      <td>Bengaluru</td>\n",
       "      <td>Sequoia Capital India</td>\n",
       "      <td>Series B</td>\n",
       "      <td>18358860</td>\n",
       "      <td>NaN</td>\n",
       "    </tr>\n",
       "    <tr>\n",
       "      <th>3</th>\n",
       "      <td>3</td>\n",
       "      <td>3</td>\n",
       "      <td>3</td>\n",
       "      <td>4</td>\n",
       "      <td>2020-01-02 00:00:00</td>\n",
       "      <td>https://www.wealthbucket.in/</td>\n",
       "      <td>FinTech</td>\n",
       "      <td>Online Investment</td>\n",
       "      <td>New Delhi</td>\n",
       "      <td>Vinod Khatumal</td>\n",
       "      <td>Pre-series A</td>\n",
       "      <td>3000000</td>\n",
       "      <td>NaN</td>\n",
       "    </tr>\n",
       "    <tr>\n",
       "      <th>4</th>\n",
       "      <td>4</td>\n",
       "      <td>4</td>\n",
       "      <td>4</td>\n",
       "      <td>5</td>\n",
       "      <td>2020-01-02 00:00:00</td>\n",
       "      <td>Fashor</td>\n",
       "      <td>Fashion and Apparel</td>\n",
       "      <td>Embroiled Clothes For Women</td>\n",
       "      <td>Mumbai</td>\n",
       "      <td>Sprout Venture Partners</td>\n",
       "      <td>Seed Funding</td>\n",
       "      <td>1800000</td>\n",
       "      <td>NaN</td>\n",
       "    </tr>\n",
       "    <tr>\n",
       "      <th>...</th>\n",
       "      <td>...</td>\n",
       "      <td>...</td>\n",
       "      <td>...</td>\n",
       "      <td>...</td>\n",
       "      <td>...</td>\n",
       "      <td>...</td>\n",
       "      <td>...</td>\n",
       "      <td>...</td>\n",
       "      <td>...</td>\n",
       "      <td>...</td>\n",
       "      <td>...</td>\n",
       "      <td>...</td>\n",
       "      <td>...</td>\n",
       "    </tr>\n",
       "    <tr>\n",
       "      <th>2065</th>\n",
       "      <td>2065</td>\n",
       "      <td>3038</td>\n",
       "      <td>3038</td>\n",
       "      <td>3039</td>\n",
       "      <td>2015-01-28 00:00:00</td>\n",
       "      <td>Grabhouse.com</td>\n",
       "      <td>NaN</td>\n",
       "      <td>NaN</td>\n",
       "      <td>NaN</td>\n",
       "      <td>Kalaari Capital, Sequoia Capital</td>\n",
       "      <td>Private Equity</td>\n",
       "      <td>2500000</td>\n",
       "      <td>Series A</td>\n",
       "    </tr>\n",
       "    <tr>\n",
       "      <th>2066</th>\n",
       "      <td>2066</td>\n",
       "      <td>3039</td>\n",
       "      <td>3039</td>\n",
       "      <td>3040</td>\n",
       "      <td>2015-01-29 00:00:00</td>\n",
       "      <td>Printvenue</td>\n",
       "      <td>NaN</td>\n",
       "      <td>NaN</td>\n",
       "      <td>NaN</td>\n",
       "      <td>Asia Pacific Internet Group</td>\n",
       "      <td>Private Equity</td>\n",
       "      <td>4500000</td>\n",
       "      <td>NaN</td>\n",
       "    </tr>\n",
       "    <tr>\n",
       "      <th>2067</th>\n",
       "      <td>2067</td>\n",
       "      <td>3040</td>\n",
       "      <td>3040</td>\n",
       "      <td>3041</td>\n",
       "      <td>2015-01-29 00:00:00</td>\n",
       "      <td>Graphene</td>\n",
       "      <td>NaN</td>\n",
       "      <td>NaN</td>\n",
       "      <td>NaN</td>\n",
       "      <td>KARSEMVEN Fund</td>\n",
       "      <td>Private Equity</td>\n",
       "      <td>825000</td>\n",
       "      <td>Govt backed VC Fund</td>\n",
       "    </tr>\n",
       "    <tr>\n",
       "      <th>2068</th>\n",
       "      <td>2068</td>\n",
       "      <td>3041</td>\n",
       "      <td>3041</td>\n",
       "      <td>3042</td>\n",
       "      <td>2015-01-30 00:00:00</td>\n",
       "      <td>Mad Street Den</td>\n",
       "      <td>NaN</td>\n",
       "      <td>NaN</td>\n",
       "      <td>NaN</td>\n",
       "      <td>Exfinity Fund, GrowX Ventures.</td>\n",
       "      <td>Private Equity</td>\n",
       "      <td>1500000</td>\n",
       "      <td>NaN</td>\n",
       "    </tr>\n",
       "    <tr>\n",
       "      <th>2069</th>\n",
       "      <td>2069</td>\n",
       "      <td>3043</td>\n",
       "      <td>3043</td>\n",
       "      <td>3044</td>\n",
       "      <td>2015-01-31 00:00:00</td>\n",
       "      <td>couponmachine.in</td>\n",
       "      <td>NaN</td>\n",
       "      <td>NaN</td>\n",
       "      <td>NaN</td>\n",
       "      <td>UK based Group of Angel Investors</td>\n",
       "      <td>Seed Funding</td>\n",
       "      <td>140000</td>\n",
       "      <td>NaN</td>\n",
       "    </tr>\n",
       "  </tbody>\n",
       "</table>\n",
       "<p>2070 rows × 13 columns</p>\n",
       "</div>"
      ],
      "text/plain": [
       "      Unnamed: 0  Unnamed: 0.1  Unnamed: 0.1.1  Sr No      Date dd/mm/yyyy  \\\n",
       "0              0             0               0      1  2020-01-09 00:00:00   \n",
       "1              1             1               1      2  2020-01-13 00:00:00   \n",
       "2              2             2               2      3  2020-01-09 00:00:00   \n",
       "3              3             3               3      4  2020-01-02 00:00:00   \n",
       "4              4             4               4      5  2020-01-02 00:00:00   \n",
       "...          ...           ...             ...    ...                  ...   \n",
       "2065        2065          3038            3038   3039  2015-01-28 00:00:00   \n",
       "2066        2066          3039            3039   3040  2015-01-29 00:00:00   \n",
       "2067        2067          3040            3040   3041  2015-01-29 00:00:00   \n",
       "2068        2068          3041            3041   3042  2015-01-30 00:00:00   \n",
       "2069        2069          3043            3043   3044  2015-01-31 00:00:00   \n",
       "\n",
       "                      Startup Name    Industry Vertical  \\\n",
       "0                           BYJU’S               E-Tech   \n",
       "1                           Shuttl       Transportation   \n",
       "2                        Mamaearth           E-commerce   \n",
       "3     https://www.wealthbucket.in/              FinTech   \n",
       "4                           Fashor  Fashion and Apparel   \n",
       "...                            ...                  ...   \n",
       "2065                 Grabhouse.com                  NaN   \n",
       "2066                    Printvenue                  NaN   \n",
       "2067                      Graphene                  NaN   \n",
       "2068                Mad Street Den                  NaN   \n",
       "2069              couponmachine.in                  NaN   \n",
       "\n",
       "                                SubVertical City  Location  \\\n",
       "0                                E-learning      Bengaluru   \n",
       "1                 App based shuttle service        Gurgaon   \n",
       "2     Retailer of baby and toddler products      Bengaluru   \n",
       "3                         Online Investment      New Delhi   \n",
       "4               Embroiled Clothes For Women         Mumbai   \n",
       "...                                     ...            ...   \n",
       "2065                                    NaN            NaN   \n",
       "2066                                    NaN            NaN   \n",
       "2067                                    NaN            NaN   \n",
       "2068                                    NaN            NaN   \n",
       "2069                                    NaN            NaN   \n",
       "\n",
       "                         Investors Name       InvestmentnType  Amount in USD  \\\n",
       "0               Tiger Global Management  Private Equity Round      200000000   \n",
       "1             Susquehanna Growth Equity              Series C        8048394   \n",
       "2                 Sequoia Capital India              Series B       18358860   \n",
       "3                        Vinod Khatumal          Pre-series A        3000000   \n",
       "4               Sprout Venture Partners          Seed Funding        1800000   \n",
       "...                                 ...                   ...            ...   \n",
       "2065   Kalaari Capital, Sequoia Capital        Private Equity        2500000   \n",
       "2066        Asia Pacific Internet Group        Private Equity        4500000   \n",
       "2067                     KARSEMVEN Fund        Private Equity         825000   \n",
       "2068     Exfinity Fund, GrowX Ventures.        Private Equity        1500000   \n",
       "2069  UK based Group of Angel Investors          Seed Funding         140000   \n",
       "\n",
       "                  Remarks  \n",
       "0                     NaN  \n",
       "1                     NaN  \n",
       "2                     NaN  \n",
       "3                     NaN  \n",
       "4                     NaN  \n",
       "...                   ...  \n",
       "2065             Series A  \n",
       "2066                  NaN  \n",
       "2067  Govt backed VC Fund  \n",
       "2068                  NaN  \n",
       "2069                  NaN  \n",
       "\n",
       "[2070 rows x 13 columns]"
      ]
     },
     "execution_count": 154,
     "metadata": {},
     "output_type": "execute_result"
    }
   ],
   "source": [
    "New_DF.dropna(axis = 1, how = 'all')"
   ]
  },
  {
   "cell_type": "code",
   "execution_count": 155,
   "id": "3cdce683",
   "metadata": {},
   "outputs": [],
   "source": [
    "df_dropped = New_DF.dropna(subset=['Amount in USD'])"
   ]
  },
  {
   "cell_type": "code",
   "execution_count": 156,
   "id": "c97dcb6e",
   "metadata": {},
   "outputs": [
    {
     "data": {
      "text/html": [
       "<div>\n",
       "<style scoped>\n",
       "    .dataframe tbody tr th:only-of-type {\n",
       "        vertical-align: middle;\n",
       "    }\n",
       "\n",
       "    .dataframe tbody tr th {\n",
       "        vertical-align: top;\n",
       "    }\n",
       "\n",
       "    .dataframe thead th {\n",
       "        text-align: right;\n",
       "    }\n",
       "</style>\n",
       "<table border=\"1\" class=\"dataframe\">\n",
       "  <thead>\n",
       "    <tr style=\"text-align: right;\">\n",
       "      <th></th>\n",
       "      <th>Unnamed: 0</th>\n",
       "      <th>Unnamed: 0.1</th>\n",
       "      <th>Unnamed: 0.1.1</th>\n",
       "      <th>Sr No</th>\n",
       "      <th>Date dd/mm/yyyy</th>\n",
       "      <th>Startup Name</th>\n",
       "      <th>Industry Vertical</th>\n",
       "      <th>SubVertical</th>\n",
       "      <th>City  Location</th>\n",
       "      <th>Investors Name</th>\n",
       "      <th>InvestmentnType</th>\n",
       "      <th>Amount in USD</th>\n",
       "      <th>Remarks</th>\n",
       "    </tr>\n",
       "  </thead>\n",
       "  <tbody>\n",
       "    <tr>\n",
       "      <th>0</th>\n",
       "      <td>0</td>\n",
       "      <td>0</td>\n",
       "      <td>0</td>\n",
       "      <td>1</td>\n",
       "      <td>2020-01-09 00:00:00</td>\n",
       "      <td>BYJU’S</td>\n",
       "      <td>E-Tech</td>\n",
       "      <td>E-learning</td>\n",
       "      <td>Bengaluru</td>\n",
       "      <td>Tiger Global Management</td>\n",
       "      <td>Private Equity Round</td>\n",
       "      <td>200000000</td>\n",
       "      <td>NaN</td>\n",
       "    </tr>\n",
       "    <tr>\n",
       "      <th>1</th>\n",
       "      <td>1</td>\n",
       "      <td>1</td>\n",
       "      <td>1</td>\n",
       "      <td>2</td>\n",
       "      <td>2020-01-13 00:00:00</td>\n",
       "      <td>Shuttl</td>\n",
       "      <td>Transportation</td>\n",
       "      <td>App based shuttle service</td>\n",
       "      <td>Gurgaon</td>\n",
       "      <td>Susquehanna Growth Equity</td>\n",
       "      <td>Series C</td>\n",
       "      <td>8048394</td>\n",
       "      <td>NaN</td>\n",
       "    </tr>\n",
       "    <tr>\n",
       "      <th>2</th>\n",
       "      <td>2</td>\n",
       "      <td>2</td>\n",
       "      <td>2</td>\n",
       "      <td>3</td>\n",
       "      <td>2020-01-09 00:00:00</td>\n",
       "      <td>Mamaearth</td>\n",
       "      <td>E-commerce</td>\n",
       "      <td>Retailer of baby and toddler products</td>\n",
       "      <td>Bengaluru</td>\n",
       "      <td>Sequoia Capital India</td>\n",
       "      <td>Series B</td>\n",
       "      <td>18358860</td>\n",
       "      <td>NaN</td>\n",
       "    </tr>\n",
       "    <tr>\n",
       "      <th>3</th>\n",
       "      <td>3</td>\n",
       "      <td>3</td>\n",
       "      <td>3</td>\n",
       "      <td>4</td>\n",
       "      <td>2020-01-02 00:00:00</td>\n",
       "      <td>https://www.wealthbucket.in/</td>\n",
       "      <td>FinTech</td>\n",
       "      <td>Online Investment</td>\n",
       "      <td>New Delhi</td>\n",
       "      <td>Vinod Khatumal</td>\n",
       "      <td>Pre-series A</td>\n",
       "      <td>3000000</td>\n",
       "      <td>NaN</td>\n",
       "    </tr>\n",
       "    <tr>\n",
       "      <th>4</th>\n",
       "      <td>4</td>\n",
       "      <td>4</td>\n",
       "      <td>4</td>\n",
       "      <td>5</td>\n",
       "      <td>2020-01-02 00:00:00</td>\n",
       "      <td>Fashor</td>\n",
       "      <td>Fashion and Apparel</td>\n",
       "      <td>Embroiled Clothes For Women</td>\n",
       "      <td>Mumbai</td>\n",
       "      <td>Sprout Venture Partners</td>\n",
       "      <td>Seed Funding</td>\n",
       "      <td>1800000</td>\n",
       "      <td>NaN</td>\n",
       "    </tr>\n",
       "    <tr>\n",
       "      <th>...</th>\n",
       "      <td>...</td>\n",
       "      <td>...</td>\n",
       "      <td>...</td>\n",
       "      <td>...</td>\n",
       "      <td>...</td>\n",
       "      <td>...</td>\n",
       "      <td>...</td>\n",
       "      <td>...</td>\n",
       "      <td>...</td>\n",
       "      <td>...</td>\n",
       "      <td>...</td>\n",
       "      <td>...</td>\n",
       "      <td>...</td>\n",
       "    </tr>\n",
       "    <tr>\n",
       "      <th>2065</th>\n",
       "      <td>2065</td>\n",
       "      <td>3038</td>\n",
       "      <td>3038</td>\n",
       "      <td>3039</td>\n",
       "      <td>2015-01-28 00:00:00</td>\n",
       "      <td>Grabhouse.com</td>\n",
       "      <td>NaN</td>\n",
       "      <td>NaN</td>\n",
       "      <td>NaN</td>\n",
       "      <td>Kalaari Capital, Sequoia Capital</td>\n",
       "      <td>Private Equity</td>\n",
       "      <td>2500000</td>\n",
       "      <td>Series A</td>\n",
       "    </tr>\n",
       "    <tr>\n",
       "      <th>2066</th>\n",
       "      <td>2066</td>\n",
       "      <td>3039</td>\n",
       "      <td>3039</td>\n",
       "      <td>3040</td>\n",
       "      <td>2015-01-29 00:00:00</td>\n",
       "      <td>Printvenue</td>\n",
       "      <td>NaN</td>\n",
       "      <td>NaN</td>\n",
       "      <td>NaN</td>\n",
       "      <td>Asia Pacific Internet Group</td>\n",
       "      <td>Private Equity</td>\n",
       "      <td>4500000</td>\n",
       "      <td>NaN</td>\n",
       "    </tr>\n",
       "    <tr>\n",
       "      <th>2067</th>\n",
       "      <td>2067</td>\n",
       "      <td>3040</td>\n",
       "      <td>3040</td>\n",
       "      <td>3041</td>\n",
       "      <td>2015-01-29 00:00:00</td>\n",
       "      <td>Graphene</td>\n",
       "      <td>NaN</td>\n",
       "      <td>NaN</td>\n",
       "      <td>NaN</td>\n",
       "      <td>KARSEMVEN Fund</td>\n",
       "      <td>Private Equity</td>\n",
       "      <td>825000</td>\n",
       "      <td>Govt backed VC Fund</td>\n",
       "    </tr>\n",
       "    <tr>\n",
       "      <th>2068</th>\n",
       "      <td>2068</td>\n",
       "      <td>3041</td>\n",
       "      <td>3041</td>\n",
       "      <td>3042</td>\n",
       "      <td>2015-01-30 00:00:00</td>\n",
       "      <td>Mad Street Den</td>\n",
       "      <td>NaN</td>\n",
       "      <td>NaN</td>\n",
       "      <td>NaN</td>\n",
       "      <td>Exfinity Fund, GrowX Ventures.</td>\n",
       "      <td>Private Equity</td>\n",
       "      <td>1500000</td>\n",
       "      <td>NaN</td>\n",
       "    </tr>\n",
       "    <tr>\n",
       "      <th>2069</th>\n",
       "      <td>2069</td>\n",
       "      <td>3043</td>\n",
       "      <td>3043</td>\n",
       "      <td>3044</td>\n",
       "      <td>2015-01-31 00:00:00</td>\n",
       "      <td>couponmachine.in</td>\n",
       "      <td>NaN</td>\n",
       "      <td>NaN</td>\n",
       "      <td>NaN</td>\n",
       "      <td>UK based Group of Angel Investors</td>\n",
       "      <td>Seed Funding</td>\n",
       "      <td>140000</td>\n",
       "      <td>NaN</td>\n",
       "    </tr>\n",
       "  </tbody>\n",
       "</table>\n",
       "<p>2070 rows × 13 columns</p>\n",
       "</div>"
      ],
      "text/plain": [
       "      Unnamed: 0  Unnamed: 0.1  Unnamed: 0.1.1  Sr No      Date dd/mm/yyyy  \\\n",
       "0              0             0               0      1  2020-01-09 00:00:00   \n",
       "1              1             1               1      2  2020-01-13 00:00:00   \n",
       "2              2             2               2      3  2020-01-09 00:00:00   \n",
       "3              3             3               3      4  2020-01-02 00:00:00   \n",
       "4              4             4               4      5  2020-01-02 00:00:00   \n",
       "...          ...           ...             ...    ...                  ...   \n",
       "2065        2065          3038            3038   3039  2015-01-28 00:00:00   \n",
       "2066        2066          3039            3039   3040  2015-01-29 00:00:00   \n",
       "2067        2067          3040            3040   3041  2015-01-29 00:00:00   \n",
       "2068        2068          3041            3041   3042  2015-01-30 00:00:00   \n",
       "2069        2069          3043            3043   3044  2015-01-31 00:00:00   \n",
       "\n",
       "                      Startup Name    Industry Vertical  \\\n",
       "0                           BYJU’S               E-Tech   \n",
       "1                           Shuttl       Transportation   \n",
       "2                        Mamaearth           E-commerce   \n",
       "3     https://www.wealthbucket.in/              FinTech   \n",
       "4                           Fashor  Fashion and Apparel   \n",
       "...                            ...                  ...   \n",
       "2065                 Grabhouse.com                  NaN   \n",
       "2066                    Printvenue                  NaN   \n",
       "2067                      Graphene                  NaN   \n",
       "2068                Mad Street Den                  NaN   \n",
       "2069              couponmachine.in                  NaN   \n",
       "\n",
       "                                SubVertical City  Location  \\\n",
       "0                                E-learning      Bengaluru   \n",
       "1                 App based shuttle service        Gurgaon   \n",
       "2     Retailer of baby and toddler products      Bengaluru   \n",
       "3                         Online Investment      New Delhi   \n",
       "4               Embroiled Clothes For Women         Mumbai   \n",
       "...                                     ...            ...   \n",
       "2065                                    NaN            NaN   \n",
       "2066                                    NaN            NaN   \n",
       "2067                                    NaN            NaN   \n",
       "2068                                    NaN            NaN   \n",
       "2069                                    NaN            NaN   \n",
       "\n",
       "                         Investors Name       InvestmentnType  Amount in USD  \\\n",
       "0               Tiger Global Management  Private Equity Round      200000000   \n",
       "1             Susquehanna Growth Equity              Series C        8048394   \n",
       "2                 Sequoia Capital India              Series B       18358860   \n",
       "3                        Vinod Khatumal          Pre-series A        3000000   \n",
       "4               Sprout Venture Partners          Seed Funding        1800000   \n",
       "...                                 ...                   ...            ...   \n",
       "2065   Kalaari Capital, Sequoia Capital        Private Equity        2500000   \n",
       "2066        Asia Pacific Internet Group        Private Equity        4500000   \n",
       "2067                     KARSEMVEN Fund        Private Equity         825000   \n",
       "2068     Exfinity Fund, GrowX Ventures.        Private Equity        1500000   \n",
       "2069  UK based Group of Angel Investors          Seed Funding         140000   \n",
       "\n",
       "                  Remarks  \n",
       "0                     NaN  \n",
       "1                     NaN  \n",
       "2                     NaN  \n",
       "3                     NaN  \n",
       "4                     NaN  \n",
       "...                   ...  \n",
       "2065             Series A  \n",
       "2066                  NaN  \n",
       "2067  Govt backed VC Fund  \n",
       "2068                  NaN  \n",
       "2069                  NaN  \n",
       "\n",
       "[2070 rows x 13 columns]"
      ]
     },
     "execution_count": 156,
     "metadata": {},
     "output_type": "execute_result"
    }
   ],
   "source": [
    "df_dropped"
   ]
  },
  {
   "cell_type": "code",
   "execution_count": 157,
   "id": "19772a6e",
   "metadata": {},
   "outputs": [
    {
     "data": {
      "text/plain": [
       "False    2070\n",
       "Name: Amount in USD, dtype: int64"
      ]
     },
     "execution_count": 157,
     "metadata": {},
     "output_type": "execute_result"
    }
   ],
   "source": [
    "df_dropped['Amount in USD'].isnull().value_counts()"
   ]
  },
  {
   "cell_type": "code",
   "execution_count": 158,
   "id": "0cf83aa8",
   "metadata": {},
   "outputs": [
    {
     "data": {
      "text/plain": [
       "(2070, 13)"
      ]
     },
     "execution_count": 158,
     "metadata": {},
     "output_type": "execute_result"
    }
   ],
   "source": [
    "df_dropped.shape"
   ]
  },
  {
   "cell_type": "code",
   "execution_count": 159,
   "id": "b5078f7f",
   "metadata": {},
   "outputs": [
    {
     "data": {
      "text/plain": [
       "Unnamed: 0            int64\n",
       "Unnamed: 0.1          int64\n",
       "Unnamed: 0.1.1        int64\n",
       "Sr No                 int64\n",
       "Date dd/mm/yyyy      object\n",
       "Startup Name         object\n",
       "Industry Vertical    object\n",
       "SubVertical          object\n",
       "City  Location       object\n",
       "Investors Name       object\n",
       "InvestmentnType      object\n",
       "Amount in USD         int64\n",
       "Remarks              object\n",
       "dtype: object"
      ]
     },
     "execution_count": 159,
     "metadata": {},
     "output_type": "execute_result"
    }
   ],
   "source": [
    "df_dropped.dtypes"
   ]
  },
  {
   "cell_type": "code",
   "execution_count": 160,
   "id": "dff06b47",
   "metadata": {},
   "outputs": [
    {
     "data": {
      "text/plain": [
       "['Unnamed: 0',\n",
       " 'Unnamed: 0.1',\n",
       " 'Unnamed: 0.1.1',\n",
       " 'Sr No',\n",
       " 'Date dd/mm/yyyy',\n",
       " 'Startup Name',\n",
       " 'Industry Vertical',\n",
       " 'SubVertical',\n",
       " 'City  Location',\n",
       " 'Investors Name',\n",
       " 'InvestmentnType',\n",
       " 'Amount in USD',\n",
       " 'Remarks']"
      ]
     },
     "execution_count": 160,
     "metadata": {},
     "output_type": "execute_result"
    }
   ],
   "source": [
    "list(df_dropped.columns)"
   ]
  },
  {
   "cell_type": "code",
   "execution_count": 162,
   "id": "a5eb7c76",
   "metadata": {},
   "outputs": [],
   "source": [
    "df_dropped.drop(labels='Unnamed: 0.1',inplace =True,axis = 1)"
   ]
  },
  {
   "cell_type": "code",
   "execution_count": 166,
   "id": "7105c32e",
   "metadata": {},
   "outputs": [
    {
     "name": "stdout",
     "output_type": "stream",
     "text": [
      "label not present\n"
     ]
    }
   ],
   "source": [
    "try:\n",
    "    df_dropped.drop(labels='Unnamed: 0',inplace =True,axis = 1)\n",
    "except:\n",
    "    print(\"label not present\")\n",
    "    "
   ]
  },
  {
   "cell_type": "code",
   "execution_count": 168,
   "id": "ba4b3d46",
   "metadata": {},
   "outputs": [
    {
     "name": "stdout",
     "output_type": "stream",
     "text": [
      "label not present\n"
     ]
    }
   ],
   "source": [
    "try:\n",
    "    df_dropped.drop(labels='Unnamed: 0.1.1',inplace =True,axis = 1)\n",
    "except:\n",
    "    print('label not present')"
   ]
  },
  {
   "cell_type": "code",
   "execution_count": 169,
   "id": "884e097a",
   "metadata": {},
   "outputs": [
    {
     "data": {
      "text/plain": [
       "['Sr No',\n",
       " 'Date dd/mm/yyyy',\n",
       " 'Startup Name',\n",
       " 'Industry Vertical',\n",
       " 'SubVertical',\n",
       " 'City  Location',\n",
       " 'Investors Name',\n",
       " 'InvestmentnType',\n",
       " 'Amount in USD',\n",
       " 'Remarks']"
      ]
     },
     "execution_count": 169,
     "metadata": {},
     "output_type": "execute_result"
    }
   ],
   "source": [
    "list(df_dropped.columns)"
   ]
  },
  {
   "cell_type": "code",
   "execution_count": 172,
   "id": "21168279",
   "metadata": {},
   "outputs": [
    {
     "data": {
      "text/plain": [
       "Private Equity                 1072\n",
       "Seed Funding                    747\n",
       "Seed Angel Funding              104\n",
       "Debt Funding                     24\n",
       "Series A                         22\n",
       "Series B                         20\n",
       "Series C                         14\n",
       "Series D                         12\n",
       "Private Equity Round              4\n",
       "Pre-Series A                      4\n",
       "Angel   Seed Funding              4\n",
       "Seed                              4\n",
       "Venture Round                     2\n",
       "Seed  Angel Funding               2\n",
       "pre-Series A                      2\n",
       "Series F                          2\n",
       "Equity                            2\n",
       "Series E                          2\n",
       "Private Funding                   1\n",
       "Equity Based Funding              1\n",
       "Term Loan                         1\n",
       "Private                           1\n",
       "Series B (Extension)              1\n",
       "Mezzanine                         1\n",
       "Structured Debt                   1\n",
       "Debt-Funding                      1\n",
       "Crowd funding                     1\n",
       "PrivateEquity                     1\n",
       "Series J                          1\n",
       "Inhouse Funding                   1\n",
       "Debt and Preference capital       1\n",
       "Venture - Series Unknown          1\n",
       "Angel Round                       1\n",
       "Angel                             1\n",
       "Corporate Round                   1\n",
       "Single Venture                    1\n",
       "Seed Funding Round                1\n",
       "pre-series A                      1\n",
       "Maiden Round                      1\n",
       "Funding Round                     1\n",
       "Series H                          1\n",
       "Series G                          1\n",
       "Pre-series A                      1\n",
       "Crowd Funding                     1\n",
       "Name: InvestmentnType, dtype: int64"
      ]
     },
     "execution_count": 172,
     "metadata": {},
     "output_type": "execute_result"
    }
   ],
   "source": [
    "df_dropped['InvestmentnType'].value_counts()"
   ]
  },
  {
   "cell_type": "code",
   "execution_count": 173,
   "id": "75a0cc5d",
   "metadata": {},
   "outputs": [],
   "source": [
    "for x in df_dropped['Amount in USD']:\n",
    "    if isinstance(x,float):\n",
    "        print(x)"
   ]
  },
  {
   "cell_type": "code",
   "execution_count": 174,
   "id": "c833b130",
   "metadata": {},
   "outputs": [],
   "source": [
    "for x in New_DF['Amount in USD']:\n",
    "    if isinstance(x,float):\n",
    "        print(x)"
   ]
  },
  {
   "cell_type": "code",
   "execution_count": 175,
   "id": "4515abcf",
   "metadata": {},
   "outputs": [],
   "source": [
    "tryDF = df_dropped[df_dropped['Amount in USD'] != float(4889975.54)]"
   ]
  },
  {
   "cell_type": "code",
   "execution_count": 176,
   "id": "b74e24a7",
   "metadata": {},
   "outputs": [],
   "source": [
    "tryDF = tryDF[tryDF['Amount in USD'] != float(2739034.68)]"
   ]
  },
  {
   "cell_type": "code",
   "execution_count": 177,
   "id": "c39b079c",
   "metadata": {},
   "outputs": [],
   "source": [
    "for x in tryDF['Amount in USD']:\n",
    "    if isinstance(x,float):\n",
    "        print(x)"
   ]
  },
  {
   "cell_type": "code",
   "execution_count": 178,
   "id": "c2801de3",
   "metadata": {},
   "outputs": [],
   "source": [
    "df_dropped = tryDF"
   ]
  },
  {
   "cell_type": "code",
   "execution_count": 179,
   "id": "b946edb4",
   "metadata": {},
   "outputs": [
    {
     "data": {
      "text/plain": [
       "0       200000000\n",
       "1         8048394\n",
       "2        18358860\n",
       "3         3000000\n",
       "4         1800000\n",
       "          ...    \n",
       "2065      2500000\n",
       "2066      4500000\n",
       "2067       825000\n",
       "2068      1500000\n",
       "2069       140000\n",
       "Name: Amount in USD, Length: 2070, dtype: int64"
      ]
     },
     "execution_count": 179,
     "metadata": {},
     "output_type": "execute_result"
    }
   ],
   "source": [
    "df_dropped['Amount in USD'].astype(str).astype('int64')"
   ]
  },
  {
   "cell_type": "code",
   "execution_count": 180,
   "id": "bd3d101b",
   "metadata": {},
   "outputs": [
    {
     "data": {
      "text/plain": [
       "Sr No                 int64\n",
       "Date dd/mm/yyyy      object\n",
       "Startup Name         object\n",
       "Industry Vertical    object\n",
       "SubVertical          object\n",
       "City  Location       object\n",
       "Investors Name       object\n",
       "InvestmentnType      object\n",
       "Amount in USD         int64\n",
       "Remarks              object\n",
       "dtype: object"
      ]
     },
     "execution_count": 180,
     "metadata": {},
     "output_type": "execute_result"
    }
   ],
   "source": [
    "df_dropped.dtypes"
   ]
  },
  {
   "cell_type": "markdown",
   "id": "18095e3b",
   "metadata": {},
   "source": [
    "### exporting the file to folder and saving the progress made"
   ]
  },
  {
   "cell_type": "code",
   "execution_count": 181,
   "id": "7beec0f6",
   "metadata": {},
   "outputs": [
    {
     "name": "stdout",
     "output_type": "stream",
     "text": [
      "File successfully exported\n"
     ]
    }
   ],
   "source": [
    "file_name = 'CleanedFinalDataSet1.xlsx'\n",
    "\n",
    "df_dropped.to_excel(file_name)\n",
    "\n",
    "print(\"File successfully exported\")"
   ]
  },
  {
   "cell_type": "code",
   "execution_count": 182,
   "id": "beb21b5a",
   "metadata": {},
   "outputs": [
    {
     "data": {
      "text/plain": [
       "Sr No                   0\n",
       "Date dd/mm/yyyy         0\n",
       "Startup Name            0\n",
       "Industry Vertical     131\n",
       "SubVertical           654\n",
       "City  Location        135\n",
       "Investors Name         20\n",
       "InvestmentnType         1\n",
       "Amount in USD           0\n",
       "Remarks              1729\n",
       "dtype: int64"
      ]
     },
     "execution_count": 182,
     "metadata": {},
     "output_type": "execute_result"
    }
   ],
   "source": [
    "df_dropped.isnull().sum()"
   ]
  },
  {
   "cell_type": "code",
   "execution_count": 183,
   "id": "69417654",
   "metadata": {},
   "outputs": [
    {
     "data": {
      "text/plain": [
       "Private Equity                 1072\n",
       "Seed Funding                    747\n",
       "Seed Angel Funding              104\n",
       "Debt Funding                     24\n",
       "Series A                         22\n",
       "Series B                         20\n",
       "Series C                         14\n",
       "Series D                         12\n",
       "Private Equity Round              4\n",
       "Pre-Series A                      4\n",
       "Angel   Seed Funding              4\n",
       "Seed                              4\n",
       "Venture Round                     2\n",
       "Seed  Angel Funding               2\n",
       "pre-Series A                      2\n",
       "Series F                          2\n",
       "Equity                            2\n",
       "Series E                          2\n",
       "Private Funding                   1\n",
       "Equity Based Funding              1\n",
       "Term Loan                         1\n",
       "Private                           1\n",
       "Series B (Extension)              1\n",
       "Mezzanine                         1\n",
       "Structured Debt                   1\n",
       "Debt-Funding                      1\n",
       "Crowd funding                     1\n",
       "PrivateEquity                     1\n",
       "Series J                          1\n",
       "Inhouse Funding                   1\n",
       "Debt and Preference capital       1\n",
       "Venture - Series Unknown          1\n",
       "Angel Round                       1\n",
       "Angel                             1\n",
       "Corporate Round                   1\n",
       "Single Venture                    1\n",
       "Seed Funding Round                1\n",
       "pre-series A                      1\n",
       "Maiden Round                      1\n",
       "Funding Round                     1\n",
       "Series H                          1\n",
       "Series G                          1\n",
       "Pre-series A                      1\n",
       "Crowd Funding                     1\n",
       "Name: InvestmentnType, dtype: int64"
      ]
     },
     "execution_count": 183,
     "metadata": {},
     "output_type": "execute_result"
    }
   ],
   "source": [
    "df_dropped['InvestmentnType'].value_counts()"
   ]
  },
  {
   "cell_type": "code",
   "execution_count": 184,
   "id": "5aa59a8e",
   "metadata": {},
   "outputs": [
    {
     "data": {
      "text/plain": [
       "Sr No                 int64\n",
       "Date dd/mm/yyyy      object\n",
       "Startup Name         object\n",
       "Industry Vertical    object\n",
       "SubVertical          object\n",
       "City  Location       object\n",
       "Investors Name       object\n",
       "InvestmentnType      object\n",
       "Amount in USD         int64\n",
       "Remarks              object\n",
       "dtype: object"
      ]
     },
     "execution_count": 184,
     "metadata": {},
     "output_type": "execute_result"
    }
   ],
   "source": [
    "df_dropped.dtypes\n"
   ]
  },
  {
   "cell_type": "code",
   "execution_count": 185,
   "id": "b6377afd",
   "metadata": {},
   "outputs": [
    {
     "data": {
      "text/plain": [
       "[<matplotlib.lines.Line2D at 0x1c448c2c040>]"
      ]
     },
     "execution_count": 185,
     "metadata": {},
     "output_type": "execute_result"
    },
    {
     "data": {
      "image/png": "[encoded data removed]",
      "text/plain": [
       "<Figure size 432x288 with 1 Axes>"
      ]
     },
     "metadata": {
      "needs_background": "light"
     },
     "output_type": "display_data"
    }
   ],
   "source": [
    "plt.plot(df_dropped['City  Location'].value_counts().head(7))"
   ]
  },
  {
   "cell_type": "code",
   "execution_count": 187,
   "id": "ea0b1e7b",
   "metadata": {},
   "outputs": [],
   "source": [
    "df_dropped[\"WithinRange\"] = df_dropped['Amount in USD'].between(0,250000)"
   ]
  },
  {
   "cell_type": "code",
   "execution_count": 188,
   "id": "6f1b8783",
   "metadata": {},
   "outputs": [
    {
     "name": "stdout",
     "output_type": "stream",
     "text": [
      "<class 'pandas.core.frame.DataFrame'>\n",
      "Int64Index: 2070 entries, 0 to 2069\n",
      "Data columns (total 11 columns):\n",
      " #   Column             Non-Null Count  Dtype \n",
      "---  ------             --------------  ----- \n",
      " 0   Sr No              2070 non-null   int64 \n",
      " 1   Date dd/mm/yyyy    2070 non-null   object\n",
      " 2   Startup Name       2070 non-null   object\n",
      " 3   Industry Vertical  1939 non-null   object\n",
      " 4   SubVertical        1416 non-null   object\n",
      " 5   City  Location     1935 non-null   object\n",
      " 6   Investors Name     2050 non-null   object\n",
      " 7   InvestmentnType    2069 non-null   object\n",
      " 8   Amount in USD      2070 non-null   int64 \n",
      " 9   Remarks            341 non-null    object\n",
      " 10  WithinRange        2070 non-null   bool  \n",
      "dtypes: bool(1), int64(2), object(8)\n",
      "memory usage: 179.9+ KB\n"
     ]
    }
   ],
   "source": [
    "df_dropped.info()"
   ]
  },
  {
   "cell_type": "code",
   "execution_count": 189,
   "id": "b7c42bcb",
   "metadata": {},
   "outputs": [],
   "source": [
    "tryDF = df_dropped[df_dropped['WithinRange']==True]"
   ]
  },
  {
   "cell_type": "code",
   "execution_count": 190,
   "id": "2ea3de9f",
   "metadata": {},
   "outputs": [
    {
     "data": {
      "text/html": [
       "<div>\n",
       "<style scoped>\n",
       "    .dataframe tbody tr th:only-of-type {\n",
       "        vertical-align: middle;\n",
       "    }\n",
       "\n",
       "    .dataframe tbody tr th {\n",
       "        vertical-align: top;\n",
       "    }\n",
       "\n",
       "    .dataframe thead th {\n",
       "        text-align: right;\n",
       "    }\n",
       "</style>\n",
       "<table border=\"1\" class=\"dataframe\">\n",
       "  <thead>\n",
       "    <tr style=\"text-align: right;\">\n",
       "      <th></th>\n",
       "      <th>Sr No</th>\n",
       "      <th>Date dd/mm/yyyy</th>\n",
       "      <th>Startup Name</th>\n",
       "      <th>Industry Vertical</th>\n",
       "      <th>SubVertical</th>\n",
       "      <th>City  Location</th>\n",
       "      <th>Investors Name</th>\n",
       "      <th>InvestmentnType</th>\n",
       "      <th>Amount in USD</th>\n",
       "      <th>Remarks</th>\n",
       "      <th>WithinRange</th>\n",
       "    </tr>\n",
       "  </thead>\n",
       "  <tbody>\n",
       "    <tr>\n",
       "      <th>60</th>\n",
       "      <td>64</td>\n",
       "      <td>2019-07-01 00:00:00</td>\n",
       "      <td>WizCounsel</td>\n",
       "      <td>Compliance</td>\n",
       "      <td>Consulting</td>\n",
       "      <td>New Delhi</td>\n",
       "      <td>Kapil Dev</td>\n",
       "      <td>Angel</td>\n",
       "      <td>145000</td>\n",
       "      <td>NaN</td>\n",
       "      <td>True</td>\n",
       "    </tr>\n",
       "    <tr>\n",
       "      <th>95</th>\n",
       "      <td>103</td>\n",
       "      <td>2019-04-12 00:00:00</td>\n",
       "      <td>Azah</td>\n",
       "      <td>Health and Wellness</td>\n",
       "      <td>Organic wellness</td>\n",
       "      <td>Gurugram</td>\n",
       "      <td>Unnamed angel investors</td>\n",
       "      <td>Seed Funding</td>\n",
       "      <td>200000</td>\n",
       "      <td>NaN</td>\n",
       "      <td>True</td>\n",
       "    </tr>\n",
       "    <tr>\n",
       "      <th>114</th>\n",
       "      <td>124</td>\n",
       "      <td>2018-12-04 00:00:00</td>\n",
       "      <td>Nagpur Wholesale</td>\n",
       "      <td>Online Marketplace</td>\n",
       "      <td>eCommerce</td>\n",
       "      <td>Nagpur</td>\n",
       "      <td>Omphalos Ventures India LLP</td>\n",
       "      <td>Seed Funding</td>\n",
       "      <td>143000</td>\n",
       "      <td>NaN</td>\n",
       "      <td>True</td>\n",
       "    </tr>\n",
       "    <tr>\n",
       "      <th>117</th>\n",
       "      <td>127</td>\n",
       "      <td>2018-11-01 00:00:00</td>\n",
       "      <td>GoDesi</td>\n",
       "      <td>Food and Beverage</td>\n",
       "      <td>Regional Flavours</td>\n",
       "      <td>Bengaluru</td>\n",
       "      <td>Lead Angels Network</td>\n",
       "      <td>Seed Angel Funding</td>\n",
       "      <td>138995</td>\n",
       "      <td>NaN</td>\n",
       "      <td>True</td>\n",
       "    </tr>\n",
       "    <tr>\n",
       "      <th>153</th>\n",
       "      <td>168</td>\n",
       "      <td>2018-08-03 00:00:00</td>\n",
       "      <td>ZiffyHomes</td>\n",
       "      <td>Consumer Internet</td>\n",
       "      <td>Online Home Rental Marketplace</td>\n",
       "      <td>Gurugram</td>\n",
       "      <td>Y Combinator</td>\n",
       "      <td>Private Equity</td>\n",
       "      <td>120000</td>\n",
       "      <td>NaN</td>\n",
       "      <td>True</td>\n",
       "    </tr>\n",
       "    <tr>\n",
       "      <th>...</th>\n",
       "      <td>...</td>\n",
       "      <td>...</td>\n",
       "      <td>...</td>\n",
       "      <td>...</td>\n",
       "      <td>...</td>\n",
       "      <td>...</td>\n",
       "      <td>...</td>\n",
       "      <td>...</td>\n",
       "      <td>...</td>\n",
       "      <td>...</td>\n",
       "      <td>...</td>\n",
       "    </tr>\n",
       "    <tr>\n",
       "      <th>2052</th>\n",
       "      <td>3021</td>\n",
       "      <td>2015-01-19 00:00:00</td>\n",
       "      <td>Enabli</td>\n",
       "      <td>NaN</td>\n",
       "      <td>NaN</td>\n",
       "      <td>NaN</td>\n",
       "      <td>Hyderabad Angels (at Startup Heroes event)</td>\n",
       "      <td>Seed Funding</td>\n",
       "      <td>16000</td>\n",
       "      <td>NaN</td>\n",
       "      <td>True</td>\n",
       "    </tr>\n",
       "    <tr>\n",
       "      <th>2053</th>\n",
       "      <td>3022</td>\n",
       "      <td>2015-01-19 00:00:00</td>\n",
       "      <td>CBS</td>\n",
       "      <td>NaN</td>\n",
       "      <td>NaN</td>\n",
       "      <td>NaN</td>\n",
       "      <td>Hyderabad Angels (at Startup Heroes event)</td>\n",
       "      <td>Seed Funding</td>\n",
       "      <td>16000</td>\n",
       "      <td>NaN</td>\n",
       "      <td>True</td>\n",
       "    </tr>\n",
       "    <tr>\n",
       "      <th>2055</th>\n",
       "      <td>3025</td>\n",
       "      <td>2015-01-20 00:00:00</td>\n",
       "      <td>HealthyWorld.in</td>\n",
       "      <td>NaN</td>\n",
       "      <td>NaN</td>\n",
       "      <td>NaN</td>\n",
       "      <td>Group of Angel Investors</td>\n",
       "      <td>Seed Funding</td>\n",
       "      <td>200000</td>\n",
       "      <td>NaN</td>\n",
       "      <td>True</td>\n",
       "    </tr>\n",
       "    <tr>\n",
       "      <th>2059</th>\n",
       "      <td>3030</td>\n",
       "      <td>22/01//2015</td>\n",
       "      <td>Corporate360</td>\n",
       "      <td>NaN</td>\n",
       "      <td>NaN</td>\n",
       "      <td>NaN</td>\n",
       "      <td>Group of Angel Investors</td>\n",
       "      <td>Seed Funding</td>\n",
       "      <td>200000</td>\n",
       "      <td>NaN</td>\n",
       "      <td>True</td>\n",
       "    </tr>\n",
       "    <tr>\n",
       "      <th>2069</th>\n",
       "      <td>3044</td>\n",
       "      <td>2015-01-31 00:00:00</td>\n",
       "      <td>couponmachine.in</td>\n",
       "      <td>NaN</td>\n",
       "      <td>NaN</td>\n",
       "      <td>NaN</td>\n",
       "      <td>UK based Group of Angel Investors</td>\n",
       "      <td>Seed Funding</td>\n",
       "      <td>140000</td>\n",
       "      <td>NaN</td>\n",
       "      <td>True</td>\n",
       "    </tr>\n",
       "  </tbody>\n",
       "</table>\n",
       "<p>352 rows × 11 columns</p>\n",
       "</div>"
      ],
      "text/plain": [
       "      Sr No      Date dd/mm/yyyy      Startup Name    Industry Vertical  \\\n",
       "60       64  2019-07-01 00:00:00        WizCounsel           Compliance   \n",
       "95      103  2019-04-12 00:00:00              Azah  Health and Wellness   \n",
       "114     124  2018-12-04 00:00:00  Nagpur Wholesale   Online Marketplace   \n",
       "117     127  2018-11-01 00:00:00            GoDesi    Food and Beverage   \n",
       "153     168  2018-08-03 00:00:00        ZiffyHomes    Consumer Internet   \n",
       "...     ...                  ...               ...                  ...   \n",
       "2052   3021  2015-01-19 00:00:00            Enabli                  NaN   \n",
       "2053   3022  2015-01-19 00:00:00               CBS                  NaN   \n",
       "2055   3025  2015-01-20 00:00:00   HealthyWorld.in                  NaN   \n",
       "2059   3030          22/01//2015      Corporate360                  NaN   \n",
       "2069   3044  2015-01-31 00:00:00  couponmachine.in                  NaN   \n",
       "\n",
       "                         SubVertical City  Location  \\\n",
       "60                        Consulting      New Delhi   \n",
       "95                  Organic wellness       Gurugram   \n",
       "114                        eCommerce         Nagpur   \n",
       "117                Regional Flavours      Bengaluru   \n",
       "153   Online Home Rental Marketplace       Gurugram   \n",
       "...                              ...            ...   \n",
       "2052                             NaN            NaN   \n",
       "2053                             NaN            NaN   \n",
       "2055                             NaN            NaN   \n",
       "2059                             NaN            NaN   \n",
       "2069                             NaN            NaN   \n",
       "\n",
       "                                  Investors Name     InvestmentnType  \\\n",
       "60                                     Kapil Dev               Angel   \n",
       "95                       Unnamed angel investors        Seed Funding   \n",
       "114                  Omphalos Ventures India LLP        Seed Funding   \n",
       "117                          Lead Angels Network  Seed Angel Funding   \n",
       "153                                 Y Combinator      Private Equity   \n",
       "...                                          ...                 ...   \n",
       "2052  Hyderabad Angels (at Startup Heroes event)        Seed Funding   \n",
       "2053  Hyderabad Angels (at Startup Heroes event)        Seed Funding   \n",
       "2055                    Group of Angel Investors        Seed Funding   \n",
       "2059                    Group of Angel Investors        Seed Funding   \n",
       "2069           UK based Group of Angel Investors        Seed Funding   \n",
       "\n",
       "      Amount in USD Remarks  WithinRange  \n",
       "60           145000     NaN         True  \n",
       "95           200000     NaN         True  \n",
       "114          143000     NaN         True  \n",
       "117          138995     NaN         True  \n",
       "153          120000     NaN         True  \n",
       "...             ...     ...          ...  \n",
       "2052          16000     NaN         True  \n",
       "2053          16000     NaN         True  \n",
       "2055         200000     NaN         True  \n",
       "2059         200000     NaN         True  \n",
       "2069         140000     NaN         True  \n",
       "\n",
       "[352 rows x 11 columns]"
      ]
     },
     "execution_count": 190,
     "metadata": {},
     "output_type": "execute_result"
    }
   ],
   "source": [
    "tryDF"
   ]
  },
  {
   "cell_type": "code",
   "execution_count": 191,
   "id": "4d8a26fb",
   "metadata": {},
   "outputs": [],
   "source": [
    "df = tryDF"
   ]
  },
  {
   "cell_type": "code",
   "execution_count": 192,
   "id": "3ccdb390",
   "metadata": {},
   "outputs": [],
   "source": [
    "df.to_excel('FinalSheet.xlsx')"
   ]
  },
  {
   "cell_type": "code",
   "execution_count": 193,
   "id": "91bd3aa7",
   "metadata": {
    "scrolled": true
   },
   "outputs": [
    {
     "name": "stdout",
     "output_type": "stream",
     "text": [
      "<class 'pandas.core.frame.DataFrame'>\n",
      "Int64Index: 352 entries, 60 to 2069\n",
      "Data columns (total 11 columns):\n",
      " #   Column             Non-Null Count  Dtype \n",
      "---  ------             --------------  ----- \n",
      " 0   Sr No              352 non-null    int64 \n",
      " 1   Date dd/mm/yyyy    352 non-null    object\n",
      " 2   Startup Name       352 non-null    object\n",
      " 3   Industry Vertical  317 non-null    object\n",
      " 4   SubVertical        228 non-null    object\n",
      " 5   City  Location     315 non-null    object\n",
      " 6   Investors Name     347 non-null    object\n",
      " 7   InvestmentnType    352 non-null    object\n",
      " 8   Amount in USD      352 non-null    int64 \n",
      " 9   Remarks            12 non-null     object\n",
      " 10  WithinRange        352 non-null    bool  \n",
      "dtypes: bool(1), int64(2), object(8)\n",
      "memory usage: 30.6+ KB\n"
     ]
    }
   ],
   "source": [
    "df[\"Industry Vertical\"]"
   ]
  },
  {
   "cell_type": "code",
   "execution_count": 196,
   "id": "00efeba3",
   "metadata": {},
   "outputs": [
    {
     "data": {
      "text/plain": [
       "Medinfi                4\n",
       "TripShelf              2\n",
       "Gapoon                 2\n",
       "InstaLively            2\n",
       "Fincash                2\n",
       "RainCan                2\n",
       "World Art Community    2\n",
       "BeaconsTalk            2\n",
       "LetReach               2\n",
       "HealthyWorld.in        2\n",
       "Fitso                  2\n",
       "PickMyLaundry          2\n",
       "Cabsguru               1\n",
       "Hotify                 1\n",
       "Twigly                 1\n",
       "Name: Startup Name, dtype: int64"
      ]
     },
     "execution_count": 196,
     "metadata": {},
     "output_type": "execute_result"
    }
   ],
   "source": [
    "df['Startup Name'].value_counts().head(15)"
   ]
  },
  {
   "cell_type": "code",
   "execution_count": null,
   "id": "433ab846",
   "metadata": {},
   "outputs": [],
   "source": []
  },
  {
   "cell_type": "code",
   "execution_count": 221,
   "id": "28b251d9",
   "metadata": {},
   "outputs": [
    {
     "data": {
      "image/png": "[encoded data removed]",
      "text/plain": [
       "<Figure size 2160x1440 with 1 Axes>"
      ]
     },
     "metadata": {
      "needs_background": "light"
     },
     "output_type": "display_data"
    }
   ],
   "source": [
    "sns.set_context('poster')\n",
    "plt.figure(figsize=(30,20))\n",
    "\n",
    "ax = sns.countplot(x = df['InvestmentnType'])\n",
    "ax.bar_label(ax.containers[0])\n",
    "plt.show()"
   ]
  },
  {
   "cell_type": "code",
   "execution_count": 225,
   "id": "01f566b8",
   "metadata": {},
   "outputs": [
    {
     "data": {
      "text/plain": [
       "Private Equity                 1072\n",
       "Seed Funding                    747\n",
       "Seed Angel Funding              104\n",
       "Debt Funding                     24\n",
       "Series A                         22\n",
       "Series B                         20\n",
       "Series C                         14\n",
       "Series D                         12\n",
       "Private Equity Round              4\n",
       "Pre-Series A                      4\n",
       "Angel   Seed Funding              4\n",
       "Seed                              4\n",
       "Venture Round                     2\n",
       "Seed  Angel Funding               2\n",
       "pre-Series A                      2\n",
       "Series F                          2\n",
       "Equity                            2\n",
       "Series E                          2\n",
       "Private Funding                   1\n",
       "Equity Based Funding              1\n",
       "Term Loan                         1\n",
       "Private                           1\n",
       "Series B (Extension)              1\n",
       "Mezzanine                         1\n",
       "Structured Debt                   1\n",
       "Debt-Funding                      1\n",
       "Crowd funding                     1\n",
       "PrivateEquity                     1\n",
       "Series J                          1\n",
       "Inhouse Funding                   1\n",
       "Debt and Preference capital       1\n",
       "Venture - Series Unknown          1\n",
       "Angel Round                       1\n",
       "Angel                             1\n",
       "Corporate Round                   1\n",
       "Single Venture                    1\n",
       "Seed Funding Round                1\n",
       "pre-series A                      1\n",
       "Maiden Round                      1\n",
       "Funding Round                     1\n",
       "Series H                          1\n",
       "Series G                          1\n",
       "Pre-series A                      1\n",
       "Crowd Funding                     1\n",
       "Name: InvestmentnType, dtype: int64"
      ]
     },
     "execution_count": 225,
     "metadata": {},
     "output_type": "execute_result"
    }
   ],
   "source": [
    "df_dropped['InvestmentnType'].value_counts()"
   ]
  },
  {
   "cell_type": "code",
   "execution_count": 227,
   "id": "2b91f883",
   "metadata": {},
   "outputs": [
    {
     "data": {
      "text/plain": [
       "Seed Funding            316\n",
       "Seed Angel Funding       26\n",
       "Private Equity            6\n",
       "Angel                     1\n",
       "Angel   Seed Funding      1\n",
       "Crowd funding             1\n",
       "Crowd Funding             1\n",
       "Name: InvestmentnType, dtype: int64"
      ]
     },
     "execution_count": 227,
     "metadata": {},
     "output_type": "execute_result"
    }
   ],
   "source": [
    "df['InvestmentnType'].value_counts()"
   ]
  },
  {
   "cell_type": "code",
   "execution_count": 228,
   "id": "a8c6325e",
   "metadata": {},
   "outputs": [
    {
     "data": {
      "text/plain": [
       "250000"
      ]
     },
     "execution_count": 228,
     "metadata": {},
     "output_type": "execute_result"
    }
   ],
   "source": [
    "df['Amount in USD'].max()"
   ]
  },
  {
   "cell_type": "code",
   "execution_count": 229,
   "id": "708f489b",
   "metadata": {},
   "outputs": [
    {
     "data": {
      "text/plain": [
       "Group of Angel Investors                      14\n",
       "Undisclosed investors                         13\n",
       "Undisclosed Investors                          9\n",
       "Undisclosed Investor                           6\n",
       "Hyderabad Angels (at Startup Heroes event)     5\n",
       "                                              ..\n",
       "Deepak Gupta                                   1\n",
       "Gaurav Singhvi, Zaffiro Ventures               1\n",
       "GEMS group                                     1\n",
       "Green House Ventures Accelerator               1\n",
       "UK based Group of Angel Investors              1\n",
       "Name: Investors Name, Length: 260, dtype: int64"
      ]
     },
     "execution_count": 229,
     "metadata": {},
     "output_type": "execute_result"
    }
   ],
   "source": [
    "df['Investors Name'].value_counts()"
   ]
  },
  {
   "cell_type": "code",
   "execution_count": 233,
   "id": "7d23b8b7",
   "metadata": {},
   "outputs": [
    {
     "data": {
      "text/plain": [
       "Undisclosed Investors       29\n",
       "Undisclosed investors       24\n",
       "Group of Angel Investors    14\n",
       "Kalaari Capital             13\n",
       "Sequoia Capital             13\n",
       "Indian Angel Network        12\n",
       "undisclosed investors       11\n",
       "Undisclosed                 10\n",
       "SAIF Partners               10\n",
       "Undisclosed Investor        10\n",
       "Name: Investors Name, dtype: int64"
      ]
     },
     "execution_count": 233,
     "metadata": {},
     "output_type": "execute_result"
    }
   ],
   "source": [
    "df_dropped['Investors Name'].value_counts().head(10)"
   ]
  },
  {
   "cell_type": "code",
   "execution_count": 235,
   "id": "67fb4b6a",
   "metadata": {},
   "outputs": [],
   "source": [
    "df_dropped = pd.read_excel(r'C:\\Users\\ayush\\Desktop\\Hubli Project\\InvestmentModel\\CorrectData\\CleanedFinalDataSet1.xlsx')"
   ]
  },
  {
   "cell_type": "code",
   "execution_count": 237,
   "id": "20c66b02",
   "metadata": {},
   "outputs": [
    {
     "data": {
      "text/plain": [
       "Undisclosed Investors       64\n",
       "Undisclosed Investor        20\n",
       "Group of Angel Investors    14\n",
       "Sequoia Capital             13\n",
       "Kalaari Capital             13\n",
       "Indian Angel Network        12\n",
       "Undisclosed                 10\n",
       "SAIF Partners               10\n",
       "Tiger Global                 9\n",
       "Accel Partners               9\n",
       "Info Edge (India) Ltd        9\n",
       "Brand Capital                8\n",
       "Trifecta Capital             8\n",
       "Tiger Global Management      7\n",
       "Venture Catalysts            7\n",
       "Name: Investors Name, dtype: int64"
      ]
     },
     "execution_count": 237,
     "metadata": {},
     "output_type": "execute_result"
    }
   ],
   "source": [
    "df_dropped[\"Investors Name\"].value_counts().head(15)"
   ]
  },
  {
   "cell_type": "code",
   "execution_count": 248,
   "id": "a058a2f4",
   "metadata": {},
   "outputs": [],
   "source": [
    "Sequoia_Capitals = df_dropped[df_dropped['Investors Name'] == \"Sequoia Capital\"]"
   ]
  },
  {
   "cell_type": "code",
   "execution_count": 250,
   "id": "e7cb43dc",
   "metadata": {},
   "outputs": [
    {
     "data": {
      "text/plain": [
       "Bangalore    5\n",
       "New Delhi    3\n",
       "Jaipur       1\n",
       "Gurgaon      1\n",
       "Mumbai       1\n",
       "Ahmedabad    1\n",
       "Name: City  Location, dtype: int64"
      ]
     },
     "execution_count": 250,
     "metadata": {},
     "output_type": "execute_result"
    }
   ],
   "source": [
    "Sequoia_Capitals['City  Location'].value_counts()"
   ]
  },
  {
   "cell_type": "code",
   "execution_count": 247,
   "id": "e3884ae0",
   "metadata": {},
   "outputs": [
    {
     "data": {
      "text/plain": [
       "286      True\n",
       "953      True\n",
       "1084     True\n",
       "1131     True\n",
       "1534     True\n",
       "1673     True\n",
       "1764     True\n",
       "1816     True\n",
       "1817    False\n",
       "1830     True\n",
       "1869     True\n",
       "1885     True\n",
       "1950     True\n",
       "Name: Amount in USD, dtype: bool"
      ]
     },
     "execution_count": 247,
     "metadata": {},
     "output_type": "execute_result"
    }
   ],
   "source": [
    "Sequoia_Capitals['Amount in USD'].between(0,25000000)"
   ]
  },
  {
   "cell_type": "code",
   "execution_count": 335,
   "id": "6b35a825",
   "metadata": {},
   "outputs": [],
   "source": [
    "Tier1List = ['Ahmedabad', 'Bengaluru', 'Chennai', 'Delhi', 'Hyderabad', 'Kolkata', 'Mumbai', 'Pune', 'New Delhi']"
   ]
  },
  {
   "cell_type": "code",
   "execution_count": null,
   "id": "16724480",
   "metadata": {},
   "outputs": [],
   "source": [
    "sns.set_context('poster')\n",
    "plt.figure(figsize=(30,20))\n",
    "\n",
    "ax = sns.countplot(x = pok)\n",
    "ax.bar_label(ax.containers[0])\n",
    "plt.show()"
   ]
  },
  {
   "cell_type": "code",
   "execution_count": 266,
   "id": "3b7ec297",
   "metadata": {},
   "outputs": [
    {
     "data": {
      "text/plain": [
       "60              Compliance\n",
       "95     Health and Wellness\n",
       "114     Online Marketplace\n",
       "117      Food and Beverage\n",
       "153      Consumer Internet\n",
       "164      Consumer Internet\n",
       "185                     IT\n",
       "187             Healthcare\n",
       "196                Ed-Tech\n",
       "208             Technology\n",
       "235      Consumer Internet\n",
       "249             Healthcare\n",
       "258                Ed-Tech\n",
       "262                Ed-Tech\n",
       "273                Finance\n",
       "Name: Industry Vertical, dtype: object"
      ]
     },
     "execution_count": 266,
     "metadata": {},
     "output_type": "execute_result"
    }
   ],
   "source": [
    "df['Industry Vertical'].head(15)"
   ]
  },
  {
   "cell_type": "code",
   "execution_count": 354,
   "id": "4b1f431b",
   "metadata": {},
   "outputs": [
    {
     "name": "stdout",
     "output_type": "stream",
     "text": [
      "<class 'pandas.core.frame.DataFrame'>\n",
      "RangeIndex: 2070 entries, 0 to 2069\n",
      "Data columns (total 12 columns):\n",
      " #   Column             Non-Null Count  Dtype \n",
      "---  ------             --------------  ----- \n",
      " 0   Unnamed: 0         2070 non-null   int64 \n",
      " 1   Sr No              2070 non-null   int64 \n",
      " 2   Date dd/mm/yyyy    2070 non-null   object\n",
      " 3   Startup Name       2070 non-null   object\n",
      " 4   Industry Vertical  1939 non-null   object\n",
      " 5   SubVertical        1416 non-null   object\n",
      " 6   City  Location     1935 non-null   object\n",
      " 7   Investors Name     2050 non-null   object\n",
      " 8   InvestmentnType    2069 non-null   object\n",
      " 9   Amount in USD      2070 non-null   int64 \n",
      " 10  Remarks            341 non-null    object\n",
      " 11  TierBoolean        2070 non-null   bool  \n",
      "dtypes: bool(1), int64(3), object(8)\n",
      "memory usage: 180.0+ KB\n"
     ]
    }
   ],
   "source": [
    "df.info()"
   ]
  },
  {
   "cell_type": "code",
   "execution_count": 298,
   "id": "a2b96ad7",
   "metadata": {},
   "outputs": [
    {
     "ename": "TypeError",
     "evalue": "isinstance() arg 2 must be a type or tuple of types",
     "output_type": "error",
     "traceback": [
      "\u001b[1;31m---------------------------------------------------------------------------\u001b[0m",
      "\u001b[1;31mTypeError\u001b[0m                                 Traceback (most recent call last)",
      "\u001b[1;32m<ipython-input-298-6b7c2209f20b>\u001b[0m in \u001b[0;36m<module>\u001b[1;34m\u001b[0m\n\u001b[0;32m      1\u001b[0m \u001b[1;32mfor\u001b[0m \u001b[0mx\u001b[0m \u001b[1;32min\u001b[0m \u001b[0mdf\u001b[0m\u001b[1;33m[\u001b[0m\u001b[1;34m'City  Location'\u001b[0m\u001b[1;33m]\u001b[0m\u001b[1;33m:\u001b[0m\u001b[1;33m\u001b[0m\u001b[1;33m\u001b[0m\u001b[0m\n\u001b[1;32m----> 2\u001b[1;33m     \u001b[1;32mif\u001b[0m \u001b[0misinstance\u001b[0m\u001b[1;33m(\u001b[0m\u001b[0mx\u001b[0m\u001b[1;33m,\u001b[0m\u001b[0mTier1List\u001b[0m\u001b[1;33m)\u001b[0m\u001b[1;33m:\u001b[0m\u001b[1;33m\u001b[0m\u001b[1;33m\u001b[0m\u001b[0m\n\u001b[0m\u001b[0;32m      3\u001b[0m         \u001b[0mprint\u001b[0m\u001b[1;33m(\u001b[0m\u001b[1;34m\"sort\"\u001b[0m\u001b[1;33m)\u001b[0m\u001b[1;33m\u001b[0m\u001b[1;33m\u001b[0m\u001b[0m\n",
      "\u001b[1;31mTypeError\u001b[0m: isinstance() arg 2 must be a type or tuple of types"
     ]
    }
   ],
   "source": [
    "for x in df['City  Location']:\n",
    "    if isinstance(x,Tier1List):\n",
    "        print(\"sort\")"
   ]
  },
  {
   "cell_type": "code",
   "execution_count": 316,
   "id": "b8573d13",
   "metadata": {},
   "outputs": [
    {
     "name": "stderr",
     "output_type": "stream",
     "text": [
      "<ipython-input-316-3063ca5561f0>:1: SettingWithCopyWarning: \n",
      "A value is trying to be set on a copy of a slice from a DataFrame.\n",
      "Try using .loc[row_indexer,col_indexer] = value instead\n",
      "\n",
      "See the caveats in the documentation: https://pandas.pydata.org/pandas-docs/stable/user_guide/indexing.html#returning-a-view-versus-a-copy\n",
      "  df['TierBoolean']=[x in Tier1List for x in df['City  Location']]\n"
     ]
    }
   ],
   "source": [
    "df['TierBoolean']=[x in Tier1List for x in df['City  Location']]"
   ]
  },
  {
   "cell_type": "code",
   "execution_count": 317,
   "id": "ac4e2b51",
   "metadata": {},
   "outputs": [
    {
     "name": "stdout",
     "output_type": "stream",
     "text": [
      "<class 'pandas.core.frame.DataFrame'>\n",
      "Int64Index: 352 entries, 60 to 2069\n",
      "Data columns (total 12 columns):\n",
      " #   Column             Non-Null Count  Dtype \n",
      "---  ------             --------------  ----- \n",
      " 0   Sr No              352 non-null    int64 \n",
      " 1   Date dd/mm/yyyy    352 non-null    object\n",
      " 2   Startup Name       352 non-null    object\n",
      " 3   Industry Vertical  317 non-null    object\n",
      " 4   SubVertical        228 non-null    object\n",
      " 5   City  Location     315 non-null    object\n",
      " 6   Investors Name     347 non-null    object\n",
      " 7   InvestmentnType    352 non-null    object\n",
      " 8   Amount in USD      352 non-null    int64 \n",
      " 9   Remarks            12 non-null     object\n",
      " 10  WithinRange        352 non-null    bool  \n",
      " 11  TierBoolean        352 non-null    bool  \n",
      "dtypes: bool(2), int64(2), object(8)\n",
      "memory usage: 39.0+ KB\n"
     ]
    }
   ],
   "source": [
    "df.info()"
   ]
  },
  {
   "cell_type": "code",
   "execution_count": 318,
   "id": "bc39e69d",
   "metadata": {},
   "outputs": [
    {
     "data": {
      "text/html": [
       "<div>\n",
       "<style scoped>\n",
       "    .dataframe tbody tr th:only-of-type {\n",
       "        vertical-align: middle;\n",
       "    }\n",
       "\n",
       "    .dataframe tbody tr th {\n",
       "        vertical-align: top;\n",
       "    }\n",
       "\n",
       "    .dataframe thead th {\n",
       "        text-align: right;\n",
       "    }\n",
       "</style>\n",
       "<table border=\"1\" class=\"dataframe\">\n",
       "  <thead>\n",
       "    <tr style=\"text-align: right;\">\n",
       "      <th></th>\n",
       "      <th>Sr No</th>\n",
       "      <th>Date dd/mm/yyyy</th>\n",
       "      <th>Startup Name</th>\n",
       "      <th>Industry Vertical</th>\n",
       "      <th>SubVertical</th>\n",
       "      <th>City  Location</th>\n",
       "      <th>Investors Name</th>\n",
       "      <th>InvestmentnType</th>\n",
       "      <th>Amount in USD</th>\n",
       "      <th>Remarks</th>\n",
       "      <th>WithinRange</th>\n",
       "      <th>TierBoolean</th>\n",
       "    </tr>\n",
       "  </thead>\n",
       "  <tbody>\n",
       "    <tr>\n",
       "      <th>117</th>\n",
       "      <td>127</td>\n",
       "      <td>2018-11-01 00:00:00</td>\n",
       "      <td>GoDesi</td>\n",
       "      <td>Food and Beverage</td>\n",
       "      <td>Regional Flavours</td>\n",
       "      <td>Bengaluru</td>\n",
       "      <td>Lead Angels Network</td>\n",
       "      <td>Seed Angel Funding</td>\n",
       "      <td>138995</td>\n",
       "      <td>NaN</td>\n",
       "      <td>True</td>\n",
       "      <td>True</td>\n",
       "    </tr>\n",
       "    <tr>\n",
       "      <th>196</th>\n",
       "      <td>214</td>\n",
       "      <td>2018-07-24 00:00:00</td>\n",
       "      <td>kidovators</td>\n",
       "      <td>Ed-Tech</td>\n",
       "      <td>Skill Learning Platform</td>\n",
       "      <td>Bengaluru</td>\n",
       "      <td>Gray Matters</td>\n",
       "      <td>Seed Angel Funding</td>\n",
       "      <td>180000</td>\n",
       "      <td>NaN</td>\n",
       "      <td>True</td>\n",
       "      <td>True</td>\n",
       "    </tr>\n",
       "    <tr>\n",
       "      <th>208</th>\n",
       "      <td>227</td>\n",
       "      <td>2018-06-04 00:00:00</td>\n",
       "      <td>Digiconectt</td>\n",
       "      <td>Technology</td>\n",
       "      <td>Sales Analytics and Enablement Platform</td>\n",
       "      <td>Bengaluru</td>\n",
       "      <td>Aspire Logistics LLC</td>\n",
       "      <td>Seed Angel Funding</td>\n",
       "      <td>125000</td>\n",
       "      <td>NaN</td>\n",
       "      <td>True</td>\n",
       "      <td>True</td>\n",
       "    </tr>\n",
       "    <tr>\n",
       "      <th>235</th>\n",
       "      <td>261</td>\n",
       "      <td>2018-05-07 00:00:00</td>\n",
       "      <td>PaisaDukan</td>\n",
       "      <td>Consumer Internet</td>\n",
       "      <td>P2P Lending Platform</td>\n",
       "      <td>Mumbai</td>\n",
       "      <td>NaN</td>\n",
       "      <td>Seed Angel Funding</td>\n",
       "      <td>225000</td>\n",
       "      <td>NaN</td>\n",
       "      <td>True</td>\n",
       "      <td>True</td>\n",
       "    </tr>\n",
       "    <tr>\n",
       "      <th>249</th>\n",
       "      <td>275</td>\n",
       "      <td>2018-05-28 00:00:00</td>\n",
       "      <td>HWell24</td>\n",
       "      <td>Healthcare</td>\n",
       "      <td>Home Healthcare Aggregator</td>\n",
       "      <td>Mumbai</td>\n",
       "      <td>Prashant Mehta, Mitali Pawar, Nikhil G and Bha...</td>\n",
       "      <td>Seed Angel Funding</td>\n",
       "      <td>200000</td>\n",
       "      <td>NaN</td>\n",
       "      <td>True</td>\n",
       "      <td>True</td>\n",
       "    </tr>\n",
       "    <tr>\n",
       "      <th>...</th>\n",
       "      <td>...</td>\n",
       "      <td>...</td>\n",
       "      <td>...</td>\n",
       "      <td>...</td>\n",
       "      <td>...</td>\n",
       "      <td>...</td>\n",
       "      <td>...</td>\n",
       "      <td>...</td>\n",
       "      <td>...</td>\n",
       "      <td>...</td>\n",
       "      <td>...</td>\n",
       "      <td>...</td>\n",
       "    </tr>\n",
       "    <tr>\n",
       "      <th>1851</th>\n",
       "      <td>2759</td>\n",
       "      <td>2015-05-05 00:00:00</td>\n",
       "      <td>Ignis Careers</td>\n",
       "      <td>Career Development</td>\n",
       "      <td>NaN</td>\n",
       "      <td>Hyderabad</td>\n",
       "      <td>Acumen Fund</td>\n",
       "      <td>Seed Funding</td>\n",
       "      <td>250000</td>\n",
       "      <td>NaN</td>\n",
       "      <td>True</td>\n",
       "      <td>True</td>\n",
       "    </tr>\n",
       "    <tr>\n",
       "      <th>1866</th>\n",
       "      <td>2782</td>\n",
       "      <td>2015-05-14 00:00:00</td>\n",
       "      <td>RedPolka</td>\n",
       "      <td>Online Fashion Aggregator</td>\n",
       "      <td>NaN</td>\n",
       "      <td>Mumbai</td>\n",
       "      <td>Undisclosed Investors</td>\n",
       "      <td>Seed Funding</td>\n",
       "      <td>250000</td>\n",
       "      <td>NaN</td>\n",
       "      <td>True</td>\n",
       "      <td>True</td>\n",
       "    </tr>\n",
       "    <tr>\n",
       "      <th>1891</th>\n",
       "      <td>2815</td>\n",
       "      <td>2015-04-07 00:00:00</td>\n",
       "      <td>Pricejugaad</td>\n",
       "      <td>Price Comparison</td>\n",
       "      <td>NaN</td>\n",
       "      <td>Hyderabad</td>\n",
       "      <td>Amit Tyagi, Sandeep Acharya &amp; others</td>\n",
       "      <td>Seed Funding</td>\n",
       "      <td>165000</td>\n",
       "      <td>NaN</td>\n",
       "      <td>True</td>\n",
       "      <td>True</td>\n",
       "    </tr>\n",
       "    <tr>\n",
       "      <th>1899</th>\n",
       "      <td>2824</td>\n",
       "      <td>2015-04-09 00:00:00</td>\n",
       "      <td>Changer Mints</td>\n",
       "      <td>Digital / Mobile Wallet</td>\n",
       "      <td>NaN</td>\n",
       "      <td>Kolkata</td>\n",
       "      <td>Hyderabad based investor</td>\n",
       "      <td>Seed Funding</td>\n",
       "      <td>165000</td>\n",
       "      <td>NaN</td>\n",
       "      <td>True</td>\n",
       "      <td>True</td>\n",
       "    </tr>\n",
       "    <tr>\n",
       "      <th>1931</th>\n",
       "      <td>2865</td>\n",
       "      <td>2015-04-28 00:00:00</td>\n",
       "      <td>Jay Robotix</td>\n",
       "      <td>Robotic Program learning</td>\n",
       "      <td>NaN</td>\n",
       "      <td>Hyderabad</td>\n",
       "      <td>Cross Border Angels &amp; others</td>\n",
       "      <td>Seed Funding</td>\n",
       "      <td>250000</td>\n",
       "      <td>NaN</td>\n",
       "      <td>True</td>\n",
       "      <td>True</td>\n",
       "    </tr>\n",
       "  </tbody>\n",
       "</table>\n",
       "<p>125 rows × 12 columns</p>\n",
       "</div>"
      ],
      "text/plain": [
       "      Sr No      Date dd/mm/yyyy   Startup Name          Industry Vertical  \\\n",
       "117     127  2018-11-01 00:00:00         GoDesi          Food and Beverage   \n",
       "196     214  2018-07-24 00:00:00     kidovators                    Ed-Tech   \n",
       "208     227  2018-06-04 00:00:00    Digiconectt                 Technology   \n",
       "235     261  2018-05-07 00:00:00     PaisaDukan          Consumer Internet   \n",
       "249     275  2018-05-28 00:00:00        HWell24                 Healthcare   \n",
       "...     ...                  ...            ...                        ...   \n",
       "1851   2759  2015-05-05 00:00:00  Ignis Careers         Career Development   \n",
       "1866   2782  2015-05-14 00:00:00       RedPolka  Online Fashion Aggregator   \n",
       "1891   2815  2015-04-07 00:00:00    Pricejugaad           Price Comparison   \n",
       "1899   2824  2015-04-09 00:00:00  Changer Mints    Digital / Mobile Wallet   \n",
       "1931   2865  2015-04-28 00:00:00    Jay Robotix   Robotic Program learning   \n",
       "\n",
       "                                  SubVertical City  Location  \\\n",
       "117                         Regional Flavours      Bengaluru   \n",
       "196                   Skill Learning Platform      Bengaluru   \n",
       "208   Sales Analytics and Enablement Platform      Bengaluru   \n",
       "235                      P2P Lending Platform         Mumbai   \n",
       "249                Home Healthcare Aggregator         Mumbai   \n",
       "...                                       ...            ...   \n",
       "1851                                      NaN      Hyderabad   \n",
       "1866                                      NaN         Mumbai   \n",
       "1891                                      NaN      Hyderabad   \n",
       "1899                                      NaN        Kolkata   \n",
       "1931                                      NaN      Hyderabad   \n",
       "\n",
       "                                         Investors Name     InvestmentnType  \\\n",
       "117                                 Lead Angels Network  Seed Angel Funding   \n",
       "196                                        Gray Matters  Seed Angel Funding   \n",
       "208                                Aspire Logistics LLC  Seed Angel Funding   \n",
       "235                                                 NaN  Seed Angel Funding   \n",
       "249   Prashant Mehta, Mitali Pawar, Nikhil G and Bha...  Seed Angel Funding   \n",
       "...                                                 ...                 ...   \n",
       "1851                                        Acumen Fund        Seed Funding   \n",
       "1866                              Undisclosed Investors        Seed Funding   \n",
       "1891               Amit Tyagi, Sandeep Acharya & others        Seed Funding   \n",
       "1899                           Hyderabad based investor        Seed Funding   \n",
       "1931                       Cross Border Angels & others        Seed Funding   \n",
       "\n",
       "      Amount in USD Remarks  WithinRange  TierBoolean  \n",
       "117          138995     NaN         True         True  \n",
       "196          180000     NaN         True         True  \n",
       "208          125000     NaN         True         True  \n",
       "235          225000     NaN         True         True  \n",
       "249          200000     NaN         True         True  \n",
       "...             ...     ...          ...          ...  \n",
       "1851         250000     NaN         True         True  \n",
       "1866         250000     NaN         True         True  \n",
       "1891         165000     NaN         True         True  \n",
       "1899         165000     NaN         True         True  \n",
       "1931         250000     NaN         True         True  \n",
       "\n",
       "[125 rows x 12 columns]"
      ]
     },
     "execution_count": 318,
     "metadata": {},
     "output_type": "execute_result"
    }
   ],
   "source": [
    "df[df['TierBoolean']==True]"
   ]
  },
  {
   "cell_type": "code",
   "execution_count": 382,
   "id": "35255c82",
   "metadata": {},
   "outputs": [],
   "source": [
    "df = pd.read_excel(r'C:\\Users\\ayush\\Desktop\\Hubli Project\\InvestmentModel\\CorrectData\\CleanedFinalDataSet1.xlsx')"
   ]
  },
  {
   "cell_type": "code",
   "execution_count": 383,
   "id": "282597e1",
   "metadata": {},
   "outputs": [],
   "source": [
    "df['TierBoolean']=[x in Tier1List for x in df['City  Location']]"
   ]
  },
  {
   "cell_type": "code",
   "execution_count": 384,
   "id": "eb6d1a40",
   "metadata": {},
   "outputs": [
    {
     "data": {
      "text/plain": [
       "Gurgaon              199\n",
       "Noida                 56\n",
       "Gurugram              43\n",
       "Jaipur                14\n",
       "Goa                    7\n",
       "                    ... \n",
       "Delhi & Cambridge      1\n",
       "Surat                  1\n",
       "Gaya                   1\n",
       "Missourie              1\n",
       "Udupi                  1\n",
       "Name: City  Location, Length: 75, dtype: int64"
      ]
     },
     "execution_count": 384,
     "metadata": {},
     "output_type": "execute_result"
    }
   ],
   "source": [
    "df[df['TierBoolean']==False]['City  Location'].dropna().value_counts()"
   ]
  },
  {
   "cell_type": "code",
   "execution_count": 385,
   "id": "1a4c3539",
   "metadata": {},
   "outputs": [
    {
     "data": {
      "text/plain": [
       "Gurgaon             199\n",
       "Noida                56\n",
       "Gurugram             43\n",
       "Jaipur               14\n",
       "Goa                   7\n",
       "Singapore             6\n",
       "Vadodara              6\n",
       "Chandigarh            6\n",
       "Indore                5\n",
       "Coimbatore            4\n",
       "Pune / US             4\n",
       "Bhopal                3\n",
       "Kanpur                2\n",
       "Ahemadabad            2\n",
       "Mumbai/Bengaluru      2\n",
       "Name: City  Location, dtype: int64"
      ]
     },
     "execution_count": 385,
     "metadata": {},
     "output_type": "execute_result"
    }
   ],
   "source": [
    "df[df['TierBoolean']==False]['City  Location'].dropna().value_counts().head(15)"
   ]
  },
  {
   "cell_type": "code",
   "execution_count": 386,
   "id": "685087f0",
   "metadata": {},
   "outputs": [
    {
     "data": {
      "text/plain": [
       "Bengaluru    583\n",
       "Mumbai       402\n",
       "New Delhi    243\n",
       "Chennai       75\n",
       "Hyderabad     72\n",
       "Pune          71\n",
       "Ahmedabad     27\n",
       "Delhi         25\n",
       "Kolkata       10\n",
       "Name: City  Location, dtype: int64"
      ]
     },
     "execution_count": 386,
     "metadata": {},
     "output_type": "execute_result"
    }
   ],
   "source": [
    "df[df['TierBoolean']==True]['City  Location'].dropna().value_counts().head(15)"
   ]
  },
  {
   "cell_type": "code",
   "execution_count": 387,
   "id": "0e187e1b",
   "metadata": {},
   "outputs": [
    {
     "data": {
      "text/html": [
       "<div>\n",
       "<style scoped>\n",
       "    .dataframe tbody tr th:only-of-type {\n",
       "        vertical-align: middle;\n",
       "    }\n",
       "\n",
       "    .dataframe tbody tr th {\n",
       "        vertical-align: top;\n",
       "    }\n",
       "\n",
       "    .dataframe thead th {\n",
       "        text-align: right;\n",
       "    }\n",
       "</style>\n",
       "<table border=\"1\" class=\"dataframe\">\n",
       "  <thead>\n",
       "    <tr style=\"text-align: right;\">\n",
       "      <th></th>\n",
       "      <th>Unnamed: 0</th>\n",
       "      <th>Sr No</th>\n",
       "      <th>Date dd/mm/yyyy</th>\n",
       "      <th>Startup Name</th>\n",
       "      <th>Industry Vertical</th>\n",
       "      <th>SubVertical</th>\n",
       "      <th>City  Location</th>\n",
       "      <th>Investors Name</th>\n",
       "      <th>InvestmentnType</th>\n",
       "      <th>Amount in USD</th>\n",
       "      <th>Remarks</th>\n",
       "    </tr>\n",
       "  </thead>\n",
       "  <tbody>\n",
       "    <tr>\n",
       "      <th>0</th>\n",
       "      <td>0</td>\n",
       "      <td>1</td>\n",
       "      <td>2020-01-09 00:00:00</td>\n",
       "      <td>BYJU’S</td>\n",
       "      <td>E-Tech</td>\n",
       "      <td>E-learning</td>\n",
       "      <td>Bengaluru</td>\n",
       "      <td>Tiger Global Management</td>\n",
       "      <td>Private Equity Round</td>\n",
       "      <td>200000000</td>\n",
       "      <td>NaN</td>\n",
       "    </tr>\n",
       "    <tr>\n",
       "      <th>1</th>\n",
       "      <td>1</td>\n",
       "      <td>2</td>\n",
       "      <td>2020-01-13 00:00:00</td>\n",
       "      <td>Shuttl</td>\n",
       "      <td>Transportation</td>\n",
       "      <td>App based shuttle service</td>\n",
       "      <td>Gurgaon</td>\n",
       "      <td>Susquehanna Growth Equity</td>\n",
       "      <td>Series C</td>\n",
       "      <td>8048394</td>\n",
       "      <td>NaN</td>\n",
       "    </tr>\n",
       "    <tr>\n",
       "      <th>2</th>\n",
       "      <td>2</td>\n",
       "      <td>3</td>\n",
       "      <td>2020-01-09 00:00:00</td>\n",
       "      <td>Mamaearth</td>\n",
       "      <td>E-commerce</td>\n",
       "      <td>Retailer of baby and toddler products</td>\n",
       "      <td>Bengaluru</td>\n",
       "      <td>Sequoia Capital India</td>\n",
       "      <td>Series B</td>\n",
       "      <td>18358860</td>\n",
       "      <td>NaN</td>\n",
       "    </tr>\n",
       "    <tr>\n",
       "      <th>3</th>\n",
       "      <td>3</td>\n",
       "      <td>4</td>\n",
       "      <td>2020-01-02 00:00:00</td>\n",
       "      <td>https://www.wealthbucket.in/</td>\n",
       "      <td>FinTech</td>\n",
       "      <td>Online Investment</td>\n",
       "      <td>New Delhi</td>\n",
       "      <td>Vinod Khatumal</td>\n",
       "      <td>Pre-series A</td>\n",
       "      <td>3000000</td>\n",
       "      <td>NaN</td>\n",
       "    </tr>\n",
       "    <tr>\n",
       "      <th>4</th>\n",
       "      <td>4</td>\n",
       "      <td>5</td>\n",
       "      <td>2020-01-02 00:00:00</td>\n",
       "      <td>Fashor</td>\n",
       "      <td>Fashion and Apparel</td>\n",
       "      <td>Embroiled Clothes For Women</td>\n",
       "      <td>Mumbai</td>\n",
       "      <td>Sprout Venture Partners</td>\n",
       "      <td>Seed Funding</td>\n",
       "      <td>1800000</td>\n",
       "      <td>NaN</td>\n",
       "    </tr>\n",
       "    <tr>\n",
       "      <th>...</th>\n",
       "      <td>...</td>\n",
       "      <td>...</td>\n",
       "      <td>...</td>\n",
       "      <td>...</td>\n",
       "      <td>...</td>\n",
       "      <td>...</td>\n",
       "      <td>...</td>\n",
       "      <td>...</td>\n",
       "      <td>...</td>\n",
       "      <td>...</td>\n",
       "      <td>...</td>\n",
       "    </tr>\n",
       "    <tr>\n",
       "      <th>2065</th>\n",
       "      <td>2065</td>\n",
       "      <td>3039</td>\n",
       "      <td>2015-01-28 00:00:00</td>\n",
       "      <td>Grabhouse.com</td>\n",
       "      <td>NaN</td>\n",
       "      <td>NaN</td>\n",
       "      <td>NaN</td>\n",
       "      <td>Kalaari Capital, Sequoia Capital</td>\n",
       "      <td>Private Equity</td>\n",
       "      <td>2500000</td>\n",
       "      <td>Series A</td>\n",
       "    </tr>\n",
       "    <tr>\n",
       "      <th>2066</th>\n",
       "      <td>2066</td>\n",
       "      <td>3040</td>\n",
       "      <td>2015-01-29 00:00:00</td>\n",
       "      <td>Printvenue</td>\n",
       "      <td>NaN</td>\n",
       "      <td>NaN</td>\n",
       "      <td>NaN</td>\n",
       "      <td>Asia Pacific Internet Group</td>\n",
       "      <td>Private Equity</td>\n",
       "      <td>4500000</td>\n",
       "      <td>NaN</td>\n",
       "    </tr>\n",
       "    <tr>\n",
       "      <th>2067</th>\n",
       "      <td>2067</td>\n",
       "      <td>3041</td>\n",
       "      <td>2015-01-29 00:00:00</td>\n",
       "      <td>Graphene</td>\n",
       "      <td>NaN</td>\n",
       "      <td>NaN</td>\n",
       "      <td>NaN</td>\n",
       "      <td>KARSEMVEN Fund</td>\n",
       "      <td>Private Equity</td>\n",
       "      <td>825000</td>\n",
       "      <td>Govt backed VC Fund</td>\n",
       "    </tr>\n",
       "    <tr>\n",
       "      <th>2068</th>\n",
       "      <td>2068</td>\n",
       "      <td>3042</td>\n",
       "      <td>2015-01-30 00:00:00</td>\n",
       "      <td>Mad Street Den</td>\n",
       "      <td>NaN</td>\n",
       "      <td>NaN</td>\n",
       "      <td>NaN</td>\n",
       "      <td>Exfinity Fund, GrowX Ventures.</td>\n",
       "      <td>Private Equity</td>\n",
       "      <td>1500000</td>\n",
       "      <td>NaN</td>\n",
       "    </tr>\n",
       "    <tr>\n",
       "      <th>2069</th>\n",
       "      <td>2069</td>\n",
       "      <td>3044</td>\n",
       "      <td>2015-01-31 00:00:00</td>\n",
       "      <td>couponmachine.in</td>\n",
       "      <td>NaN</td>\n",
       "      <td>NaN</td>\n",
       "      <td>NaN</td>\n",
       "      <td>UK based Group of Angel Investors</td>\n",
       "      <td>Seed Funding</td>\n",
       "      <td>140000</td>\n",
       "      <td>NaN</td>\n",
       "    </tr>\n",
       "  </tbody>\n",
       "</table>\n",
       "<p>2070 rows × 11 columns</p>\n",
       "</div>"
      ],
      "text/plain": [
       "      Unnamed: 0  Sr No      Date dd/mm/yyyy                  Startup Name  \\\n",
       "0              0      1  2020-01-09 00:00:00                        BYJU’S   \n",
       "1              1      2  2020-01-13 00:00:00                        Shuttl   \n",
       "2              2      3  2020-01-09 00:00:00                     Mamaearth   \n",
       "3              3      4  2020-01-02 00:00:00  https://www.wealthbucket.in/   \n",
       "4              4      5  2020-01-02 00:00:00                        Fashor   \n",
       "...          ...    ...                  ...                           ...   \n",
       "2065        2065   3039  2015-01-28 00:00:00                 Grabhouse.com   \n",
       "2066        2066   3040  2015-01-29 00:00:00                    Printvenue   \n",
       "2067        2067   3041  2015-01-29 00:00:00                      Graphene   \n",
       "2068        2068   3042  2015-01-30 00:00:00                Mad Street Den   \n",
       "2069        2069   3044  2015-01-31 00:00:00              couponmachine.in   \n",
       "\n",
       "        Industry Vertical                            SubVertical  \\\n",
       "0                  E-Tech                             E-learning   \n",
       "1          Transportation              App based shuttle service   \n",
       "2              E-commerce  Retailer of baby and toddler products   \n",
       "3                 FinTech                      Online Investment   \n",
       "4     Fashion and Apparel            Embroiled Clothes For Women   \n",
       "...                   ...                                    ...   \n",
       "2065                  NaN                                    NaN   \n",
       "2066                  NaN                                    NaN   \n",
       "2067                  NaN                                    NaN   \n",
       "2068                  NaN                                    NaN   \n",
       "2069                  NaN                                    NaN   \n",
       "\n",
       "     City  Location                     Investors Name       InvestmentnType  \\\n",
       "0         Bengaluru            Tiger Global Management  Private Equity Round   \n",
       "1           Gurgaon          Susquehanna Growth Equity              Series C   \n",
       "2         Bengaluru              Sequoia Capital India              Series B   \n",
       "3         New Delhi                     Vinod Khatumal          Pre-series A   \n",
       "4            Mumbai            Sprout Venture Partners          Seed Funding   \n",
       "...             ...                                ...                   ...   \n",
       "2065            NaN   Kalaari Capital, Sequoia Capital        Private Equity   \n",
       "2066            NaN        Asia Pacific Internet Group        Private Equity   \n",
       "2067            NaN                     KARSEMVEN Fund        Private Equity   \n",
       "2068            NaN     Exfinity Fund, GrowX Ventures.        Private Equity   \n",
       "2069            NaN  UK based Group of Angel Investors          Seed Funding   \n",
       "\n",
       "      Amount in USD              Remarks  \n",
       "0         200000000                  NaN  \n",
       "1           8048394                  NaN  \n",
       "2          18358860                  NaN  \n",
       "3           3000000                  NaN  \n",
       "4           1800000                  NaN  \n",
       "...             ...                  ...  \n",
       "2065        2500000             Series A  \n",
       "2066        4500000                  NaN  \n",
       "2067         825000  Govt backed VC Fund  \n",
       "2068        1500000                  NaN  \n",
       "2069         140000                  NaN  \n",
       "\n",
       "[2070 rows x 11 columns]"
      ]
     },
     "execution_count": 387,
     "metadata": {},
     "output_type": "execute_result"
    }
   ],
   "source": [
    "df_dropped"
   ]
  },
  {
   "cell_type": "code",
   "execution_count": 388,
   "id": "908ca087",
   "metadata": {},
   "outputs": [
    {
     "data": {
      "text/plain": [
       "Consumer Internet       589\n",
       "Technology              310\n",
       "eCommerce               196\n",
       "Finance                  57\n",
       "Healthcare               44\n",
       "Logistics                23\n",
       "Education                19\n",
       "Food & Beverage          15\n",
       "Ed-Tech                  12\n",
       "FinTech                   9\n",
       "IT                        8\n",
       "Fin-Tech                  6\n",
       "Ecommerce                 5\n",
       "Online Food Delivery      5\n",
       "Food and Beverage         5\n",
       "Health and Wellness       5\n",
       "Logistics Tech            4\n",
       "Transportation            4\n",
       "EdTech                    4\n",
       "Others                    4\n",
       "Name: Industry Vertical, dtype: int64"
      ]
     },
     "execution_count": 388,
     "metadata": {},
     "output_type": "execute_result"
    }
   ],
   "source": [
    "df['Industry Vertical'].value_counts().head(20)"
   ]
  },
  {
   "cell_type": "code",
   "execution_count": 389,
   "id": "7973a886",
   "metadata": {},
   "outputs": [],
   "source": [
    "df['Industry Vertical'] = df['Industry Vertical'].replace('Ecommerce','eCommerce')"
   ]
  },
  {
   "cell_type": "code",
   "execution_count": 390,
   "id": "3e0f82c7",
   "metadata": {},
   "outputs": [
    {
     "data": {
      "text/plain": [
       "Consumer Internet                589\n",
       "Technology                       310\n",
       "eCommerce                        201\n",
       "Finance                           57\n",
       "Healthcare                        44\n",
       "Logistics                         23\n",
       "Education                         19\n",
       "Food & Beverage                   15\n",
       "Ed-Tech                           12\n",
       "FinTech                            9\n",
       "IT                                 8\n",
       "Fin-Tech                           6\n",
       "Food and Beverage                  5\n",
       "Online Food Delivery               5\n",
       "Health and Wellness                5\n",
       "Others                             4\n",
       "Logistics Tech                     4\n",
       "EdTech                             4\n",
       "Transportation                     4\n",
       "Social Media                       3\n",
       "Information Technology             3\n",
       "Transport                          3\n",
       "Automobile                         3\n",
       "Online Education Platform          3\n",
       "Big Data & Analytics platform      3\n",
       "Hyperlocal Handyman Services       3\n",
       "Food and Beverages                 3\n",
       "Real Estate                        3\n",
       "Food                               3\n",
       "SaaS                               3\n",
       "Name: Industry Vertical, dtype: int64"
      ]
     },
     "execution_count": 390,
     "metadata": {},
     "output_type": "execute_result"
    }
   ],
   "source": [
    "df['Industry Vertical'].value_counts().head(30)"
   ]
  },
  {
   "cell_type": "code",
   "execution_count": 391,
   "id": "67493cca",
   "metadata": {},
   "outputs": [
    {
     "name": "stdout",
     "output_type": "stream",
     "text": [
      "<class 'pandas.core.frame.DataFrame'>\n",
      "RangeIndex: 2070 entries, 0 to 2069\n",
      "Data columns (total 12 columns):\n",
      " #   Column             Non-Null Count  Dtype \n",
      "---  ------             --------------  ----- \n",
      " 0   Unnamed: 0         2070 non-null   int64 \n",
      " 1   Sr No              2070 non-null   int64 \n",
      " 2   Date dd/mm/yyyy    2070 non-null   object\n",
      " 3   Startup Name       2070 non-null   object\n",
      " 4   Industry Vertical  1939 non-null   object\n",
      " 5   SubVertical        1416 non-null   object\n",
      " 6   City  Location     1935 non-null   object\n",
      " 7   Investors Name     2050 non-null   object\n",
      " 8   InvestmentnType    2069 non-null   object\n",
      " 9   Amount in USD      2070 non-null   int64 \n",
      " 10  Remarks            341 non-null    object\n",
      " 11  TierBoolean        2070 non-null   bool  \n",
      "dtypes: bool(1), int64(3), object(8)\n",
      "memory usage: 180.0+ KB\n"
     ]
    }
   ],
   "source": [
    "df.info()"
   ]
  },
  {
   "cell_type": "code",
   "execution_count": 392,
   "id": "1ae494f6",
   "metadata": {},
   "outputs": [
    {
     "data": {
      "text/plain": [
       "Consumer Internet      122\n",
       "Technology              49\n",
       "eCommerce               46\n",
       "Finance                 14\n",
       "Healthcare              13\n",
       "Education                8\n",
       "FinTech                  6\n",
       "Logistics                4\n",
       "Health and Wellness      4\n",
       "Transportation           3\n",
       "Name: Industry Vertical, dtype: int64"
      ]
     },
     "execution_count": 392,
     "metadata": {},
     "output_type": "execute_result"
    }
   ],
   "source": [
    "#Companies in Tier 2 cities and their Industry Verticals (includes Gurgaon )\n",
    "\n",
    "df[df['TierBoolean']==False]['Industry Vertical'].value_counts().head(10)"
   ]
  },
  {
   "cell_type": "code",
   "execution_count": 394,
   "id": "1bd69f06",
   "metadata": {},
   "outputs": [
    {
     "data": {
      "text/plain": [
       "Consumer Internet                      85\n",
       "Technology                             25\n",
       "eCommerce                              13\n",
       "ECommerce                               4\n",
       "Education                               2\n",
       "Healthcare                              2\n",
       "Internet of Things platform             2\n",
       "on-Demand Washing & Dry-Cleaning        1\n",
       "Online Diagnostic Tests Marketplace     1\n",
       "Exam Preparation Platform               1\n",
       "Name: Industry Vertical, dtype: int64"
      ]
     },
     "execution_count": 394,
     "metadata": {},
     "output_type": "execute_result"
    }
   ],
   "source": [
    "tryDF[tryDF['TierBoolean']==False]['Industry Vertical'].value_counts().head(10)"
   ]
  },
  {
   "cell_type": "code",
   "execution_count": 395,
   "id": "8bebb77f",
   "metadata": {},
   "outputs": [
    {
     "name": "stdout",
     "output_type": "stream",
     "text": [
      "<class 'pandas.core.frame.DataFrame'>\n",
      "Int64Index: 352 entries, 60 to 2069\n",
      "Data columns (total 12 columns):\n",
      " #   Column             Non-Null Count  Dtype \n",
      "---  ------             --------------  ----- \n",
      " 0   Sr No              352 non-null    int64 \n",
      " 1   Date dd/mm/yyyy    352 non-null    object\n",
      " 2   Startup Name       352 non-null    object\n",
      " 3   Industry Vertical  317 non-null    object\n",
      " 4   SubVertical        228 non-null    object\n",
      " 5   City  Location     315 non-null    object\n",
      " 6   Investors Name     347 non-null    object\n",
      " 7   InvestmentnType    352 non-null    object\n",
      " 8   Amount in USD      352 non-null    int64 \n",
      " 9   Remarks            12 non-null     object\n",
      " 10  WithinRange        352 non-null    bool  \n",
      " 11  TierBoolean        352 non-null    bool  \n",
      "dtypes: bool(2), int64(2), object(8)\n",
      "memory usage: 39.0+ KB\n"
     ]
    }
   ],
   "source": [
    "tryDF.info()"
   ]
  },
  {
   "cell_type": "code",
   "execution_count": null,
   "id": "26fe9874",
   "metadata": {},
   "outputs": [],
   "source": [
    "tryDF.drop(columns='Remarks',inplace = True)"
   ]
  },
  {
   "cell_type": "code",
   "execution_count": 405,
   "id": "039cb1aa",
   "metadata": {},
   "outputs": [
    {
     "name": "stdout",
     "output_type": "stream",
     "text": [
      "<class 'pandas.core.frame.DataFrame'>\n",
      "Int64Index: 352 entries, 60 to 2069\n",
      "Data columns (total 11 columns):\n",
      " #   Column             Non-Null Count  Dtype \n",
      "---  ------             --------------  ----- \n",
      " 0   Sr No              352 non-null    int64 \n",
      " 1   Date dd/mm/yyyy    352 non-null    object\n",
      " 2   Startup Name       352 non-null    object\n",
      " 3   Industry Vertical  317 non-null    object\n",
      " 4   SubVertical        228 non-null    object\n",
      " 5   City  Location     315 non-null    object\n",
      " 6   Investors Name     347 non-null    object\n",
      " 7   InvestmentnType    352 non-null    object\n",
      " 8   Amount in USD      352 non-null    int64 \n",
      " 9   WithinRange        352 non-null    bool  \n",
      " 10  TierBoolean        352 non-null    bool  \n",
      "dtypes: bool(2), int64(2), object(7)\n",
      "memory usage: 36.3+ KB\n"
     ]
    }
   ],
   "source": [
    "tryDF.info()"
   ]
  },
  {
   "cell_type": "code",
   "execution_count": 408,
   "id": "2dfe750d",
   "metadata": {},
   "outputs": [],
   "source": [
    "df.drop(inplace = True,columns = \"Remarks\")"
   ]
  },
  {
   "cell_type": "code",
   "execution_count": 410,
   "id": "6874b251",
   "metadata": {},
   "outputs": [],
   "source": [
    "df[\"AmountInUSDBoolean\"] = df['Amount in USD'].between(0,250000)"
   ]
  },
  {
   "cell_type": "code",
   "execution_count": 414,
   "id": "ebebe253",
   "metadata": {},
   "outputs": [
    {
     "data": {
      "text/plain": [
       "False    1718\n",
       "True      352\n",
       "Name: AmountInUSDBoolean, dtype: int64"
      ]
     },
     "execution_count": 414,
     "metadata": {},
     "output_type": "execute_result"
    }
   ],
   "source": [
    "df[\"AmountInUSDBoolean\"].value_counts()\n"
   ]
  },
  {
   "cell_type": "code",
   "execution_count": 417,
   "id": "291c46ac",
   "metadata": {},
   "outputs": [],
   "source": [
    "df.to_excel(r'Megasheet(no Date).xlsx')"
   ]
  },
  {
   "cell_type": "code",
   "execution_count": 418,
   "id": "2c9f9c78",
   "metadata": {},
   "outputs": [],
   "source": [
    "df = pd.read_excel('CleanedFinalDataSet1.xlsx')"
   ]
  },
  {
   "cell_type": "code",
   "execution_count": 420,
   "id": "c96ea6bf",
   "metadata": {},
   "outputs": [
    {
     "name": "stdout",
     "output_type": "stream",
     "text": [
      "<class 'pandas.core.frame.DataFrame'>\n",
      "RangeIndex: 2070 entries, 0 to 2069\n",
      "Data columns (total 11 columns):\n",
      " #   Column             Non-Null Count  Dtype         \n",
      "---  ------             --------------  -----         \n",
      " 0   Unnamed: 0         2070 non-null   int64         \n",
      " 1   Sr No              2070 non-null   int64         \n",
      " 2   Date dd/mm/yyyy    2070 non-null   datetime64[ns]\n",
      " 3   Startup Name       2070 non-null   object        \n",
      " 4   Industry Vertical  1939 non-null   object        \n",
      " 5   SubVertical        1416 non-null   object        \n",
      " 6   City  Location     1935 non-null   object        \n",
      " 7   Investors Name     2050 non-null   object        \n",
      " 8   InvestmentnType    2069 non-null   object        \n",
      " 9   Amount in USD      2070 non-null   int64         \n",
      " 10  Remarks            341 non-null    object        \n",
      "dtypes: datetime64[ns](1), int64(3), object(7)\n",
      "memory usage: 178.0+ KB\n"
     ]
    }
   ],
   "source": [
    "df.info()"
   ]
  },
  {
   "cell_type": "code",
   "execution_count": 421,
   "id": "9222b471",
   "metadata": {},
   "outputs": [
    {
     "data": {
      "text/plain": [
       "0      2020-01-09\n",
       "1      2020-01-13\n",
       "2      2020-01-09\n",
       "3      2020-01-02\n",
       "4      2020-01-02\n",
       "          ...    \n",
       "2065   2015-01-28\n",
       "2066   2015-01-29\n",
       "2067   2015-01-29\n",
       "2068   2015-01-30\n",
       "2069   2015-01-31\n",
       "Name: Date dd/mm/yyyy, Length: 2070, dtype: datetime64[ns]"
      ]
     },
     "execution_count": 421,
     "metadata": {},
     "output_type": "execute_result"
    }
   ],
   "source": [
    "df['Date dd/mm/yyyy']"
   ]
  },
  {
   "cell_type": "code",
   "execution_count": 422,
   "id": "3378d3d8",
   "metadata": {},
   "outputs": [],
   "source": [
    "df['Year'] = df['Date dd/mm/yyyy'].dt.year\n",
    "df['Month'] = df['Date dd/mm/yyyy'].dt.month"
   ]
  },
  {
   "cell_type": "code",
   "execution_count": 424,
   "id": "a17e5814",
   "metadata": {},
   "outputs": [
    {
     "data": {
      "text/plain": [
       "2015    654\n",
       "2016    586\n",
       "2017    456\n",
       "2018    265\n",
       "2019    102\n",
       "2020      7\n",
       "Name: Year, dtype: int64"
      ]
     },
     "execution_count": 424,
     "metadata": {},
     "output_type": "execute_result"
    }
   ],
   "source": [
    "df['Year'].value_counts()"
   ]
  },
  {
   "cell_type": "code",
   "execution_count": 429,
   "id": "12902504",
   "metadata": {},
   "outputs": [
    {
     "data": {
      "text/plain": [
       "<AxesSubplot:ylabel='Month'>"
      ]
     },
     "execution_count": 429,
     "metadata": {},
     "output_type": "execute_result"
    },
    {
     "data": {
      "image/png": "[encoded data removed]",
      "text/plain": [
       "<Figure size 432x288 with 1 Axes>"
      ]
     },
     "metadata": {
      "needs_background": "light"
     },
     "output_type": "display_data"
    }
   ],
   "source": [
    "sns.lineplot(data=df['Month'])"
   ]
  },
  {
   "cell_type": "code",
   "execution_count": 432,
   "id": "a87ff167",
   "metadata": {},
   "outputs": [
    {
     "data": {
      "text/plain": [
       "<AxesSubplot:ylabel='count'>"
      ]
     },
     "execution_count": 432,
     "metadata": {},
     "output_type": "execute_result"
    },
    {
     "data": {
      "image/png": "[encoded data removed]",
      "text/plain": [
       "<Figure size 432x288 with 1 Axes>"
      ]
     },
     "metadata": {
      "needs_background": "light"
     },
     "output_type": "display_data"
    }
   ],
   "source": [
    "sns.countplot(data= df['Year'])"
   ]
  },
  {
   "cell_type": "code",
   "execution_count": 440,
   "id": "facf4399",
   "metadata": {},
   "outputs": [
    {
     "data": {
      "text/plain": [
       "[1, 2, 3, 4, 5, 6, 7, 8, 9, 10, 11, 12]"
      ]
     },
     "execution_count": 440,
     "metadata": {},
     "output_type": "execute_result"
    }
   ],
   "source": [
    "sorted(df['Month'].unique())"
   ]
  },
  {
   "cell_type": "code",
   "execution_count": 441,
   "id": "3bd67a9b",
   "metadata": {},
   "outputs": [
    {
     "name": "stdout",
     "output_type": "stream",
     "text": [
      "<class 'pandas.core.frame.DataFrame'>\n",
      "RangeIndex: 2070 entries, 0 to 2069\n",
      "Data columns (total 13 columns):\n",
      " #   Column             Non-Null Count  Dtype         \n",
      "---  ------             --------------  -----         \n",
      " 0   Unnamed: 0         2070 non-null   int64         \n",
      " 1   Sr No              2070 non-null   int64         \n",
      " 2   Date dd/mm/yyyy    2070 non-null   datetime64[ns]\n",
      " 3   Startup Name       2070 non-null   object        \n",
      " 4   Industry Vertical  1939 non-null   object        \n",
      " 5   SubVertical        1416 non-null   object        \n",
      " 6   City  Location     1935 non-null   object        \n",
      " 7   Investors Name     2050 non-null   object        \n",
      " 8   InvestmentnType    2069 non-null   object        \n",
      " 9   Amount in USD      2070 non-null   int64         \n",
      " 10  Remarks            341 non-null    object        \n",
      " 11  Year               2070 non-null   int64         \n",
      " 12  Month              2070 non-null   int64         \n",
      "dtypes: datetime64[ns](1), int64(5), object(7)\n",
      "memory usage: 210.4+ KB\n"
     ]
    }
   ],
   "source": [
    "df.info()"
   ]
  },
  {
   "cell_type": "code",
   "execution_count": 455,
   "id": "5454aaa2",
   "metadata": {},
   "outputs": [
    {
     "data": {
      "text/plain": [
       "<AxesSubplot:>"
      ]
     },
     "execution_count": 455,
     "metadata": {},
     "output_type": "execute_result"
    },
    {
     "data": {
      "image/png": "[encoded data removed]",
      "text/plain": [
       "<Figure size 432x288 with 1 Axes>"
      ]
     },
     "metadata": {
      "needs_background": "light"
     },
     "output_type": "display_data"
    }
   ],
   "source": [
    "df[\"Year\"].value_counts().plot(kind='bar')"
   ]
  },
  {
   "cell_type": "code",
   "execution_count": null,
   "id": "238b0882",
   "metadata": {},
   "outputs": [],
   "source": [
    "t1"
   ]
  }
 ],
 "metadata": {
  "kernelspec": {
   "display_name": "Python 3",
   "language": "python",
   "name": "python3"
  },
  "language_info": {
   "codemirror_mode": {
    "name": "ipython",
    "version": 3
   },
   "file_extension": ".py",
   "mimetype": "text/x-python",
   "name": "python",
   "nbconvert_exporter": "python",
   "pygments_lexer": "ipython3",
   "version": "3.9.4"
  }
 },
 "nbformat": 4,
 "nbformat_minor": 5
}
