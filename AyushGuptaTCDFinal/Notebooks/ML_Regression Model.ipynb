{
 "cells": [
  {
   "cell_type": "code",
   "execution_count": 82,
   "id": "40f7b2c2",
   "metadata": {},
   "outputs": [],
   "source": [
    "import numpy as np \n",
    "from numpy import interp\n",
    "\n",
    "import pickle\n",
    "import pandas as pd \n",
    "import matplotlib.pyplot as plt\n",
    "\n",
    "from sklearn.preprocessing import LabelEncoder\n",
    "from sklearn.model_selection import train_test_split\n",
    "from sklearn.ensemble import RandomForestClassifier\n",
    "from sklearn.linear_model import LogisticRegression\n",
    "from sklearn import tree\n",
    "from sklearn.model_selection import cross_val_score\n",
    "from sklearn.neighbors import KNeighborsClassifier"
   ]
  },
  {
   "cell_type": "code",
   "execution_count": 2,
   "id": "6bb052fd",
   "metadata": {},
   "outputs": [],
   "source": [
    "from pprint import pprint\n",
    "from sklearn.utils import resample\n",
    "from sklearn.metrics import confusion_matrix\n",
    "from sklearn.metrics import roc_auc_score, roc_curve,auc"
   ]
  },
  {
   "cell_type": "code",
   "execution_count": 3,
   "id": "05fe64dc",
   "metadata": {},
   "outputs": [],
   "source": [
    "# import warnings filter\n",
    "from warnings import simplefilter\n",
    "# ignore all future warnings\n",
    "simplefilter(action='ignore', category=FutureWarning)"
   ]
  },
  {
   "cell_type": "code",
   "execution_count": 84,
   "id": "cda42354",
   "metadata": {},
   "outputs": [],
   "source": [
    "df = pd.read_excel('FinalFinalFinalSheet.xlsx')"
   ]
  },
  {
   "cell_type": "code",
   "execution_count": 5,
   "id": "8acd4006",
   "metadata": {},
   "outputs": [
    {
     "data": {
      "text/plain": [
       "Index(['Unnamed: 0', 'Unnamed: 0.1', 'Unnamed: 0.1.1', 'Sr No',\n",
       "       'Date dd/mm/yyyy', 'Startup Name', 'Industry Vertical', 'SubVertical',\n",
       "       'City  Location', 'Investors Name', 'InvestmentnType', 'Amount in USD',\n",
       "       'TierBoolean', 'AmountInUSDBoolean', 'Year', 'Month',\n",
       "       'OnlineMarketPlaceBoolean', 'EducationBool', 'ServiceInternetBoolean',\n",
       "       'HealthTechBoolean', 'Quantile Rank', 'Number_Investors',\n",
       "       'tryColumnForInvestment', 'Reached_Series_A'],\n",
       "      dtype='object')"
      ]
     },
     "execution_count": 5,
     "metadata": {},
     "output_type": "execute_result"
    }
   ],
   "source": [
    "df.columns"
   ]
  },
  {
   "cell_type": "code",
   "execution_count": 6,
   "id": "1515a3c8",
   "metadata": {},
   "outputs": [],
   "source": [
    "working_df = df[df['Industry Vertical'].notna() & df[\"Startup Name\"].notna() & df['Amount in USD'].notna()]"
   ]
  },
  {
   "cell_type": "code",
   "execution_count": 7,
   "id": "b12d38bb",
   "metadata": {},
   "outputs": [
    {
     "data": {
      "text/html": [
       "<div>\n",
       "<style scoped>\n",
       "    .dataframe tbody tr th:only-of-type {\n",
       "        vertical-align: middle;\n",
       "    }\n",
       "\n",
       "    .dataframe tbody tr th {\n",
       "        vertical-align: top;\n",
       "    }\n",
       "\n",
       "    .dataframe thead th {\n",
       "        text-align: right;\n",
       "    }\n",
       "</style>\n",
       "<table border=\"1\" class=\"dataframe\">\n",
       "  <thead>\n",
       "    <tr style=\"text-align: right;\">\n",
       "      <th></th>\n",
       "      <th>Unnamed: 0</th>\n",
       "      <th>Unnamed: 0.1</th>\n",
       "      <th>Unnamed: 0.1.1</th>\n",
       "      <th>Sr No</th>\n",
       "      <th>Date dd/mm/yyyy</th>\n",
       "      <th>Startup Name</th>\n",
       "      <th>Industry Vertical</th>\n",
       "      <th>SubVertical</th>\n",
       "      <th>City  Location</th>\n",
       "      <th>Investors Name</th>\n",
       "      <th>...</th>\n",
       "      <th>Year</th>\n",
       "      <th>Month</th>\n",
       "      <th>OnlineMarketPlaceBoolean</th>\n",
       "      <th>EducationBool</th>\n",
       "      <th>ServiceInternetBoolean</th>\n",
       "      <th>HealthTechBoolean</th>\n",
       "      <th>Quantile Rank</th>\n",
       "      <th>Number_Investors</th>\n",
       "      <th>tryColumnForInvestment</th>\n",
       "      <th>Reached_Series_A</th>\n",
       "    </tr>\n",
       "  </thead>\n",
       "  <tbody>\n",
       "    <tr>\n",
       "      <th>0</th>\n",
       "      <td>0</td>\n",
       "      <td>0</td>\n",
       "      <td>0</td>\n",
       "      <td>1</td>\n",
       "      <td>2020-01-09</td>\n",
       "      <td>BYJU’S</td>\n",
       "      <td>Edtech</td>\n",
       "      <td>E-learning</td>\n",
       "      <td>Bengaluru</td>\n",
       "      <td>Tiger Global Management</td>\n",
       "      <td>...</td>\n",
       "      <td>2020</td>\n",
       "      <td>1</td>\n",
       "      <td>False</td>\n",
       "      <td>False</td>\n",
       "      <td>False</td>\n",
       "      <td>False</td>\n",
       "      <td>9</td>\n",
       "      <td>1</td>\n",
       "      <td>Private Equity</td>\n",
       "      <td>False</td>\n",
       "    </tr>\n",
       "    <tr>\n",
       "      <th>1</th>\n",
       "      <td>1</td>\n",
       "      <td>1</td>\n",
       "      <td>1</td>\n",
       "      <td>2</td>\n",
       "      <td>2020-01-13</td>\n",
       "      <td>Shuttl</td>\n",
       "      <td>Transportation</td>\n",
       "      <td>App based shuttle service</td>\n",
       "      <td>Gurgaon</td>\n",
       "      <td>Susquehanna Growth Equity</td>\n",
       "      <td>...</td>\n",
       "      <td>2020</td>\n",
       "      <td>1</td>\n",
       "      <td>False</td>\n",
       "      <td>False</td>\n",
       "      <td>False</td>\n",
       "      <td>False</td>\n",
       "      <td>7</td>\n",
       "      <td>1</td>\n",
       "      <td>Series C</td>\n",
       "      <td>False</td>\n",
       "    </tr>\n",
       "    <tr>\n",
       "      <th>2</th>\n",
       "      <td>2</td>\n",
       "      <td>2</td>\n",
       "      <td>2</td>\n",
       "      <td>3</td>\n",
       "      <td>2020-01-09</td>\n",
       "      <td>Mamaearth</td>\n",
       "      <td>eCommerce</td>\n",
       "      <td>Retailer of baby and toddler products</td>\n",
       "      <td>Bengaluru</td>\n",
       "      <td>Sequoia Capital India</td>\n",
       "      <td>...</td>\n",
       "      <td>2020</td>\n",
       "      <td>1</td>\n",
       "      <td>False</td>\n",
       "      <td>False</td>\n",
       "      <td>False</td>\n",
       "      <td>False</td>\n",
       "      <td>8</td>\n",
       "      <td>1</td>\n",
       "      <td>Series B</td>\n",
       "      <td>False</td>\n",
       "    </tr>\n",
       "    <tr>\n",
       "      <th>3</th>\n",
       "      <td>3</td>\n",
       "      <td>3</td>\n",
       "      <td>3</td>\n",
       "      <td>4</td>\n",
       "      <td>2020-01-02</td>\n",
       "      <td>https://www.wealthbucket.in/</td>\n",
       "      <td>FinTech</td>\n",
       "      <td>Online Investment</td>\n",
       "      <td>New Delhi</td>\n",
       "      <td>Vinod Khatumal</td>\n",
       "      <td>...</td>\n",
       "      <td>2020</td>\n",
       "      <td>1</td>\n",
       "      <td>False</td>\n",
       "      <td>False</td>\n",
       "      <td>False</td>\n",
       "      <td>False</td>\n",
       "      <td>5</td>\n",
       "      <td>1</td>\n",
       "      <td>Pre-series A</td>\n",
       "      <td>True</td>\n",
       "    </tr>\n",
       "    <tr>\n",
       "      <th>4</th>\n",
       "      <td>4</td>\n",
       "      <td>4</td>\n",
       "      <td>4</td>\n",
       "      <td>5</td>\n",
       "      <td>2020-01-02</td>\n",
       "      <td>Fashor</td>\n",
       "      <td>Fashion and Apparel</td>\n",
       "      <td>Embroiled Clothes For Women</td>\n",
       "      <td>Mumbai</td>\n",
       "      <td>Sprout Venture Partners</td>\n",
       "      <td>...</td>\n",
       "      <td>2020</td>\n",
       "      <td>1</td>\n",
       "      <td>False</td>\n",
       "      <td>False</td>\n",
       "      <td>False</td>\n",
       "      <td>False</td>\n",
       "      <td>5</td>\n",
       "      <td>1</td>\n",
       "      <td>Seed Funding</td>\n",
       "      <td>True</td>\n",
       "    </tr>\n",
       "    <tr>\n",
       "      <th>...</th>\n",
       "      <td>...</td>\n",
       "      <td>...</td>\n",
       "      <td>...</td>\n",
       "      <td>...</td>\n",
       "      <td>...</td>\n",
       "      <td>...</td>\n",
       "      <td>...</td>\n",
       "      <td>...</td>\n",
       "      <td>...</td>\n",
       "      <td>...</td>\n",
       "      <td>...</td>\n",
       "      <td>...</td>\n",
       "      <td>...</td>\n",
       "      <td>...</td>\n",
       "      <td>...</td>\n",
       "      <td>...</td>\n",
       "      <td>...</td>\n",
       "      <td>...</td>\n",
       "      <td>...</td>\n",
       "      <td>...</td>\n",
       "      <td>...</td>\n",
       "    </tr>\n",
       "    <tr>\n",
       "      <th>1934</th>\n",
       "      <td>1934</td>\n",
       "      <td>1934</td>\n",
       "      <td>1934</td>\n",
       "      <td>2868</td>\n",
       "      <td>2015-04-29</td>\n",
       "      <td>Icertis</td>\n",
       "      <td>Advertising</td>\n",
       "      <td>NaN</td>\n",
       "      <td>Pune / US</td>\n",
       "      <td>Greycroft Partners, Fidelity Growth Partners</td>\n",
       "      <td>...</td>\n",
       "      <td>2015</td>\n",
       "      <td>4</td>\n",
       "      <td>False</td>\n",
       "      <td>False</td>\n",
       "      <td>False</td>\n",
       "      <td>False</td>\n",
       "      <td>6</td>\n",
       "      <td>2</td>\n",
       "      <td>Series A</td>\n",
       "      <td>True</td>\n",
       "    </tr>\n",
       "    <tr>\n",
       "      <th>1935</th>\n",
       "      <td>1935</td>\n",
       "      <td>1935</td>\n",
       "      <td>1935</td>\n",
       "      <td>2869</td>\n",
       "      <td>2015-04-29</td>\n",
       "      <td>Tracxn</td>\n",
       "      <td>Startup Analytics platform</td>\n",
       "      <td>NaN</td>\n",
       "      <td>Bengaluru</td>\n",
       "      <td>SAIF Partners</td>\n",
       "      <td>...</td>\n",
       "      <td>2015</td>\n",
       "      <td>4</td>\n",
       "      <td>False</td>\n",
       "      <td>False</td>\n",
       "      <td>False</td>\n",
       "      <td>False</td>\n",
       "      <td>6</td>\n",
       "      <td>1</td>\n",
       "      <td>Series A</td>\n",
       "      <td>True</td>\n",
       "    </tr>\n",
       "    <tr>\n",
       "      <th>1936</th>\n",
       "      <td>1936</td>\n",
       "      <td>1936</td>\n",
       "      <td>1936</td>\n",
       "      <td>2871</td>\n",
       "      <td>2015-04-29</td>\n",
       "      <td>Tradelab</td>\n",
       "      <td>Financial Markets Software</td>\n",
       "      <td>NaN</td>\n",
       "      <td>Bengaluru</td>\n",
       "      <td>Rainmatter</td>\n",
       "      <td>...</td>\n",
       "      <td>2015</td>\n",
       "      <td>4</td>\n",
       "      <td>False</td>\n",
       "      <td>False</td>\n",
       "      <td>False</td>\n",
       "      <td>False</td>\n",
       "      <td>2</td>\n",
       "      <td>1</td>\n",
       "      <td>Seed Funding</td>\n",
       "      <td>False</td>\n",
       "    </tr>\n",
       "    <tr>\n",
       "      <th>1937</th>\n",
       "      <td>1937</td>\n",
       "      <td>1937</td>\n",
       "      <td>1937</td>\n",
       "      <td>2872</td>\n",
       "      <td>2015-04-29</td>\n",
       "      <td>PiQube</td>\n",
       "      <td>Hiring Analytics platform</td>\n",
       "      <td>NaN</td>\n",
       "      <td>Chennai</td>\n",
       "      <td>The HR Fund</td>\n",
       "      <td>...</td>\n",
       "      <td>2015</td>\n",
       "      <td>4</td>\n",
       "      <td>False</td>\n",
       "      <td>False</td>\n",
       "      <td>False</td>\n",
       "      <td>False</td>\n",
       "      <td>2</td>\n",
       "      <td>1</td>\n",
       "      <td>Seed Funding</td>\n",
       "      <td>False</td>\n",
       "    </tr>\n",
       "    <tr>\n",
       "      <th>1938</th>\n",
       "      <td>1938</td>\n",
       "      <td>1938</td>\n",
       "      <td>1938</td>\n",
       "      <td>2873</td>\n",
       "      <td>2015-04-29</td>\n",
       "      <td>Travel Triangle</td>\n",
       "      <td>Online Travel Marketplace</td>\n",
       "      <td>NaN</td>\n",
       "      <td>Noida</td>\n",
       "      <td>Bessemer Venture Partners, SAIF Partners</td>\n",
       "      <td>...</td>\n",
       "      <td>2015</td>\n",
       "      <td>4</td>\n",
       "      <td>False</td>\n",
       "      <td>False</td>\n",
       "      <td>False</td>\n",
       "      <td>False</td>\n",
       "      <td>7</td>\n",
       "      <td>2</td>\n",
       "      <td>Series B</td>\n",
       "      <td>False</td>\n",
       "    </tr>\n",
       "  </tbody>\n",
       "</table>\n",
       "<p>1939 rows × 24 columns</p>\n",
       "</div>"
      ],
      "text/plain": [
       "      Unnamed: 0  Unnamed: 0.1  Unnamed: 0.1.1  Sr No Date dd/mm/yyyy  \\\n",
       "0              0             0               0      1      2020-01-09   \n",
       "1              1             1               1      2      2020-01-13   \n",
       "2              2             2               2      3      2020-01-09   \n",
       "3              3             3               3      4      2020-01-02   \n",
       "4              4             4               4      5      2020-01-02   \n",
       "...          ...           ...             ...    ...             ...   \n",
       "1934        1934          1934            1934   2868      2015-04-29   \n",
       "1935        1935          1935            1935   2869      2015-04-29   \n",
       "1936        1936          1936            1936   2871      2015-04-29   \n",
       "1937        1937          1937            1937   2872      2015-04-29   \n",
       "1938        1938          1938            1938   2873      2015-04-29   \n",
       "\n",
       "                      Startup Name           Industry Vertical  \\\n",
       "0                           BYJU’S                      Edtech   \n",
       "1                           Shuttl              Transportation   \n",
       "2                        Mamaearth                   eCommerce   \n",
       "3     https://www.wealthbucket.in/                     FinTech   \n",
       "4                           Fashor         Fashion and Apparel   \n",
       "...                            ...                         ...   \n",
       "1934                       Icertis                 Advertising   \n",
       "1935                        Tracxn  Startup Analytics platform   \n",
       "1936                      Tradelab  Financial Markets Software   \n",
       "1937                        PiQube   Hiring Analytics platform   \n",
       "1938               Travel Triangle   Online Travel Marketplace   \n",
       "\n",
       "                                SubVertical City  Location  \\\n",
       "0                                E-learning      Bengaluru   \n",
       "1                 App based shuttle service        Gurgaon   \n",
       "2     Retailer of baby and toddler products      Bengaluru   \n",
       "3                         Online Investment      New Delhi   \n",
       "4               Embroiled Clothes For Women         Mumbai   \n",
       "...                                     ...            ...   \n",
       "1934                                    NaN      Pune / US   \n",
       "1935                                    NaN      Bengaluru   \n",
       "1936                                    NaN      Bengaluru   \n",
       "1937                                    NaN        Chennai   \n",
       "1938                                    NaN          Noida   \n",
       "\n",
       "                                    Investors Name  ...  Year  Month  \\\n",
       "0                          Tiger Global Management  ...  2020      1   \n",
       "1                        Susquehanna Growth Equity  ...  2020      1   \n",
       "2                            Sequoia Capital India  ...  2020      1   \n",
       "3                                   Vinod Khatumal  ...  2020      1   \n",
       "4                          Sprout Venture Partners  ...  2020      1   \n",
       "...                                            ...  ...   ...    ...   \n",
       "1934  Greycroft Partners, Fidelity Growth Partners  ...  2015      4   \n",
       "1935                                 SAIF Partners  ...  2015      4   \n",
       "1936                                    Rainmatter  ...  2015      4   \n",
       "1937                                   The HR Fund  ...  2015      4   \n",
       "1938      Bessemer Venture Partners, SAIF Partners  ...  2015      4   \n",
       "\n",
       "      OnlineMarketPlaceBoolean  EducationBool  ServiceInternetBoolean  \\\n",
       "0                        False          False                   False   \n",
       "1                        False          False                   False   \n",
       "2                        False          False                   False   \n",
       "3                        False          False                   False   \n",
       "4                        False          False                   False   \n",
       "...                        ...            ...                     ...   \n",
       "1934                     False          False                   False   \n",
       "1935                     False          False                   False   \n",
       "1936                     False          False                   False   \n",
       "1937                     False          False                   False   \n",
       "1938                     False          False                   False   \n",
       "\n",
       "      HealthTechBoolean  Quantile Rank  Number_Investors  \\\n",
       "0                 False              9                 1   \n",
       "1                 False              7                 1   \n",
       "2                 False              8                 1   \n",
       "3                 False              5                 1   \n",
       "4                 False              5                 1   \n",
       "...                 ...            ...               ...   \n",
       "1934              False              6                 2   \n",
       "1935              False              6                 1   \n",
       "1936              False              2                 1   \n",
       "1937              False              2                 1   \n",
       "1938              False              7                 2   \n",
       "\n",
       "      tryColumnForInvestment  Reached_Series_A  \n",
       "0             Private Equity             False  \n",
       "1                   Series C             False  \n",
       "2                   Series B             False  \n",
       "3               Pre-series A              True  \n",
       "4               Seed Funding              True  \n",
       "...                      ...               ...  \n",
       "1934                Series A              True  \n",
       "1935                Series A              True  \n",
       "1936            Seed Funding             False  \n",
       "1937            Seed Funding             False  \n",
       "1938                Series B             False  \n",
       "\n",
       "[1939 rows x 24 columns]"
      ]
     },
     "execution_count": 7,
     "metadata": {},
     "output_type": "execute_result"
    }
   ],
   "source": [
    "working_df"
   ]
  },
  {
   "cell_type": "code",
   "execution_count": 8,
   "id": "72e462d6",
   "metadata": {},
   "outputs": [
    {
     "data": {
      "text/plain": [
       "Index(['Unnamed: 0', 'Unnamed: 0.1', 'Unnamed: 0.1.1', 'Sr No',\n",
       "       'Date dd/mm/yyyy', 'Startup Name', 'Industry Vertical', 'SubVertical',\n",
       "       'City  Location', 'Investors Name', 'InvestmentnType', 'Amount in USD',\n",
       "       'TierBoolean', 'AmountInUSDBoolean', 'Year', 'Month',\n",
       "       'OnlineMarketPlaceBoolean', 'EducationBool', 'ServiceInternetBoolean',\n",
       "       'HealthTechBoolean', 'Quantile Rank', 'Number_Investors',\n",
       "       'tryColumnForInvestment', 'Reached_Series_A'],\n",
       "      dtype='object')"
      ]
     },
     "execution_count": 8,
     "metadata": {},
     "output_type": "execute_result"
    }
   ],
   "source": [
    "working_df.columns"
   ]
  },
  {
   "cell_type": "code",
   "execution_count": 9,
   "id": "5d18b440",
   "metadata": {},
   "outputs": [
    {
     "name": "stderr",
     "output_type": "stream",
     "text": [
      "c:\\users\\ayush\\appdata\\local\\programs\\python\\python39\\lib\\site-packages\\pandas\\core\\frame.py:4906: SettingWithCopyWarning: \n",
      "A value is trying to be set on a copy of a slice from a DataFrame\n",
      "\n",
      "See the caveats in the documentation: https://pandas.pydata.org/pandas-docs/stable/user_guide/indexing.html#returning-a-view-versus-a-copy\n",
      "  return super().drop(\n"
     ]
    }
   ],
   "source": [
    "working_df.drop('Unnamed: 0',axis = 1, inplace = True)\n",
    "working_df.drop('Unnamed: 0.1',axis = 1, inplace = True)"
   ]
  },
  {
   "cell_type": "code",
   "execution_count": 10,
   "id": "0b38828a",
   "metadata": {},
   "outputs": [
    {
     "data": {
      "text/plain": [
       "Seed Funding                   559\n",
       "Series A                       448\n",
       "Pre-series A                   312\n",
       "Series C                       201\n",
       "Series B                       172\n",
       "Seed Angel Funding              76\n",
       "Series D                        49\n",
       "Private Equity                  35\n",
       "Debt Funding                    20\n",
       "Series C                        14\n",
       "Series D                        12\n",
       "Angel   Seed Funding             4\n",
       "Seed                             3\n",
       "Venture Round                    2\n",
       "Seed  Angel Funding              2\n",
       "pre-Series A                     2\n",
       "Pre-Series A                     2\n",
       "Series F                         2\n",
       "Series E                         2\n",
       "Single Venture                   1\n",
       "Debt-Funding                     1\n",
       "Term Loan                        1\n",
       "Structured Debt                  1\n",
       "Private                          1\n",
       "Series G                         1\n",
       "Private Funding                  1\n",
       "Equity Based Funding             1\n",
       "Series B (Extension)             1\n",
       "Equity                           1\n",
       "Corporate Round                  1\n",
       "Series H                         1\n",
       "Inhouse Funding                  1\n",
       "Debt and Preference capital      1\n",
       "Funding Round                    1\n",
       "Maiden Round                     1\n",
       "Angel Round                      1\n",
       "Angel                            1\n",
       "pre-series A                     1\n",
       "Seed Funding Round               1\n",
       "PrivateEquity                    1\n",
       "Name: tryColumnForInvestment, dtype: int64"
      ]
     },
     "execution_count": 10,
     "metadata": {},
     "output_type": "execute_result"
    }
   ],
   "source": [
    "working_df['tryColumnForInvestment'].value_counts()"
   ]
  },
  {
   "cell_type": "code",
   "execution_count": 11,
   "id": "5ce07419",
   "metadata": {},
   "outputs": [
    {
     "name": "stdout",
     "output_type": "stream",
     "text": [
      "<class 'pandas.core.frame.DataFrame'>\n",
      "Int64Index: 1939 entries, 0 to 1938\n",
      "Data columns (total 22 columns):\n",
      " #   Column                    Non-Null Count  Dtype         \n",
      "---  ------                    --------------  -----         \n",
      " 0   Unnamed: 0.1.1            1939 non-null   int64         \n",
      " 1   Sr No                     1939 non-null   int64         \n",
      " 2   Date dd/mm/yyyy           1939 non-null   datetime64[ns]\n",
      " 3   Startup Name              1939 non-null   object        \n",
      " 4   Industry Vertical         1939 non-null   object        \n",
      " 5   SubVertical               1470 non-null   object        \n",
      " 6   City  Location            1935 non-null   object        \n",
      " 7   Investors Name            1919 non-null   object        \n",
      " 8   InvestmentnType           1938 non-null   object        \n",
      " 9   Amount in USD             1939 non-null   int64         \n",
      " 10  TierBoolean               1939 non-null   bool          \n",
      " 11  AmountInUSDBoolean        1939 non-null   bool          \n",
      " 12  Year                      1939 non-null   int64         \n",
      " 13  Month                     1939 non-null   int64         \n",
      " 14  OnlineMarketPlaceBoolean  1939 non-null   bool          \n",
      " 15  EducationBool             1939 non-null   bool          \n",
      " 16  ServiceInternetBoolean    1939 non-null   bool          \n",
      " 17  HealthTechBoolean         1939 non-null   bool          \n",
      " 18  Quantile Rank             1939 non-null   int64         \n",
      " 19  Number_Investors          1939 non-null   int64         \n",
      " 20  tryColumnForInvestment    1938 non-null   object        \n",
      " 21  Reached_Series_A          1939 non-null   bool          \n",
      "dtypes: bool(7), datetime64[ns](1), int64(7), object(7)\n",
      "memory usage: 255.6+ KB\n"
     ]
    }
   ],
   "source": [
    "working_df.info()"
   ]
  },
  {
   "cell_type": "code",
   "execution_count": 12,
   "id": "028d9243",
   "metadata": {},
   "outputs": [
    {
     "name": "stderr",
     "output_type": "stream",
     "text": [
      "<ipython-input-12-4cb34d8320ed>:1: SettingWithCopyWarning: \n",
      "A value is trying to be set on a copy of a slice from a DataFrame.\n",
      "Try using .loc[row_indexer,col_indexer] = value instead\n",
      "\n",
      "See the caveats in the documentation: https://pandas.pydata.org/pandas-docs/stable/user_guide/indexing.html#returning-a-view-versus-a-copy\n",
      "  working_df['Reached_Series_A'] = (working_df['tryColumnForInvestment']==\"Series A\")| (working_df['Amount in USD'].between(1250000,7000000))\n"
     ]
    }
   ],
   "source": [
    "working_df['Reached_Series_A'] = (working_df['tryColumnForInvestment']==\"Series A\")| (working_df['Amount in USD'].between(1250000,7000000))"
   ]
  },
  {
   "cell_type": "code",
   "execution_count": 13,
   "id": "f05fdb87",
   "metadata": {},
   "outputs": [
    {
     "name": "stderr",
     "output_type": "stream",
     "text": [
      "<ipython-input-13-b07087bd7aba>:1: SettingWithCopyWarning: \n",
      "A value is trying to be set on a copy of a slice from a DataFrame.\n",
      "Try using .loc[row_indexer,col_indexer] = value instead\n",
      "\n",
      "See the caveats in the documentation: https://pandas.pydata.org/pandas-docs/stable/user_guide/indexing.html#returning-a-view-versus-a-copy\n",
      "  working_df['Reached_Series_B'] = (working_df['tryColumnForInvestment']==\"Series B\") | (working_df['Amount in USD'].between(7000001,15000000))\n"
     ]
    }
   ],
   "source": [
    "working_df['Reached_Series_B'] = (working_df['tryColumnForInvestment']==\"Series B\") | (working_df['Amount in USD'].between(7000001,15000000))"
   ]
  },
  {
   "cell_type": "code",
   "execution_count": 14,
   "id": "1fc9e0c8",
   "metadata": {},
   "outputs": [
    {
     "name": "stderr",
     "output_type": "stream",
     "text": [
      "c:\\users\\ayush\\appdata\\local\\programs\\python\\python39\\lib\\site-packages\\pandas\\core\\generic.py:6619: SettingWithCopyWarning: \n",
      "A value is trying to be set on a copy of a slice from a DataFrame\n",
      "\n",
      "See the caveats in the documentation: https://pandas.pydata.org/pandas-docs/stable/user_guide/indexing.html#returning-a-view-versus-a-copy\n",
      "  return self._update_inplace(result)\n"
     ]
    }
   ],
   "source": [
    "working_df['Reached_Series_B'].replace(True,1,inplace =True)\n",
    "working_df['Reached_Series_B'].replace(False,0,inplace =True)"
   ]
  },
  {
   "cell_type": "code",
   "execution_count": 15,
   "id": "7851f55a",
   "metadata": {},
   "outputs": [
    {
     "name": "stdout",
     "output_type": "stream",
     "text": [
      "2020-05-01 00:00:00\n"
     ]
    }
   ],
   "source": [
    "import datetime\n",
    "\n",
    "x = datetime.datetime(2020, 5, 1)\n",
    "\n",
    "print(x)\n",
    "\n",
    "def year_estd(date):\n",
    "    now = datetime.datetime(2022,8,14,0,0,0,0)\n",
    "    diff = now - date\n",
    "    return (diff.days/365)"
   ]
  },
  {
   "cell_type": "code",
   "execution_count": 16,
   "id": "a0410d5a",
   "metadata": {},
   "outputs": [
    {
     "name": "stderr",
     "output_type": "stream",
     "text": [
      "<ipython-input-16-4d2bfd198cf6>:1: SettingWithCopyWarning: \n",
      "A value is trying to be set on a copy of a slice from a DataFrame.\n",
      "Try using .loc[row_indexer,col_indexer] = value instead\n",
      "\n",
      "See the caveats in the documentation: https://pandas.pydata.org/pandas-docs/stable/user_guide/indexing.html#returning-a-view-versus-a-copy\n",
      "  working_df['Time'] = working_df['Date dd/mm/yyyy'].apply(lambda row: year_estd(row))\n"
     ]
    }
   ],
   "source": [
    "working_df['Time'] = working_df['Date dd/mm/yyyy'].apply(lambda row: year_estd(row))"
   ]
  },
  {
   "cell_type": "code",
   "execution_count": 17,
   "id": "a46cc8fc",
   "metadata": {},
   "outputs": [
    {
     "name": "stderr",
     "output_type": "stream",
     "text": [
      "<ipython-input-17-93cb9144a2e6>:1: SettingWithCopyWarning: \n",
      "A value is trying to be set on a copy of a slice from a DataFrame.\n",
      "Try using .loc[row_indexer,col_indexer] = value instead\n",
      "\n",
      "See the caveats in the documentation: https://pandas.pydata.org/pandas-docs/stable/user_guide/indexing.html#returning-a-view-versus-a-copy\n",
      "  working_df['annual_raised'] = working_df['Amount in USD']/working_df['Time']\n"
     ]
    }
   ],
   "source": [
    "working_df['annual_raised'] = working_df['Amount in USD']/working_df['Time']"
   ]
  },
  {
   "cell_type": "markdown",
   "id": "89079318",
   "metadata": {},
   "source": [
    "# Goal Definition : Reach Series A ( raise upto 7M)"
   ]
  },
  {
   "cell_type": "code",
   "execution_count": 18,
   "id": "51b8a5a6",
   "metadata": {},
   "outputs": [],
   "source": [
    "working_df['Reached_Series_A'].replace(True,1,inplace =True)"
   ]
  },
  {
   "cell_type": "code",
   "execution_count": 19,
   "id": "a48584e0",
   "metadata": {},
   "outputs": [],
   "source": [
    "working_df['Reached_Series_A'].replace(False,0,inplace = True)"
   ]
  },
  {
   "cell_type": "code",
   "execution_count": 20,
   "id": "1826437f",
   "metadata": {},
   "outputs": [
    {
     "data": {
      "text/plain": [
       "0       0\n",
       "1       0\n",
       "2       0\n",
       "3       1\n",
       "4       1\n",
       "       ..\n",
       "1934    1\n",
       "1935    1\n",
       "1936    0\n",
       "1937    0\n",
       "1938    0\n",
       "Name: Reached_Series_A, Length: 1939, dtype: int64"
      ]
     },
     "execution_count": 20,
     "metadata": {},
     "output_type": "execute_result"
    }
   ],
   "source": [
    "working_df['Reached_Series_A']"
   ]
  },
  {
   "cell_type": "markdown",
   "id": "31accd80",
   "metadata": {},
   "source": [
    "## One Hot Encoding"
   ]
  },
  {
   "cell_type": "code",
   "execution_count": 21,
   "id": "8b3030ef",
   "metadata": {},
   "outputs": [],
   "source": [
    "seed = working_df[(working_df['tryColumnForInvestment']=='Seed Funding') | (working_df['tryColumnForInvestment']=='Pre-series A') |(working_df['tryColumnForInvestment']=='Seed Angel Funding')]\n",
    "seed_y = seed['Reached_Series_A']"
   ]
  },
  {
   "cell_type": "code",
   "execution_count": 22,
   "id": "f897fa9f",
   "metadata": {},
   "outputs": [
    {
     "data": {
      "text/plain": [
       "(947,)"
      ]
     },
     "execution_count": 22,
     "metadata": {},
     "output_type": "execute_result"
    }
   ],
   "source": [
    "seed_y.shape"
   ]
  },
  {
   "cell_type": "code",
   "execution_count": 23,
   "id": "8134839f",
   "metadata": {},
   "outputs": [],
   "source": [
    "seriesA = working_df[(working_df[\"InvestmentnType\"]==\"Series A\")]\n",
    "seriesA_y = seriesA['Reached_Series_B']"
   ]
  },
  {
   "cell_type": "code",
   "execution_count": 24,
   "id": "a803ef90",
   "metadata": {},
   "outputs": [],
   "source": [
    "def one_hot(dataframe, nominal):\n",
    "    gen_onehot_features = pd.get_dummies(dataframe[nominal])\n",
    "    result = pd.concat([dataframe, gen_onehot_features],axis=1)\n",
    "    result.drop([nominal],axis=1,inplace=True)\n",
    "    result.drop(result.columns[(result == 0).sum() > 0.995*result.shape[0]], axis = 1, inplace = True) \n",
    "\n",
    "    return result"
   ]
  },
  {
   "cell_type": "code",
   "execution_count": 25,
   "id": "5736be4b",
   "metadata": {},
   "outputs": [],
   "source": [
    "def one_hot_market(dataframe):\n",
    "    gen_onehot_features = pd.get_dummies(dataframe['InvestmentnType'])\n",
    "    result = pd.concat([dataframe, gen_onehot_features],axis=1)\n",
    "    result.drop(['InvestmentnType'],axis=1,inplace=True)\n",
    "#     print(result.columns[(result == 0).sum() > 0.995*result.shape[0]])\n",
    "    result.drop(result.columns[(result == 0).sum() > 0.995*result.shape[0]], axis = 1, inplace = True) \n",
    "\n",
    "    return result\n",
    "\n",
    "def one_hot_location(dataframe):\n",
    "    gen_onehot_features = pd.get_dummies(dataframe['City Location'])\n",
    "    result = pd.concat([dataframe, gen_onehot_features],axis=1)\n",
    "    result.drop(['City Location'],axis=1,inplace=True)\n",
    "    result.drop(result.columns[(result == 0).sum() > 0.995*result.shape[0]], axis = 1, inplace = True) \n",
    "\n",
    "    return result"
   ]
  },
  {
   "cell_type": "code",
   "execution_count": 26,
   "id": "85c9c4c4",
   "metadata": {},
   "outputs": [],
   "source": [
    "seed_x = one_hot(one_hot(seed[['City  Location',\"Time\",'Industry Vertical']],'City  Location'),'Industry Vertical')"
   ]
  },
  {
   "cell_type": "code",
   "execution_count": 27,
   "id": "0abbb836",
   "metadata": {},
   "outputs": [],
   "source": [
    "seriesA_x = one_hot(one_hot(seriesA[['City  Location',\"Time\",'Industry Vertical']],'City  Location'),'Industry Vertical')"
   ]
  },
  {
   "cell_type": "code",
   "execution_count": 28,
   "id": "c18800f9",
   "metadata": {},
   "outputs": [
    {
     "name": "stdout",
     "output_type": "stream",
     "text": [
      "(947, 34)\n",
      "(947,)\n",
      "(22, 29)\n",
      "(22,)\n"
     ]
    }
   ],
   "source": [
    "for i in [seed_x,seed_y,seriesA_x,seriesA_y]:\n",
    "    print(i.shape)"
   ]
  },
  {
   "cell_type": "code",
   "execution_count": 29,
   "id": "4ae79d26",
   "metadata": {},
   "outputs": [
    {
     "name": "stdout",
     "output_type": "stream",
     "text": [
      "(947, 34)\n",
      "(947,)\n",
      "(22, 29)\n",
      "(22,)\n"
     ]
    }
   ],
   "source": [
    "for i in [seed_x,seed_y,seriesA_x,seriesA_y]:\n",
    "    print(i.shape)"
   ]
  },
  {
   "cell_type": "code",
   "execution_count": 30,
   "id": "f332dd36",
   "metadata": {},
   "outputs": [
    {
     "data": {
      "text/html": [
       "<div>\n",
       "<style scoped>\n",
       "    .dataframe tbody tr th:only-of-type {\n",
       "        vertical-align: middle;\n",
       "    }\n",
       "\n",
       "    .dataframe tbody tr th {\n",
       "        vertical-align: top;\n",
       "    }\n",
       "\n",
       "    .dataframe thead th {\n",
       "        text-align: right;\n",
       "    }\n",
       "</style>\n",
       "<table border=\"1\" class=\"dataframe\">\n",
       "  <thead>\n",
       "    <tr style=\"text-align: right;\">\n",
       "      <th></th>\n",
       "      <th>Time</th>\n",
       "      <th>Bengaluru</th>\n",
       "      <th>Bengaluru and Gurugram</th>\n",
       "      <th>Burnsville</th>\n",
       "      <th>Chennai</th>\n",
       "      <th>Gurugram</th>\n",
       "      <th>Haryana</th>\n",
       "      <th>India/US</th>\n",
       "      <th>Mumbai</th>\n",
       "      <th>Mumbai/Bengaluru</th>\n",
       "      <th>...</th>\n",
       "      <th>Health Care</th>\n",
       "      <th>IoT</th>\n",
       "      <th>Logistics</th>\n",
       "      <th>Luxury Label</th>\n",
       "      <th>Nanotechnology</th>\n",
       "      <th>SaaS, Ecommerce</th>\n",
       "      <th>Services</th>\n",
       "      <th>Software</th>\n",
       "      <th>Technology</th>\n",
       "      <th>eCommerce</th>\n",
       "    </tr>\n",
       "  </thead>\n",
       "  <tbody>\n",
       "    <tr>\n",
       "      <th>5</th>\n",
       "      <td>2.586301</td>\n",
       "      <td>0</td>\n",
       "      <td>0</td>\n",
       "      <td>0</td>\n",
       "      <td>1</td>\n",
       "      <td>0</td>\n",
       "      <td>0</td>\n",
       "      <td>0</td>\n",
       "      <td>0</td>\n",
       "      <td>0</td>\n",
       "      <td>...</td>\n",
       "      <td>0</td>\n",
       "      <td>0</td>\n",
       "      <td>1</td>\n",
       "      <td>0</td>\n",
       "      <td>0</td>\n",
       "      <td>0</td>\n",
       "      <td>0</td>\n",
       "      <td>0</td>\n",
       "      <td>0</td>\n",
       "      <td>0</td>\n",
       "    </tr>\n",
       "    <tr>\n",
       "      <th>7</th>\n",
       "      <td>2.673973</td>\n",
       "      <td>0</td>\n",
       "      <td>0</td>\n",
       "      <td>0</td>\n",
       "      <td>0</td>\n",
       "      <td>0</td>\n",
       "      <td>0</td>\n",
       "      <td>0</td>\n",
       "      <td>0</td>\n",
       "      <td>0</td>\n",
       "      <td>...</td>\n",
       "      <td>0</td>\n",
       "      <td>0</td>\n",
       "      <td>0</td>\n",
       "      <td>0</td>\n",
       "      <td>0</td>\n",
       "      <td>0</td>\n",
       "      <td>0</td>\n",
       "      <td>0</td>\n",
       "      <td>1</td>\n",
       "      <td>0</td>\n",
       "    </tr>\n",
       "    <tr>\n",
       "      <th>34</th>\n",
       "      <td>2.945205</td>\n",
       "      <td>0</td>\n",
       "      <td>0</td>\n",
       "      <td>0</td>\n",
       "      <td>0</td>\n",
       "      <td>0</td>\n",
       "      <td>0</td>\n",
       "      <td>0</td>\n",
       "      <td>1</td>\n",
       "      <td>0</td>\n",
       "      <td>...</td>\n",
       "      <td>0</td>\n",
       "      <td>0</td>\n",
       "      <td>0</td>\n",
       "      <td>0</td>\n",
       "      <td>0</td>\n",
       "      <td>0</td>\n",
       "      <td>0</td>\n",
       "      <td>0</td>\n",
       "      <td>0</td>\n",
       "      <td>0</td>\n",
       "    </tr>\n",
       "    <tr>\n",
       "      <th>37</th>\n",
       "      <td>2.945205</td>\n",
       "      <td>0</td>\n",
       "      <td>0</td>\n",
       "      <td>1</td>\n",
       "      <td>0</td>\n",
       "      <td>0</td>\n",
       "      <td>0</td>\n",
       "      <td>0</td>\n",
       "      <td>0</td>\n",
       "      <td>0</td>\n",
       "      <td>...</td>\n",
       "      <td>0</td>\n",
       "      <td>1</td>\n",
       "      <td>0</td>\n",
       "      <td>0</td>\n",
       "      <td>0</td>\n",
       "      <td>0</td>\n",
       "      <td>0</td>\n",
       "      <td>0</td>\n",
       "      <td>0</td>\n",
       "      <td>0</td>\n",
       "    </tr>\n",
       "    <tr>\n",
       "      <th>39</th>\n",
       "      <td>2.945205</td>\n",
       "      <td>0</td>\n",
       "      <td>0</td>\n",
       "      <td>0</td>\n",
       "      <td>0</td>\n",
       "      <td>0</td>\n",
       "      <td>0</td>\n",
       "      <td>0</td>\n",
       "      <td>1</td>\n",
       "      <td>0</td>\n",
       "      <td>...</td>\n",
       "      <td>0</td>\n",
       "      <td>0</td>\n",
       "      <td>0</td>\n",
       "      <td>0</td>\n",
       "      <td>0</td>\n",
       "      <td>0</td>\n",
       "      <td>0</td>\n",
       "      <td>0</td>\n",
       "      <td>1</td>\n",
       "      <td>0</td>\n",
       "    </tr>\n",
       "    <tr>\n",
       "      <th>41</th>\n",
       "      <td>2.947945</td>\n",
       "      <td>1</td>\n",
       "      <td>0</td>\n",
       "      <td>0</td>\n",
       "      <td>0</td>\n",
       "      <td>0</td>\n",
       "      <td>0</td>\n",
       "      <td>0</td>\n",
       "      <td>0</td>\n",
       "      <td>0</td>\n",
       "      <td>...</td>\n",
       "      <td>0</td>\n",
       "      <td>0</td>\n",
       "      <td>0</td>\n",
       "      <td>0</td>\n",
       "      <td>0</td>\n",
       "      <td>0</td>\n",
       "      <td>0</td>\n",
       "      <td>0</td>\n",
       "      <td>0</td>\n",
       "      <td>0</td>\n",
       "    </tr>\n",
       "    <tr>\n",
       "      <th>43</th>\n",
       "      <td>3.038356</td>\n",
       "      <td>0</td>\n",
       "      <td>0</td>\n",
       "      <td>0</td>\n",
       "      <td>0</td>\n",
       "      <td>0</td>\n",
       "      <td>0</td>\n",
       "      <td>0</td>\n",
       "      <td>0</td>\n",
       "      <td>0</td>\n",
       "      <td>...</td>\n",
       "      <td>0</td>\n",
       "      <td>0</td>\n",
       "      <td>0</td>\n",
       "      <td>0</td>\n",
       "      <td>0</td>\n",
       "      <td>0</td>\n",
       "      <td>0</td>\n",
       "      <td>0</td>\n",
       "      <td>0</td>\n",
       "      <td>0</td>\n",
       "    </tr>\n",
       "    <tr>\n",
       "      <th>68</th>\n",
       "      <td>3.098630</td>\n",
       "      <td>0</td>\n",
       "      <td>0</td>\n",
       "      <td>0</td>\n",
       "      <td>0</td>\n",
       "      <td>0</td>\n",
       "      <td>0</td>\n",
       "      <td>0</td>\n",
       "      <td>1</td>\n",
       "      <td>0</td>\n",
       "      <td>...</td>\n",
       "      <td>1</td>\n",
       "      <td>0</td>\n",
       "      <td>0</td>\n",
       "      <td>0</td>\n",
       "      <td>0</td>\n",
       "      <td>0</td>\n",
       "      <td>0</td>\n",
       "      <td>0</td>\n",
       "      <td>0</td>\n",
       "      <td>0</td>\n",
       "    </tr>\n",
       "    <tr>\n",
       "      <th>69</th>\n",
       "      <td>3.101370</td>\n",
       "      <td>0</td>\n",
       "      <td>0</td>\n",
       "      <td>0</td>\n",
       "      <td>0</td>\n",
       "      <td>0</td>\n",
       "      <td>0</td>\n",
       "      <td>0</td>\n",
       "      <td>1</td>\n",
       "      <td>0</td>\n",
       "      <td>...</td>\n",
       "      <td>0</td>\n",
       "      <td>0</td>\n",
       "      <td>0</td>\n",
       "      <td>1</td>\n",
       "      <td>0</td>\n",
       "      <td>0</td>\n",
       "      <td>0</td>\n",
       "      <td>0</td>\n",
       "      <td>0</td>\n",
       "      <td>0</td>\n",
       "    </tr>\n",
       "    <tr>\n",
       "      <th>73</th>\n",
       "      <td>3.200000</td>\n",
       "      <td>1</td>\n",
       "      <td>0</td>\n",
       "      <td>0</td>\n",
       "      <td>0</td>\n",
       "      <td>0</td>\n",
       "      <td>0</td>\n",
       "      <td>0</td>\n",
       "      <td>0</td>\n",
       "      <td>0</td>\n",
       "      <td>...</td>\n",
       "      <td>0</td>\n",
       "      <td>0</td>\n",
       "      <td>0</td>\n",
       "      <td>0</td>\n",
       "      <td>0</td>\n",
       "      <td>0</td>\n",
       "      <td>0</td>\n",
       "      <td>0</td>\n",
       "      <td>0</td>\n",
       "      <td>0</td>\n",
       "    </tr>\n",
       "    <tr>\n",
       "      <th>77</th>\n",
       "      <td>3.191781</td>\n",
       "      <td>0</td>\n",
       "      <td>0</td>\n",
       "      <td>0</td>\n",
       "      <td>0</td>\n",
       "      <td>0</td>\n",
       "      <td>0</td>\n",
       "      <td>0</td>\n",
       "      <td>0</td>\n",
       "      <td>0</td>\n",
       "      <td>...</td>\n",
       "      <td>0</td>\n",
       "      <td>0</td>\n",
       "      <td>0</td>\n",
       "      <td>0</td>\n",
       "      <td>0</td>\n",
       "      <td>0</td>\n",
       "      <td>0</td>\n",
       "      <td>0</td>\n",
       "      <td>0</td>\n",
       "      <td>0</td>\n",
       "    </tr>\n",
       "    <tr>\n",
       "      <th>80</th>\n",
       "      <td>3.180822</td>\n",
       "      <td>0</td>\n",
       "      <td>0</td>\n",
       "      <td>0</td>\n",
       "      <td>0</td>\n",
       "      <td>0</td>\n",
       "      <td>1</td>\n",
       "      <td>0</td>\n",
       "      <td>0</td>\n",
       "      <td>0</td>\n",
       "      <td>...</td>\n",
       "      <td>0</td>\n",
       "      <td>0</td>\n",
       "      <td>0</td>\n",
       "      <td>0</td>\n",
       "      <td>0</td>\n",
       "      <td>0</td>\n",
       "      <td>0</td>\n",
       "      <td>0</td>\n",
       "      <td>0</td>\n",
       "      <td>0</td>\n",
       "    </tr>\n",
       "    <tr>\n",
       "      <th>83</th>\n",
       "      <td>3.197260</td>\n",
       "      <td>0</td>\n",
       "      <td>0</td>\n",
       "      <td>0</td>\n",
       "      <td>0</td>\n",
       "      <td>0</td>\n",
       "      <td>0</td>\n",
       "      <td>0</td>\n",
       "      <td>0</td>\n",
       "      <td>1</td>\n",
       "      <td>...</td>\n",
       "      <td>0</td>\n",
       "      <td>0</td>\n",
       "      <td>0</td>\n",
       "      <td>0</td>\n",
       "      <td>0</td>\n",
       "      <td>0</td>\n",
       "      <td>1</td>\n",
       "      <td>0</td>\n",
       "      <td>0</td>\n",
       "      <td>0</td>\n",
       "    </tr>\n",
       "    <tr>\n",
       "      <th>91</th>\n",
       "      <td>3.331507</td>\n",
       "      <td>1</td>\n",
       "      <td>0</td>\n",
       "      <td>0</td>\n",
       "      <td>0</td>\n",
       "      <td>0</td>\n",
       "      <td>0</td>\n",
       "      <td>0</td>\n",
       "      <td>0</td>\n",
       "      <td>0</td>\n",
       "      <td>...</td>\n",
       "      <td>0</td>\n",
       "      <td>0</td>\n",
       "      <td>0</td>\n",
       "      <td>0</td>\n",
       "      <td>0</td>\n",
       "      <td>0</td>\n",
       "      <td>0</td>\n",
       "      <td>0</td>\n",
       "      <td>0</td>\n",
       "      <td>0</td>\n",
       "    </tr>\n",
       "    <tr>\n",
       "      <th>101</th>\n",
       "      <td>3.323288</td>\n",
       "      <td>0</td>\n",
       "      <td>1</td>\n",
       "      <td>0</td>\n",
       "      <td>0</td>\n",
       "      <td>0</td>\n",
       "      <td>0</td>\n",
       "      <td>0</td>\n",
       "      <td>0</td>\n",
       "      <td>0</td>\n",
       "      <td>...</td>\n",
       "      <td>0</td>\n",
       "      <td>0</td>\n",
       "      <td>0</td>\n",
       "      <td>0</td>\n",
       "      <td>0</td>\n",
       "      <td>0</td>\n",
       "      <td>0</td>\n",
       "      <td>0</td>\n",
       "      <td>0</td>\n",
       "      <td>1</td>\n",
       "    </tr>\n",
       "    <tr>\n",
       "      <th>103</th>\n",
       "      <td>3.328767</td>\n",
       "      <td>1</td>\n",
       "      <td>0</td>\n",
       "      <td>0</td>\n",
       "      <td>0</td>\n",
       "      <td>0</td>\n",
       "      <td>0</td>\n",
       "      <td>0</td>\n",
       "      <td>0</td>\n",
       "      <td>0</td>\n",
       "      <td>...</td>\n",
       "      <td>0</td>\n",
       "      <td>0</td>\n",
       "      <td>0</td>\n",
       "      <td>0</td>\n",
       "      <td>0</td>\n",
       "      <td>0</td>\n",
       "      <td>0</td>\n",
       "      <td>0</td>\n",
       "      <td>1</td>\n",
       "      <td>0</td>\n",
       "    </tr>\n",
       "    <tr>\n",
       "      <th>105</th>\n",
       "      <td>3.501370</td>\n",
       "      <td>0</td>\n",
       "      <td>0</td>\n",
       "      <td>0</td>\n",
       "      <td>0</td>\n",
       "      <td>0</td>\n",
       "      <td>0</td>\n",
       "      <td>0</td>\n",
       "      <td>0</td>\n",
       "      <td>0</td>\n",
       "      <td>...</td>\n",
       "      <td>0</td>\n",
       "      <td>0</td>\n",
       "      <td>0</td>\n",
       "      <td>0</td>\n",
       "      <td>1</td>\n",
       "      <td>0</td>\n",
       "      <td>0</td>\n",
       "      <td>0</td>\n",
       "      <td>0</td>\n",
       "      <td>0</td>\n",
       "    </tr>\n",
       "    <tr>\n",
       "      <th>116</th>\n",
       "      <td>3.690411</td>\n",
       "      <td>0</td>\n",
       "      <td>0</td>\n",
       "      <td>0</td>\n",
       "      <td>0</td>\n",
       "      <td>1</td>\n",
       "      <td>0</td>\n",
       "      <td>0</td>\n",
       "      <td>0</td>\n",
       "      <td>0</td>\n",
       "      <td>...</td>\n",
       "      <td>0</td>\n",
       "      <td>0</td>\n",
       "      <td>0</td>\n",
       "      <td>0</td>\n",
       "      <td>0</td>\n",
       "      <td>1</td>\n",
       "      <td>0</td>\n",
       "      <td>0</td>\n",
       "      <td>0</td>\n",
       "      <td>0</td>\n",
       "    </tr>\n",
       "    <tr>\n",
       "      <th>120</th>\n",
       "      <td>3.767123</td>\n",
       "      <td>1</td>\n",
       "      <td>0</td>\n",
       "      <td>0</td>\n",
       "      <td>0</td>\n",
       "      <td>0</td>\n",
       "      <td>0</td>\n",
       "      <td>0</td>\n",
       "      <td>0</td>\n",
       "      <td>0</td>\n",
       "      <td>...</td>\n",
       "      <td>0</td>\n",
       "      <td>0</td>\n",
       "      <td>0</td>\n",
       "      <td>0</td>\n",
       "      <td>0</td>\n",
       "      <td>0</td>\n",
       "      <td>0</td>\n",
       "      <td>0</td>\n",
       "      <td>0</td>\n",
       "      <td>0</td>\n",
       "    </tr>\n",
       "    <tr>\n",
       "      <th>122</th>\n",
       "      <td>3.756164</td>\n",
       "      <td>0</td>\n",
       "      <td>0</td>\n",
       "      <td>0</td>\n",
       "      <td>0</td>\n",
       "      <td>0</td>\n",
       "      <td>0</td>\n",
       "      <td>0</td>\n",
       "      <td>0</td>\n",
       "      <td>0</td>\n",
       "      <td>...</td>\n",
       "      <td>0</td>\n",
       "      <td>0</td>\n",
       "      <td>0</td>\n",
       "      <td>0</td>\n",
       "      <td>0</td>\n",
       "      <td>0</td>\n",
       "      <td>0</td>\n",
       "      <td>0</td>\n",
       "      <td>0</td>\n",
       "      <td>0</td>\n",
       "    </tr>\n",
       "    <tr>\n",
       "      <th>130</th>\n",
       "      <td>3.726027</td>\n",
       "      <td>0</td>\n",
       "      <td>0</td>\n",
       "      <td>0</td>\n",
       "      <td>0</td>\n",
       "      <td>0</td>\n",
       "      <td>0</td>\n",
       "      <td>0</td>\n",
       "      <td>0</td>\n",
       "      <td>1</td>\n",
       "      <td>...</td>\n",
       "      <td>0</td>\n",
       "      <td>0</td>\n",
       "      <td>0</td>\n",
       "      <td>0</td>\n",
       "      <td>0</td>\n",
       "      <td>0</td>\n",
       "      <td>0</td>\n",
       "      <td>0</td>\n",
       "      <td>0</td>\n",
       "      <td>0</td>\n",
       "    </tr>\n",
       "    <tr>\n",
       "      <th>131</th>\n",
       "      <td>3.723288</td>\n",
       "      <td>0</td>\n",
       "      <td>0</td>\n",
       "      <td>0</td>\n",
       "      <td>0</td>\n",
       "      <td>0</td>\n",
       "      <td>0</td>\n",
       "      <td>1</td>\n",
       "      <td>0</td>\n",
       "      <td>0</td>\n",
       "      <td>...</td>\n",
       "      <td>0</td>\n",
       "      <td>0</td>\n",
       "      <td>0</td>\n",
       "      <td>0</td>\n",
       "      <td>0</td>\n",
       "      <td>0</td>\n",
       "      <td>0</td>\n",
       "      <td>1</td>\n",
       "      <td>0</td>\n",
       "      <td>0</td>\n",
       "    </tr>\n",
       "  </tbody>\n",
       "</table>\n",
       "<p>22 rows × 29 columns</p>\n",
       "</div>"
      ],
      "text/plain": [
       "         Time  Bengaluru  Bengaluru and Gurugram  Burnsville  Chennai  \\\n",
       "5    2.586301          0                       0           0        1   \n",
       "7    2.673973          0                       0           0        0   \n",
       "34   2.945205          0                       0           0        0   \n",
       "37   2.945205          0                       0           1        0   \n",
       "39   2.945205          0                       0           0        0   \n",
       "41   2.947945          1                       0           0        0   \n",
       "43   3.038356          0                       0           0        0   \n",
       "68   3.098630          0                       0           0        0   \n",
       "69   3.101370          0                       0           0        0   \n",
       "73   3.200000          1                       0           0        0   \n",
       "77   3.191781          0                       0           0        0   \n",
       "80   3.180822          0                       0           0        0   \n",
       "83   3.197260          0                       0           0        0   \n",
       "91   3.331507          1                       0           0        0   \n",
       "101  3.323288          0                       1           0        0   \n",
       "103  3.328767          1                       0           0        0   \n",
       "105  3.501370          0                       0           0        0   \n",
       "116  3.690411          0                       0           0        0   \n",
       "120  3.767123          1                       0           0        0   \n",
       "122  3.756164          0                       0           0        0   \n",
       "130  3.726027          0                       0           0        0   \n",
       "131  3.723288          0                       0           0        0   \n",
       "\n",
       "     Gurugram  Haryana  India/US  Mumbai  Mumbai/Bengaluru  ...  Health Care  \\\n",
       "5           0        0         0       0                 0  ...            0   \n",
       "7           0        0         0       0                 0  ...            0   \n",
       "34          0        0         0       1                 0  ...            0   \n",
       "37          0        0         0       0                 0  ...            0   \n",
       "39          0        0         0       1                 0  ...            0   \n",
       "41          0        0         0       0                 0  ...            0   \n",
       "43          0        0         0       0                 0  ...            0   \n",
       "68          0        0         0       1                 0  ...            1   \n",
       "69          0        0         0       1                 0  ...            0   \n",
       "73          0        0         0       0                 0  ...            0   \n",
       "77          0        0         0       0                 0  ...            0   \n",
       "80          0        1         0       0                 0  ...            0   \n",
       "83          0        0         0       0                 1  ...            0   \n",
       "91          0        0         0       0                 0  ...            0   \n",
       "101         0        0         0       0                 0  ...            0   \n",
       "103         0        0         0       0                 0  ...            0   \n",
       "105         0        0         0       0                 0  ...            0   \n",
       "116         1        0         0       0                 0  ...            0   \n",
       "120         0        0         0       0                 0  ...            0   \n",
       "122         0        0         0       0                 0  ...            0   \n",
       "130         0        0         0       0                 1  ...            0   \n",
       "131         0        0         1       0                 0  ...            0   \n",
       "\n",
       "     IoT  Logistics  Luxury Label  Nanotechnology  SaaS, Ecommerce  Services  \\\n",
       "5      0          1             0               0                0         0   \n",
       "7      0          0             0               0                0         0   \n",
       "34     0          0             0               0                0         0   \n",
       "37     1          0             0               0                0         0   \n",
       "39     0          0             0               0                0         0   \n",
       "41     0          0             0               0                0         0   \n",
       "43     0          0             0               0                0         0   \n",
       "68     0          0             0               0                0         0   \n",
       "69     0          0             1               0                0         0   \n",
       "73     0          0             0               0                0         0   \n",
       "77     0          0             0               0                0         0   \n",
       "80     0          0             0               0                0         0   \n",
       "83     0          0             0               0                0         1   \n",
       "91     0          0             0               0                0         0   \n",
       "101    0          0             0               0                0         0   \n",
       "103    0          0             0               0                0         0   \n",
       "105    0          0             0               1                0         0   \n",
       "116    0          0             0               0                1         0   \n",
       "120    0          0             0               0                0         0   \n",
       "122    0          0             0               0                0         0   \n",
       "130    0          0             0               0                0         0   \n",
       "131    0          0             0               0                0         0   \n",
       "\n",
       "     Software  Technology  eCommerce  \n",
       "5           0           0          0  \n",
       "7           0           1          0  \n",
       "34          0           0          0  \n",
       "37          0           0          0  \n",
       "39          0           1          0  \n",
       "41          0           0          0  \n",
       "43          0           0          0  \n",
       "68          0           0          0  \n",
       "69          0           0          0  \n",
       "73          0           0          0  \n",
       "77          0           0          0  \n",
       "80          0           0          0  \n",
       "83          0           0          0  \n",
       "91          0           0          0  \n",
       "101         0           0          1  \n",
       "103         0           1          0  \n",
       "105         0           0          0  \n",
       "116         0           0          0  \n",
       "120         0           0          0  \n",
       "122         0           0          0  \n",
       "130         0           0          0  \n",
       "131         1           0          0  \n",
       "\n",
       "[22 rows x 29 columns]"
      ]
     },
     "execution_count": 30,
     "metadata": {},
     "output_type": "execute_result"
    }
   ],
   "source": [
    "seriesA_x"
   ]
  },
  {
   "cell_type": "code",
   "execution_count": 31,
   "id": "c7fe4b03",
   "metadata": {},
   "outputs": [],
   "source": [
    "rs = 1 "
   ]
  },
  {
   "cell_type": "code",
   "execution_count": 32,
   "id": "69628549",
   "metadata": {},
   "outputs": [],
   "source": [
    "seed_x_train, seed_x_test, seed_y_train, seed_y_test = train_test_split(seed_x, \n",
    "                                                                        seed_y, \n",
    "                                                                        test_size=0.2,\n",
    "                                                                        random_state=rs)"
   ]
  },
  {
   "cell_type": "code",
   "execution_count": 33,
   "id": "5a988758",
   "metadata": {},
   "outputs": [],
   "source": [
    "seriesA_x_train, seriesA_x_test, seriesA_y_train, seriesA_y_test = train_test_split(seriesA_x, \n",
    "                                                                                    seriesA_y, \n",
    "                                                                                    test_size=0.2, \n",
    "                                                                                    random_state=rs)"
   ]
  },
  {
   "cell_type": "markdown",
   "id": "d6e37f7d",
   "metadata": {},
   "source": [
    "# Data Resampling "
   ]
  },
  {
   "cell_type": "code",
   "execution_count": 34,
   "id": "dfba0938",
   "metadata": {},
   "outputs": [],
   "source": [
    "def split_downsample(X,y):\n",
    "    var= y.name\n",
    "    #split data into test and training sets\n",
    "    X_train, X_test, y_train, y_test = train_test_split( X, y, test_size=0.33)\n",
    "    #combine them back for resampling\n",
    "    train_data = pd.concat([X_train, y_train], axis=1)\n",
    "    # separate minority and majority classes\n",
    "    negative = train_data[train_data[var]==0]\n",
    "    positive = train_data[train_data[var]==1]\n",
    "\n",
    "    # downsample majority\n",
    "    neg_downsampled = resample(negative,\n",
    "        replace=True, # sample with replacement\n",
    "        n_samples=len(positive), # match number in minority class\n",
    "        ) # reproducible results\n",
    "    \n",
    "    \n",
    "    # combine majority and upsampled minority\n",
    "    upsampled = pd.concat([neg_downsampled, positive])\n",
    "    # check new class counts\n",
    "    \n",
    "    new_X_train = upsampled.drop(var,axis=1)\n",
    "    new_y_train = upsampled[var]\n",
    "    \n",
    "    return new_X_train, X_test, new_y_train, y_test"
   ]
  },
  {
   "cell_type": "code",
   "execution_count": 35,
   "id": "bd8f1dbb",
   "metadata": {},
   "outputs": [],
   "source": [
    "def downsample(X,y,rs=None):\n",
    "    var= y.name\n",
    "    \n",
    "    joint = pd.concat([X, y], axis=1)\n",
    "    negative = joint[joint[var]==0]\n",
    "    positive = joint[joint[var]==1]\n",
    "\n",
    "    # downsample majority\n",
    "    neg_downsampled = resample(negative,\n",
    "        replace=True, # sample with replacement\n",
    "        n_samples=len(positive), # match number in minority class\n",
    "        random_state = rs) # reproducible results\n",
    "    \n",
    "    \n",
    "    # combine majority and upsampled minority\n",
    "    upsampled = pd.concat([neg_downsampled, positive])\n",
    "    # check new class counts\n",
    "    \n",
    "    new_X = upsampled.drop(var,axis=1)\n",
    "    new_y = upsampled[var]\n",
    "    \n",
    "    return new_X, new_y"
   ]
  },
  {
   "cell_type": "code",
   "execution_count": 36,
   "id": "1c55b028",
   "metadata": {},
   "outputs": [
    {
     "data": {
      "text/plain": [
       "0    43\n",
       "1    43\n",
       "Name: Reached_Series_A, dtype: int64"
      ]
     },
     "execution_count": 36,
     "metadata": {},
     "output_type": "execute_result"
    }
   ],
   "source": [
    "downsample(seed_x_train,seed_y_train)[1].value_counts()"
   ]
  },
  {
   "cell_type": "code",
   "execution_count": 37,
   "id": "4c0b217b",
   "metadata": {},
   "outputs": [],
   "source": [
    "def downsample_split(X,y):\n",
    "    var= y.name\n",
    "    #combine them for resampling\n",
    "    train_data = pd.concat([X, y], axis=1)\n",
    "    # separate minority and majority classes\n",
    "    negative = train_data[train_data[var]==0]\n",
    "    positive = train_data[train_data[var]==1]\n",
    "\n",
    "    # downsample majority\n",
    "    neg_downsampled = resample(negative,\n",
    "        replace=True, # sample with replacement\n",
    "        n_samples=len(positive), # match number in minority class\n",
    "        ) # reproducible results\n",
    "    \n",
    "    \n",
    "    # combine majority and upsampled minority\n",
    "    upsampled = pd.concat([neg_downsampled, positive])\n",
    "    \n",
    "    X_train, X_test, y_train, y_test = train_test_split( \n",
    "        upsampled.drop(var,axis=1), upsampled[var], stratify=upsampled[var],\n",
    "        test_size=0.33,)\n",
    "    \n",
    "    # check new class counts\n",
    "#     print(y_train.value_counts())\n",
    "\n",
    "    return X_train, X_test, y_train, y_test"
   ]
  },
  {
   "cell_type": "markdown",
   "id": "0bd252a2",
   "metadata": {},
   "source": [
    "### Training set variable selection(Logistic Regression p-value)"
   ]
  },
  {
   "cell_type": "code",
   "execution_count": 38,
   "id": "d52c53e7",
   "metadata": {},
   "outputs": [],
   "source": [
    "from sklearn.feature_selection import f_classif, chi2, mutual_info_classif, SelectKBest"
   ]
  },
  {
   "cell_type": "code",
   "execution_count": 39,
   "id": "3bed6857",
   "metadata": {},
   "outputs": [],
   "source": [
    "def get_feat(method, k, x, y):\n",
    "    select = SelectKBest(method, k)\n",
    "    _ = select.fit_transform(x, y)\n",
    "    return [x.columns[i] for i, val in enumerate(select.get_support()) if val] "
   ]
  },
  {
   "cell_type": "code",
   "execution_count": 40,
   "id": "91d8add3",
   "metadata": {},
   "outputs": [],
   "source": [
    "num_features = 7"
   ]
  },
  {
   "cell_type": "markdown",
   "id": "44527b71",
   "metadata": {},
   "source": [
    "### Seed "
   ]
  },
  {
   "cell_type": "code",
   "execution_count": 41,
   "id": "1943d7db",
   "metadata": {},
   "outputs": [],
   "source": [
    "mutual_seed = get_feat(mutual_info_classif, num_features, seed_x_train, seed_y_train)"
   ]
  },
  {
   "cell_type": "code",
   "execution_count": 42,
   "id": "2a403935",
   "metadata": {},
   "outputs": [],
   "source": [
    "chi2_seed = get_feat(chi2, num_features, seed_x_train, seed_y_train)"
   ]
  },
  {
   "cell_type": "code",
   "execution_count": 43,
   "id": "23032cf2",
   "metadata": {},
   "outputs": [],
   "source": [
    "f_seed = get_feat(f_classif, num_features, seed_x_train, seed_y_train)"
   ]
  },
  {
   "cell_type": "code",
   "execution_count": 44,
   "id": "75429487",
   "metadata": {},
   "outputs": [
    {
     "data": {
      "text/plain": [
       "True"
      ]
     },
     "execution_count": 44,
     "metadata": {},
     "output_type": "execute_result"
    }
   ],
   "source": [
    "chi2_seed == f_seed"
   ]
  },
  {
   "cell_type": "markdown",
   "id": "9bb245f4",
   "metadata": {},
   "source": [
    "### Series A"
   ]
  },
  {
   "cell_type": "code",
   "execution_count": 45,
   "id": "c7095f87",
   "metadata": {},
   "outputs": [],
   "source": [
    "mutual_seriesA = get_feat(mutual_info_classif, 10, seriesA_x_train, seriesA_y_train)"
   ]
  },
  {
   "cell_type": "code",
   "execution_count": 46,
   "id": "5cb108cc",
   "metadata": {},
   "outputs": [],
   "source": [
    "chi2_seriesA = get_feat(chi2, num_features, seriesA_x_train, seriesA_y_train)"
   ]
  },
  {
   "cell_type": "code",
   "execution_count": 47,
   "id": "1a24c1f0",
   "metadata": {},
   "outputs": [
    {
     "name": "stderr",
     "output_type": "stream",
     "text": [
      "c:\\users\\ayush\\appdata\\local\\programs\\python\\python39\\lib\\site-packages\\sklearn\\feature_selection\\_univariate_selection.py:114: UserWarning: Features [ 3 11 17 18 20 23] are constant.\n",
      "  warnings.warn(\"Features %s are constant.\" % constant_features_idx,\n",
      "c:\\users\\ayush\\appdata\\local\\programs\\python\\python39\\lib\\site-packages\\sklearn\\feature_selection\\_univariate_selection.py:116: RuntimeWarning: invalid value encountered in true_divide\n",
      "  f = msb / msw\n"
     ]
    }
   ],
   "source": [
    "f_seriesA = get_feat(f_classif, num_features, seriesA_x_train, seriesA_y_train)"
   ]
  },
  {
   "cell_type": "code",
   "execution_count": 48,
   "id": "b86615f0",
   "metadata": {},
   "outputs": [
    {
     "data": {
      "text/plain": [
       "False"
      ]
     },
     "execution_count": 48,
     "metadata": {},
     "output_type": "execute_result"
    }
   ],
   "source": [
    "chi2_seriesA == f_seriesA\n"
   ]
  },
  {
   "cell_type": "code",
   "execution_count": 49,
   "id": "38051700",
   "metadata": {},
   "outputs": [],
   "source": [
    "import statsmodels.api as sm\n",
    "\n",
    "def logiVarSelect(x, y, sig_lvl, columns):\n",
    "    while True:\n",
    "        logi = sm.Logit(y, x).fit(method='bfgs',maxiter=1000) # The maxiter is increased to help convergence for seed\n",
    "        maxP = max(logi.pvalues)\n",
    "        if maxP > sig_lvl:\n",
    "            loc = list(logi.pvalues).index(maxP)\n",
    "            x = np.delete(x, loc, 1)\n",
    "            columns = np.delete(columns, loc)\n",
    "        else: \n",
    "            return columns"
   ]
  },
  {
   "cell_type": "code",
   "execution_count": 50,
   "id": "af31b6a5",
   "metadata": {},
   "outputs": [],
   "source": [
    "selected_columns_seed = seed_x_train.columns.values\n",
    "selected_columns_seriesA = seriesA_x_train.columns.values\n",
    "\n",
    "SL = 0.05"
   ]
  },
  {
   "cell_type": "code",
   "execution_count": 51,
   "id": "c3f5e1ed",
   "metadata": {},
   "outputs": [
    {
     "name": "stdout",
     "output_type": "stream",
     "text": [
      "Optimization terminated successfully.\n",
      "         Current function value: 0.172674\n",
      "         Iterations: 226\n",
      "         Function evaluations: 230\n",
      "         Gradient evaluations: 230\n",
      "Optimization terminated successfully.\n",
      "         Current function value: 0.174390\n",
      "         Iterations: 202\n",
      "         Function evaluations: 206\n",
      "         Gradient evaluations: 206\n",
      "Optimization terminated successfully.\n",
      "         Current function value: 0.175802\n",
      "         Iterations: 202\n",
      "         Function evaluations: 206\n",
      "         Gradient evaluations: 206\n",
      "Optimization terminated successfully.\n",
      "         Current function value: 0.177384\n",
      "         Iterations: 221\n",
      "         Function evaluations: 225\n",
      "         Gradient evaluations: 225\n",
      "Optimization terminated successfully.\n",
      "         Current function value: 0.178037\n",
      "         Iterations: 201\n",
      "         Function evaluations: 205\n",
      "         Gradient evaluations: 205\n",
      "Optimization terminated successfully.\n",
      "         Current function value: 0.178759\n",
      "         Iterations: 210\n",
      "         Function evaluations: 214\n",
      "         Gradient evaluations: 214\n",
      "Optimization terminated successfully.\n",
      "         Current function value: 0.179343\n",
      "         Iterations: 205\n",
      "         Function evaluations: 209\n",
      "         Gradient evaluations: 209\n",
      "Optimization terminated successfully.\n",
      "         Current function value: 0.179343\n",
      "         Iterations: 192\n",
      "         Function evaluations: 197\n",
      "         Gradient evaluations: 197\n",
      "Optimization terminated successfully.\n",
      "         Current function value: 0.179343\n",
      "         Iterations: 188\n",
      "         Function evaluations: 193\n",
      "         Gradient evaluations: 193\n",
      "Optimization terminated successfully.\n",
      "         Current function value: 0.179343\n",
      "         Iterations: 170\n",
      "         Function evaluations: 174\n",
      "         Gradient evaluations: 174\n",
      "Optimization terminated successfully.\n",
      "         Current function value: 0.179813\n",
      "         Iterations: 168\n",
      "         Function evaluations: 172\n",
      "         Gradient evaluations: 172\n",
      "Optimization terminated successfully.\n",
      "         Current function value: 0.180342\n",
      "         Iterations: 172\n",
      "         Function evaluations: 176\n",
      "         Gradient evaluations: 176\n",
      "Optimization terminated successfully.\n",
      "         Current function value: 0.182611\n",
      "         Iterations: 181\n",
      "         Function evaluations: 185\n",
      "         Gradient evaluations: 185\n",
      "Optimization terminated successfully.\n",
      "         Current function value: 0.182865\n",
      "         Iterations: 180\n",
      "         Function evaluations: 184\n",
      "         Gradient evaluations: 184\n",
      "Optimization terminated successfully.\n",
      "         Current function value: 0.182865\n",
      "         Iterations: 178\n",
      "         Function evaluations: 183\n",
      "         Gradient evaluations: 183\n",
      "Optimization terminated successfully.\n",
      "         Current function value: 0.182865\n",
      "         Iterations: 179\n",
      "         Function evaluations: 184\n",
      "         Gradient evaluations: 184\n",
      "Optimization terminated successfully.\n",
      "         Current function value: 0.182951\n",
      "         Iterations: 108\n",
      "         Function evaluations: 112\n",
      "         Gradient evaluations: 112\n",
      "Optimization terminated successfully.\n",
      "         Current function value: 0.183046\n",
      "         Iterations: 107\n",
      "         Function evaluations: 111\n",
      "         Gradient evaluations: 111\n",
      "Optimization terminated successfully.\n",
      "         Current function value: 0.183220\n",
      "         Iterations: 107\n",
      "         Function evaluations: 111\n",
      "         Gradient evaluations: 111\n",
      "Optimization terminated successfully.\n",
      "         Current function value: 0.183450\n",
      "         Iterations: 99\n",
      "         Function evaluations: 103\n",
      "         Gradient evaluations: 103\n",
      "Optimization terminated successfully.\n",
      "         Current function value: 0.183831\n",
      "         Iterations: 97\n",
      "         Function evaluations: 101\n",
      "         Gradient evaluations: 101\n",
      "Optimization terminated successfully.\n",
      "         Current function value: 0.184285\n",
      "         Iterations: 100\n",
      "         Function evaluations: 104\n",
      "         Gradient evaluations: 104\n",
      "Optimization terminated successfully.\n",
      "         Current function value: 0.184525\n",
      "         Iterations: 90\n",
      "         Function evaluations: 94\n",
      "         Gradient evaluations: 94\n",
      "Optimization terminated successfully.\n",
      "         Current function value: 0.185418\n",
      "         Iterations: 79\n",
      "         Function evaluations: 83\n",
      "         Gradient evaluations: 83\n",
      "Optimization terminated successfully.\n",
      "         Current function value: 0.186270\n",
      "         Iterations: 76\n",
      "         Function evaluations: 80\n",
      "         Gradient evaluations: 80\n",
      "Optimization terminated successfully.\n",
      "         Current function value: 0.187098\n",
      "         Iterations: 78\n",
      "         Function evaluations: 82\n",
      "         Gradient evaluations: 82\n",
      "Optimization terminated successfully.\n",
      "         Current function value: 0.188213\n",
      "         Iterations: 77\n",
      "         Function evaluations: 81\n",
      "         Gradient evaluations: 81\n",
      "Optimization terminated successfully.\n",
      "         Current function value: 0.189895\n",
      "         Iterations: 67\n",
      "         Function evaluations: 71\n",
      "         Gradient evaluations: 71\n",
      "Optimization terminated successfully.\n",
      "         Current function value: 0.191357\n",
      "         Iterations: 56\n",
      "         Function evaluations: 60\n",
      "         Gradient evaluations: 60\n",
      "Optimization terminated successfully.\n",
      "         Current function value: 0.192678\n",
      "         Iterations: 49\n",
      "         Function evaluations: 53\n",
      "         Gradient evaluations: 53\n",
      "Optimization terminated successfully.\n",
      "         Current function value: 0.194567\n",
      "         Iterations: 41\n",
      "         Function evaluations: 44\n",
      "         Gradient evaluations: 44\n",
      "Optimization terminated successfully.\n",
      "         Current function value: 0.195555\n",
      "         Iterations: 29\n",
      "         Function evaluations: 32\n",
      "         Gradient evaluations: 32\n",
      "Optimization terminated successfully.\n",
      "         Current function value: 0.196899\n",
      "         Iterations: 19\n",
      "         Function evaluations: 22\n",
      "         Gradient evaluations: 22\n"
     ]
    }
   ],
   "source": [
    "p_seed = logiVarSelect(seed_x_train.values, seed_y_train.values, SL, selected_columns_seed)"
   ]
  },
  {
   "cell_type": "code",
   "execution_count": 52,
   "id": "83fa4c69",
   "metadata": {},
   "outputs": [
    {
     "name": "stdout",
     "output_type": "stream",
     "text": [
      "Optimization terminated successfully.\n",
      "         Current function value: 0.000004\n",
      "         Iterations: 79\n",
      "         Function evaluations: 83\n",
      "         Gradient evaluations: 83\n"
     ]
    },
    {
     "name": "stderr",
     "output_type": "stream",
     "text": [
      "c:\\users\\ayush\\appdata\\local\\programs\\python\\python39\\lib\\site-packages\\statsmodels\\discrete\\discrete_model.py:1819: RuntimeWarning: overflow encountered in exp\n",
      "  return 1/(1+np.exp(-X))\n",
      "c:\\users\\ayush\\appdata\\local\\programs\\python\\python39\\lib\\site-packages\\statsmodels\\base\\model.py:592: HessianInversionWarning: Inverting hessian failed, no bse or cov_params available\n",
      "  warnings.warn('Inverting hessian failed, no bse or cov_params '\n"
     ]
    }
   ],
   "source": [
    "p_seriesA = logiVarSelect(seriesA_x_train.values, seriesA_y_train.values, SL, selected_columns_seriesA)"
   ]
  },
  {
   "cell_type": "code",
   "execution_count": 53,
   "id": "064813e1",
   "metadata": {},
   "outputs": [
    {
     "data": {
      "text/plain": [
       "array(['Time', 'IT'], dtype=object)"
      ]
     },
     "execution_count": 53,
     "metadata": {},
     "output_type": "execute_result"
    }
   ],
   "source": [
    "p_seed"
   ]
  },
  {
   "cell_type": "code",
   "execution_count": 54,
   "id": "2b25fcb2",
   "metadata": {},
   "outputs": [
    {
     "data": {
      "text/plain": [
       "array(['Time', 'Bengaluru', 'Bengaluru and Gurugram', 'Burnsville',\n",
       "       'Chennai', 'Gurugram', 'Haryana', 'India/US', 'Mumbai',\n",
       "       'Mumbai/Bengaluru', 'New Delhi', 'New York, Bengaluru', 'Pune',\n",
       "       'Energy', 'FinTech', 'Finance', 'Financial Tech', 'Food Tech',\n",
       "       'Gaming', 'Health Care', 'IoT', 'Logistics', 'Luxury Label',\n",
       "       'Nanotechnology', 'SaaS, Ecommerce', 'Services', 'Software',\n",
       "       'Technology', 'eCommerce'], dtype=object)"
      ]
     },
     "execution_count": 54,
     "metadata": {},
     "output_type": "execute_result"
    }
   ],
   "source": [
    "p_seriesA"
   ]
  },
  {
   "cell_type": "code",
   "execution_count": 55,
   "id": "e1f5ba7f",
   "metadata": {},
   "outputs": [
    {
     "data": {
      "text/html": [
       "<div>\n",
       "<style scoped>\n",
       "    .dataframe tbody tr th:only-of-type {\n",
       "        vertical-align: middle;\n",
       "    }\n",
       "\n",
       "    .dataframe tbody tr th {\n",
       "        vertical-align: top;\n",
       "    }\n",
       "\n",
       "    .dataframe thead th {\n",
       "        text-align: right;\n",
       "    }\n",
       "</style>\n",
       "<table border=\"1\" class=\"dataframe\">\n",
       "  <thead>\n",
       "    <tr style=\"text-align: right;\">\n",
       "      <th></th>\n",
       "      <th>Selection Method</th>\n",
       "      <th>Seed Selected Variables</th>\n",
       "    </tr>\n",
       "  </thead>\n",
       "  <tbody>\n",
       "    <tr>\n",
       "      <th>0</th>\n",
       "      <td>P-value</td>\n",
       "      <td>[Time, IT]</td>\n",
       "    </tr>\n",
       "    <tr>\n",
       "      <th>1</th>\n",
       "      <td>Chi Squared/F-value</td>\n",
       "      <td>[Time, Chennai, Gurgaon, Consumer Internet, Ed-Tech, IT, Technology ]</td>\n",
       "    </tr>\n",
       "    <tr>\n",
       "      <th>2</th>\n",
       "      <td>Mutual information</td>\n",
       "      <td>[Time, Goa, Gurgaon, Gurugram, Consumer Internet, Technology, Transportation ]</td>\n",
       "    </tr>\n",
       "  </tbody>\n",
       "</table>\n",
       "</div>"
      ],
      "text/plain": [
       "      Selection Method  \\\n",
       "0              P-value   \n",
       "1  Chi Squared/F-value   \n",
       "2   Mutual information   \n",
       "\n",
       "                                                          Seed Selected Variables  \n",
       "0                                                                      [Time, IT]  \n",
       "1           [Time, Chennai, Gurgaon, Consumer Internet, Ed-Tech, IT, Technology ]  \n",
       "2  [Time, Goa, Gurgaon, Gurugram, Consumer Internet, Technology, Transportation ]  "
      ]
     },
     "execution_count": 55,
     "metadata": {},
     "output_type": "execute_result"
    }
   ],
   "source": [
    "pd.set_option('display.max_colwidth', None)\n",
    "\n",
    "data = [['P-value', p_seed],\n",
    "['Chi Squared/F-value', chi2_seed],\n",
    "['Mutual information', mutual_seed],\n",
    "]\n",
    "df = pd.DataFrame(data, columns = ['Selection Method', 'Seed Selected Variables']) \n",
    "df"
   ]
  },
  {
   "cell_type": "code",
   "execution_count": 56,
   "id": "dbc5efcb",
   "metadata": {},
   "outputs": [
    {
     "data": {
      "text/html": [
       "<div>\n",
       "<style scoped>\n",
       "    .dataframe tbody tr th:only-of-type {\n",
       "        vertical-align: middle;\n",
       "    }\n",
       "\n",
       "    .dataframe tbody tr th {\n",
       "        vertical-align: top;\n",
       "    }\n",
       "\n",
       "    .dataframe thead th {\n",
       "        text-align: right;\n",
       "    }\n",
       "</style>\n",
       "<table border=\"1\" class=\"dataframe\">\n",
       "  <thead>\n",
       "    <tr style=\"text-align: right;\">\n",
       "      <th></th>\n",
       "      <th>Selection Method</th>\n",
       "      <th>SeriesA Selected Variables</th>\n",
       "    </tr>\n",
       "  </thead>\n",
       "  <tbody>\n",
       "    <tr>\n",
       "      <th>0</th>\n",
       "      <td>P-value</td>\n",
       "      <td>[Time, Bengaluru, Bengaluru and Gurugram, Burnsville, Chennai, Gurugram, Haryana, India/US, Mumbai, Mumbai/Bengaluru, New Delhi, New York, Bengaluru, Pune, Energy, FinTech, Finance, Financial Tech, Food Tech, Gaming, Health Care, IoT, Logistics, Luxury Label, Nanotechnology, SaaS, Ecommerce, Services, Software, Technology, eCommerce]</td>\n",
       "    </tr>\n",
       "    <tr>\n",
       "      <th>1</th>\n",
       "      <td>Chi Squared/F-value</td>\n",
       "      <td>[Bengaluru, Chennai, New Delhi, FinTech, Finance, Logistics, Technology]</td>\n",
       "    </tr>\n",
       "    <tr>\n",
       "      <th>2</th>\n",
       "      <td>Mutual information</td>\n",
       "      <td>[Bengaluru and Gurugram, Chennai, Financial Tech, Food Tech, Gaming, Logistics, Nanotechnology, Services, Technology, eCommerce]</td>\n",
       "    </tr>\n",
       "  </tbody>\n",
       "</table>\n",
       "</div>"
      ],
      "text/plain": [
       "      Selection Method  \\\n",
       "0              P-value   \n",
       "1  Chi Squared/F-value   \n",
       "2   Mutual information   \n",
       "\n",
       "                                                                                                                                                                                                                                                                                                                        SeriesA Selected Variables  \n",
       "0  [Time, Bengaluru, Bengaluru and Gurugram, Burnsville, Chennai, Gurugram, Haryana, India/US, Mumbai, Mumbai/Bengaluru, New Delhi, New York, Bengaluru, Pune, Energy, FinTech, Finance, Financial Tech, Food Tech, Gaming, Health Care, IoT, Logistics, Luxury Label, Nanotechnology, SaaS, Ecommerce, Services, Software, Technology, eCommerce]  \n",
       "1                                                                                                                                                                                                                                                                         [Bengaluru, Chennai, New Delhi, FinTech, Finance, Logistics, Technology]  \n",
       "2                                                                                                                                                                                                                 [Bengaluru and Gurugram, Chennai, Financial Tech, Food Tech, Gaming, Logistics, Nanotechnology, Services, Technology, eCommerce]  "
      ]
     },
     "execution_count": 56,
     "metadata": {},
     "output_type": "execute_result"
    }
   ],
   "source": [
    "data = [['P-value', p_seriesA],\n",
    "['Chi Squared/F-value', chi2_seriesA],\n",
    "['Mutual information', mutual_seriesA],\n",
    "]\n",
    "df = pd.DataFrame(data, columns = ['Selection Method', 'SeriesA Selected Variables']) \n",
    "df"
   ]
  },
  {
   "cell_type": "code",
   "execution_count": 100,
   "id": "110e3ff4",
   "metadata": {},
   "outputs": [
    {
     "data": {
      "text/plain": [
       "29"
      ]
     },
     "execution_count": 100,
     "metadata": {},
     "output_type": "execute_result"
    }
   ],
   "source": [
    "len(p_seriesA)"
   ]
  },
  {
   "cell_type": "code",
   "execution_count": 57,
   "id": "bc9e9acd",
   "metadata": {},
   "outputs": [],
   "source": [
    "colors=['red','darkorange','royalblue','blueviolet']"
   ]
  },
  {
   "cell_type": "code",
   "execution_count": 58,
   "id": "67e013bc",
   "metadata": {},
   "outputs": [],
   "source": [
    "def scikit_logi(X,y,samplemethod):\n",
    "    # Splits x,y into testing and validation sets, and return the fpr and tpr of the validation set \n",
    "    X_train, X_test, y_train, y_test = samplemethod(X, y)\n",
    "    logi = LogisticRegression(solver='lbfgs',max_iter=400)\n",
    "    model = logi.fit(X_train,y_train)\n",
    "    y_pred_proba = model.predict_proba(X_test)\n",
    "    fpr, tpr, _ = roc_curve(y_test, y_pred_proba[:,1])\n",
    "    return (fpr, tpr)"
   ]
  },
  {
   "cell_type": "code",
   "execution_count": 59,
   "id": "10e24f9d",
   "metadata": {},
   "outputs": [],
   "source": [
    "def logi_plot_roc(x,y,c,show_detail=False,txtlabel=\"\"):\n",
    "    mean_fpr = np.linspace(0, 1, 100)\n",
    "    tprs = []\n",
    "    aucs = []\n",
    "    for i in range(100):\n",
    "        fpr_R_seed_sel, tpr_R_seed_sel = scikit_logi(x,y, split_downsample)\n",
    "        if show_detail == True:\n",
    "            plt.plot(fpr_R_seed_sel, tpr_R_seed_sel, lw=0.1, color = c, alpha=0.6)\n",
    "\n",
    "        interp_tpr = interp(mean_fpr, fpr_R_seed_sel, tpr_R_seed_sel)\n",
    "        interp_tpr[0] = 0.0\n",
    "        tprs.append(interp_tpr)\n",
    "        aucs.append(auc(fpr_R_seed_sel,tpr_R_seed_sel))\n",
    "\n",
    "    mean_tpr = np.mean(tprs, axis=0)\n",
    "    mean_tpr[-1] = 1.0\n",
    "    mean_auc = auc(mean_fpr, mean_tpr)\n",
    "    std_auc = np.std(aucs)\n",
    "    plt.plot(mean_fpr, mean_tpr, color=c,\n",
    "            label=txtlabel+ r' Mean ROC (AUC = %0.3f $\\pm$ %0.3f)' % (mean_auc, std_auc),\n",
    "            lw=2, alpha=0.8)\n",
    "\n",
    "    if show_detail == True:\n",
    "        std_tpr = np.std(tprs, axis=0)\n",
    "        tprs_upper = np.minimum(mean_tpr + std_tpr, 1)\n",
    "        tprs_lower = np.maximum(mean_tpr - std_tpr, 0)\n",
    "        plt.fill_between(mean_fpr, tprs_lower, tprs_upper, color=\"grey\", alpha=.3,\n",
    "                        label=r'$\\pm$ 1 std. dev.')\n",
    "    return(mean_fpr, mean_tpr, mean_auc, std_auc)"
   ]
  },
  {
   "cell_type": "code",
   "execution_count": 60,
   "id": "267bad9d",
   "metadata": {},
   "outputs": [],
   "source": [
    "def label():\n",
    "    plt.plot([0, 1], [0, 1], color='navy', lw=2, linestyle='--')\n",
    "    plt.xlim([0.0, 1.0])\n",
    "    plt.ylim([0.0, 1.05])\n",
    "    plt.xlabel('False Positive Rate')\n",
    "    plt.ylabel('True Positive Rate')\n",
    "    plt.legend(loc=\"lower right\")"
   ]
  },
  {
   "cell_type": "code",
   "execution_count": 61,
   "id": "beb4efc0",
   "metadata": {},
   "outputs": [
    {
     "data": {
      "image/png": "[encoded data removed]",
      "text/plain": [
       "<Figure size 1152x1152 with 4 Axes>"
      ]
     },
     "metadata": {
      "needs_background": "light"
     },
     "output_type": "display_data"
    }
   ],
   "source": [
    "fig = plt.figure(figsize=(16,16))\n",
    "fig.subplots_adjust(hspace=0.2, wspace=0.2)\n",
    "\n",
    "\n",
    "ax = fig.add_subplot(2, 2, 1)\n",
    "c1_mean_fpr, c1_mean_tpr, c1_mean_auc, c1_std_auc = logi_plot_roc(seed_x_train,seed_y_train,colors[0],show_detail=True)\n",
    "label()\n",
    "plt.title(\"Logi (Raw) Mean ROC\")\n",
    "\n",
    "ax = fig.add_subplot(2, 2, 2)\n",
    "c2_mean_fpr, c2_mean_tpr, c2_mean_auc, c2_std_auc = logi_plot_roc(seed_x_train[p_seed],seed_y_train,colors[1],show_detail=True)\n",
    "label()\n",
    "plt.title(\"Logi (p-val) Mean ROC\")\n",
    "\n",
    "ax = fig.add_subplot(2, 2, 3)\n",
    "c3_mean_fpr, c3_mean_tpr, c3_mean_auc, c3_std_auc = logi_plot_roc(seed_x_train[chi2_seed],seed_y_train,colors[2],show_detail=True)\n",
    "label()\n",
    "plt.title(\"Logi (chi2/f) Mean ROC\")\n",
    "\n",
    "ax = fig.add_subplot(2, 2, 4)\n",
    "c4_mean_fpr, c4_mean_tpr, c4_mean_auc, c4_std_auc = logi_plot_roc(seed_x_train[mutual_seed],seed_y_train,colors[3],show_detail=True)\n",
    "label()\n",
    "plt.title(\"Logi (mutual info) Mean ROC\")\n",
    "plt.savefig('seed_4x.png')\n",
    "\n",
    "\n",
    "plt.show()"
   ]
  },
  {
   "cell_type": "code",
   "execution_count": 62,
   "id": "b85bdb0d",
   "metadata": {},
   "outputs": [
    {
     "data": {
      "image/png": "[encoded data removed]",
      "text/plain": [
       "<Figure size 576x576 with 1 Axes>"
      ]
     },
     "metadata": {
      "needs_background": "light"
     },
     "output_type": "display_data"
    }
   ],
   "source": [
    "fig = plt.figure(figsize=(8,8))\n",
    "\n",
    "plt.plot(c1_mean_fpr, c1_mean_tpr, color=colors[0], label=\"Logi (Raw)\"+ r' Mean ROC (AUC = %0.3f $\\pm$ %0.3f)' \n",
    "         % (c1_mean_auc, c1_std_auc), lw=2, alpha=0.8)\n",
    "plt.plot(c2_mean_fpr, c2_mean_tpr, color=colors[1], label=\"Logi (p-val)\"+ r' Mean ROC (AUC = %0.3f $\\pm$ %0.3f)' \n",
    "         % (c2_mean_auc, c2_std_auc), lw=2, alpha=0.8)\n",
    "plt.plot(c3_mean_fpr, c3_mean_tpr, color=colors[2], label=\"Logi (chi2/f)\"+ r' Mean ROC (AUC = %0.3f $\\pm$ %0.3f)' \n",
    "         % (c3_mean_auc, c3_std_auc), lw=2, alpha=0.8)\n",
    "plt.plot(c4_mean_fpr, c4_mean_tpr, color=colors[3], label=\"Logi (mutual info)\"+ r' Mean ROC (AUC = %0.3f $\\pm$ %0.3f)' \n",
    "         % (c4_mean_auc, c4_std_auc), lw=2, alpha=0.8)\n",
    "\n",
    "label()\n",
    "\n",
    "plt.title(\"ROC: Seed variable selections comparison\")\n",
    "plt.savefig('seed_all.png')\n",
    "\n",
    "\n",
    "plt.show()"
   ]
  },
  {
   "cell_type": "code",
   "execution_count": 63,
   "id": "2dfa5fa1",
   "metadata": {},
   "outputs": [],
   "source": [
    "def test_results(x_train, y_train, x_test, y_test):\n",
    "    x_train, y_train = downsample(x_train, y_train,rs)\n",
    "    logi = LogisticRegression(solver='lbfgs',max_iter=400)\n",
    "    logi.fit(x_train, y_train)\n",
    "    acc = logi.score(x_test, y_test)\n",
    "    y_pred = logi.predict(x_test)\n",
    "    cm = confusion_matrix(y_test, y_pred,labels=[1, 0])\n",
    "    tpr = cm[0][0]/np.sum(cm[0])\n",
    "    tnr = cm[1][1]/np.sum(cm[1])\n",
    "    return(list(np.round([acc,tpr,tnr],3)))"
   ]
  },
  {
   "cell_type": "code",
   "execution_count": 64,
   "id": "2fd018e0",
   "metadata": {},
   "outputs": [
    {
     "data": {
      "text/plain": [
       "[0.642, 0.471, 0.659]"
      ]
     },
     "execution_count": 64,
     "metadata": {},
     "output_type": "execute_result"
    }
   ],
   "source": [
    "test_results(seed_x_train, seed_y_train, seed_x_test, seed_y_test)"
   ]
  },
  {
   "cell_type": "code",
   "execution_count": 65,
   "id": "1161da57",
   "metadata": {},
   "outputs": [
    {
     "data": {
      "text/plain": [
       "[0.679, 0.529, 0.694]"
      ]
     },
     "execution_count": 65,
     "metadata": {},
     "output_type": "execute_result"
    }
   ],
   "source": [
    "test_results(seed_x_train[p_seed], seed_y_train, seed_x_test[p_seed], seed_y_test)"
   ]
  },
  {
   "cell_type": "code",
   "execution_count": 66,
   "id": "c53742f0",
   "metadata": {},
   "outputs": [
    {
     "data": {
      "text/plain": [
       "[0.705, 0.529, 0.723]"
      ]
     },
     "execution_count": 66,
     "metadata": {},
     "output_type": "execute_result"
    }
   ],
   "source": [
    "test_results(seed_x_train[chi2_seed], seed_y_train, seed_x_test[chi2_seed], seed_y_test)"
   ]
  },
  {
   "cell_type": "code",
   "execution_count": 67,
   "id": "ac6b3e60",
   "metadata": {},
   "outputs": [
    {
     "data": {
      "text/plain": [
       "[0.742, 0.529, 0.763]"
      ]
     },
     "execution_count": 67,
     "metadata": {},
     "output_type": "execute_result"
    }
   ],
   "source": [
    "test_results(seed_x_train[mutual_seed], seed_y_train, seed_x_test[mutual_seed], seed_y_test)"
   ]
  },
  {
   "cell_type": "code",
   "execution_count": 68,
   "id": "aefae56c",
   "metadata": {
    "scrolled": false
   },
   "outputs": [
    {
     "data": {
      "text/html": [
       "<div>\n",
       "<style scoped>\n",
       "    .dataframe tbody tr th:only-of-type {\n",
       "        vertical-align: middle;\n",
       "    }\n",
       "\n",
       "    .dataframe tbody tr th {\n",
       "        vertical-align: top;\n",
       "    }\n",
       "\n",
       "    .dataframe thead th {\n",
       "        text-align: right;\n",
       "    }\n",
       "</style>\n",
       "<table border=\"1\" class=\"dataframe\">\n",
       "  <thead>\n",
       "    <tr style=\"text-align: right;\">\n",
       "      <th></th>\n",
       "      <th>Method</th>\n",
       "      <th>Test Accuracy</th>\n",
       "      <th>TPR</th>\n",
       "      <th>TNR</th>\n",
       "    </tr>\n",
       "  </thead>\n",
       "  <tbody>\n",
       "    <tr>\n",
       "      <th>0</th>\n",
       "      <td>Seed Raw</td>\n",
       "      <td>0.642</td>\n",
       "      <td>0.471</td>\n",
       "      <td>0.659</td>\n",
       "    </tr>\n",
       "    <tr>\n",
       "      <th>1</th>\n",
       "      <td>Seed P-value</td>\n",
       "      <td>0.679</td>\n",
       "      <td>0.529</td>\n",
       "      <td>0.694</td>\n",
       "    </tr>\n",
       "    <tr>\n",
       "      <th>2</th>\n",
       "      <td>Seed Chi2/F</td>\n",
       "      <td>0.705</td>\n",
       "      <td>0.529</td>\n",
       "      <td>0.723</td>\n",
       "    </tr>\n",
       "    <tr>\n",
       "      <th>3</th>\n",
       "      <td>Seed Mutual</td>\n",
       "      <td>0.742</td>\n",
       "      <td>0.529</td>\n",
       "      <td>0.763</td>\n",
       "    </tr>\n",
       "  </tbody>\n",
       "</table>\n",
       "</div>"
      ],
      "text/plain": [
       "         Method  Test Accuracy    TPR    TNR\n",
       "0      Seed Raw          0.642  0.471  0.659\n",
       "1  Seed P-value          0.679  0.529  0.694\n",
       "2   Seed Chi2/F          0.705  0.529  0.723\n",
       "3   Seed Mutual          0.742  0.529  0.763"
      ]
     },
     "execution_count": 68,
     "metadata": {},
     "output_type": "execute_result"
    }
   ],
   "source": [
    "data = [\n",
    "    [\"Seed Raw\"] + test_results(seed_x_train, seed_y_train, seed_x_test, seed_y_test),\n",
    "    [\"Seed P-value\"] + test_results(seed_x_train[p_seed], seed_y_train, seed_x_test[p_seed], seed_y_test),\n",
    "    [\"Seed Chi2/F\"] + test_results(seed_x_train[chi2_seed], seed_y_train, seed_x_test[chi2_seed], seed_y_test),\n",
    "    [\"Seed Mutual\"] + test_results(seed_x_train[mutual_seed], seed_y_train, seed_x_test[mutual_seed], seed_y_test)]\n",
    "df = pd.DataFrame(data, columns = ['Method','Test Accuracy', 'TPR', \"TNR\"]) \n",
    "df"
   ]
  },
  {
   "cell_type": "code",
   "execution_count": 75,
   "id": "89082232",
   "metadata": {},
   "outputs": [
    {
     "name": "stdout",
     "output_type": "stream",
     "text": [
      "Optimization terminated successfully.\n",
      "         Current function value: 0.187456\n",
      "         Iterations: 80\n",
      "         Function evaluations: 84\n",
      "         Gradient evaluations: 84\n"
     ]
    }
   ],
   "source": [
    "logi = sm.Logit(seed_y_train, seed_x_train[chi2_seed]).fit(method='bfgs',maxiter=1000) # The maxiter is increased to help convergence for seed"
   ]
  },
  {
   "cell_type": "code",
   "execution_count": 76,
   "id": "ad364ced",
   "metadata": {},
   "outputs": [
    {
     "name": "stdout",
     "output_type": "stream",
     "text": [
      "                           Logit Regression Results                           \n",
      "==============================================================================\n",
      "Dep. Variable:       Reached_Series_A   No. Observations:                  757\n",
      "Model:                          Logit   Df Residuals:                      750\n",
      "Method:                           MLE   Df Model:                            6\n",
      "Date:                Mon, 18 Jul 2022   Pseudo R-squ.:                  0.1404\n",
      "Time:                        12:03:17   Log-Likelihood:                -141.90\n",
      "converged:                       True   LL-Null:                       -165.09\n",
      "Covariance Type:            nonrobust   LLR p-value:                 2.505e-08\n",
      "=====================================================================================\n",
      "                        coef    std err          z      P>|z|      [0.025      0.975]\n",
      "-------------------------------------------------------------------------------------\n",
      "Time                 -0.4939      0.034    -14.340      0.000      -0.561      -0.426\n",
      "Chennai               0.9466      0.627      1.509      0.131      -0.283       2.176\n",
      "Gurgaon              -8.5652     39.964     -0.214      0.830     -86.894      69.763\n",
      "Consumer Internet    -0.7154      0.543     -1.318      0.188      -1.779       0.349\n",
      "Ed-Tech               1.3434      0.864      1.555      0.120      -0.349       3.036\n",
      "IT                    2.9997      1.178      2.546      0.011       0.691       5.309\n",
      "Technology            1.6751      1.295      1.293      0.196      -0.864       4.214\n",
      "=====================================================================================\n"
     ]
    }
   ],
   "source": [
    "print(logi.summary())"
   ]
  },
  {
   "cell_type": "markdown",
   "id": "9ce63d32",
   "metadata": {},
   "source": [
    "# Series Build\n"
   ]
  },
  {
   "cell_type": "code",
   "execution_count": 77,
   "id": "4237f898",
   "metadata": {},
   "outputs": [
    {
     "data": {
      "text/plain": [
       "((22, 25), (947, 25))"
      ]
     },
     "execution_count": 77,
     "metadata": {},
     "output_type": "execute_result"
    }
   ],
   "source": [
    "seriesA.shape, seed.shape\n"
   ]
  },
  {
   "cell_type": "code",
   "execution_count": 78,
   "id": "b0f9333a",
   "metadata": {},
   "outputs": [
    {
     "name": "stderr",
     "output_type": "stream",
     "text": [
      "c:\\users\\ayush\\appdata\\local\\programs\\python\\python39\\lib\\site-packages\\sklearn\\metrics\\_ranking.py:949: UndefinedMetricWarning: No positive samples in y_true, true positive value should be meaningless\n",
      "  warnings.warn(\"No positive samples in y_true, \"\n",
      "c:\\users\\ayush\\appdata\\local\\programs\\python\\python39\\lib\\site-packages\\sklearn\\metrics\\_ranking.py:949: UndefinedMetricWarning: No positive samples in y_true, true positive value should be meaningless\n",
      "  warnings.warn(\"No positive samples in y_true, \"\n",
      "c:\\users\\ayush\\appdata\\local\\programs\\python\\python39\\lib\\site-packages\\sklearn\\metrics\\_ranking.py:949: UndefinedMetricWarning: No positive samples in y_true, true positive value should be meaningless\n",
      "  warnings.warn(\"No positive samples in y_true, \"\n",
      "c:\\users\\ayush\\appdata\\local\\programs\\python\\python39\\lib\\site-packages\\sklearn\\metrics\\_ranking.py:949: UndefinedMetricWarning: No positive samples in y_true, true positive value should be meaningless\n",
      "  warnings.warn(\"No positive samples in y_true, \"\n",
      "c:\\users\\ayush\\appdata\\local\\programs\\python\\python39\\lib\\site-packages\\sklearn\\metrics\\_ranking.py:949: UndefinedMetricWarning: No positive samples in y_true, true positive value should be meaningless\n",
      "  warnings.warn(\"No positive samples in y_true, \"\n",
      "c:\\users\\ayush\\appdata\\local\\programs\\python\\python39\\lib\\site-packages\\sklearn\\metrics\\_ranking.py:949: UndefinedMetricWarning: No positive samples in y_true, true positive value should be meaningless\n",
      "  warnings.warn(\"No positive samples in y_true, \"\n",
      "c:\\users\\ayush\\appdata\\local\\programs\\python\\python39\\lib\\site-packages\\sklearn\\metrics\\_ranking.py:949: UndefinedMetricWarning: No positive samples in y_true, true positive value should be meaningless\n",
      "  warnings.warn(\"No positive samples in y_true, \"\n",
      "c:\\users\\ayush\\appdata\\local\\programs\\python\\python39\\lib\\site-packages\\sklearn\\metrics\\_ranking.py:949: UndefinedMetricWarning: No positive samples in y_true, true positive value should be meaningless\n",
      "  warnings.warn(\"No positive samples in y_true, \"\n"
     ]
    },
    {
     "ename": "ValueError",
     "evalue": "Found array with 0 sample(s) (shape=(0, 29)) while a minimum of 1 is required.",
     "output_type": "error",
     "traceback": [
      "\u001b[1;31m---------------------------------------------------------------------------\u001b[0m",
      "\u001b[1;31mValueError\u001b[0m                                Traceback (most recent call last)",
      "\u001b[1;32m<ipython-input-78-449ecc1b7aca>\u001b[0m in \u001b[0;36m<module>\u001b[1;34m\u001b[0m\n\u001b[0;32m      4\u001b[0m \u001b[1;33m\u001b[0m\u001b[0m\n\u001b[0;32m      5\u001b[0m \u001b[0max\u001b[0m \u001b[1;33m=\u001b[0m \u001b[0mfig\u001b[0m\u001b[1;33m.\u001b[0m\u001b[0madd_subplot\u001b[0m\u001b[1;33m(\u001b[0m\u001b[1;36m2\u001b[0m\u001b[1;33m,\u001b[0m \u001b[1;36m2\u001b[0m\u001b[1;33m,\u001b[0m \u001b[1;36m1\u001b[0m\u001b[1;33m)\u001b[0m\u001b[1;33m\u001b[0m\u001b[1;33m\u001b[0m\u001b[0m\n\u001b[1;32m----> 6\u001b[1;33m \u001b[0mc1_mean_fpr\u001b[0m\u001b[1;33m,\u001b[0m \u001b[0mc1_mean_tpr\u001b[0m\u001b[1;33m,\u001b[0m \u001b[0mc1_mean_auc\u001b[0m\u001b[1;33m,\u001b[0m \u001b[0mc1_std_auc\u001b[0m \u001b[1;33m=\u001b[0m \u001b[0mlogi_plot_roc\u001b[0m\u001b[1;33m(\u001b[0m\u001b[0mseriesA_x_train\u001b[0m\u001b[1;33m,\u001b[0m\u001b[0mseriesA_y_train\u001b[0m\u001b[1;33m,\u001b[0m\u001b[0mcolors\u001b[0m\u001b[1;33m[\u001b[0m\u001b[1;36m0\u001b[0m\u001b[1;33m]\u001b[0m\u001b[1;33m,\u001b[0m\u001b[0mshow_detail\u001b[0m\u001b[1;33m=\u001b[0m\u001b[1;32mTrue\u001b[0m\u001b[1;33m)\u001b[0m\u001b[1;33m\u001b[0m\u001b[1;33m\u001b[0m\u001b[0m\n\u001b[0m\u001b[0;32m      7\u001b[0m \u001b[0mlabel\u001b[0m\u001b[1;33m(\u001b[0m\u001b[1;33m)\u001b[0m\u001b[1;33m\u001b[0m\u001b[1;33m\u001b[0m\u001b[0m\n\u001b[0;32m      8\u001b[0m \u001b[0mplt\u001b[0m\u001b[1;33m.\u001b[0m\u001b[0mtitle\u001b[0m\u001b[1;33m(\u001b[0m\u001b[1;34m\"Logi (Raw) Mean ROC\"\u001b[0m\u001b[1;33m)\u001b[0m\u001b[1;33m\u001b[0m\u001b[1;33m\u001b[0m\u001b[0m\n",
      "\u001b[1;32m<ipython-input-59-26a31566e290>\u001b[0m in \u001b[0;36mlogi_plot_roc\u001b[1;34m(x, y, c, show_detail, txtlabel)\u001b[0m\n\u001b[0;32m      4\u001b[0m     \u001b[0maucs\u001b[0m \u001b[1;33m=\u001b[0m \u001b[1;33m[\u001b[0m\u001b[1;33m]\u001b[0m\u001b[1;33m\u001b[0m\u001b[1;33m\u001b[0m\u001b[0m\n\u001b[0;32m      5\u001b[0m     \u001b[1;32mfor\u001b[0m \u001b[0mi\u001b[0m \u001b[1;32min\u001b[0m \u001b[0mrange\u001b[0m\u001b[1;33m(\u001b[0m\u001b[1;36m100\u001b[0m\u001b[1;33m)\u001b[0m\u001b[1;33m:\u001b[0m\u001b[1;33m\u001b[0m\u001b[1;33m\u001b[0m\u001b[0m\n\u001b[1;32m----> 6\u001b[1;33m         \u001b[0mfpr_R_seed_sel\u001b[0m\u001b[1;33m,\u001b[0m \u001b[0mtpr_R_seed_sel\u001b[0m \u001b[1;33m=\u001b[0m \u001b[0mscikit_logi\u001b[0m\u001b[1;33m(\u001b[0m\u001b[0mx\u001b[0m\u001b[1;33m,\u001b[0m\u001b[0my\u001b[0m\u001b[1;33m,\u001b[0m \u001b[0msplit_downsample\u001b[0m\u001b[1;33m)\u001b[0m\u001b[1;33m\u001b[0m\u001b[1;33m\u001b[0m\u001b[0m\n\u001b[0m\u001b[0;32m      7\u001b[0m         \u001b[1;32mif\u001b[0m \u001b[0mshow_detail\u001b[0m \u001b[1;33m==\u001b[0m \u001b[1;32mTrue\u001b[0m\u001b[1;33m:\u001b[0m\u001b[1;33m\u001b[0m\u001b[1;33m\u001b[0m\u001b[0m\n\u001b[0;32m      8\u001b[0m             \u001b[0mplt\u001b[0m\u001b[1;33m.\u001b[0m\u001b[0mplot\u001b[0m\u001b[1;33m(\u001b[0m\u001b[0mfpr_R_seed_sel\u001b[0m\u001b[1;33m,\u001b[0m \u001b[0mtpr_R_seed_sel\u001b[0m\u001b[1;33m,\u001b[0m \u001b[0mlw\u001b[0m\u001b[1;33m=\u001b[0m\u001b[1;36m0.1\u001b[0m\u001b[1;33m,\u001b[0m \u001b[0mcolor\u001b[0m \u001b[1;33m=\u001b[0m \u001b[0mc\u001b[0m\u001b[1;33m,\u001b[0m \u001b[0malpha\u001b[0m\u001b[1;33m=\u001b[0m\u001b[1;36m0.6\u001b[0m\u001b[1;33m)\u001b[0m\u001b[1;33m\u001b[0m\u001b[1;33m\u001b[0m\u001b[0m\n",
      "\u001b[1;32m<ipython-input-58-2875712e42f1>\u001b[0m in \u001b[0;36mscikit_logi\u001b[1;34m(X, y, samplemethod)\u001b[0m\n\u001b[0;32m      3\u001b[0m     \u001b[0mX_train\u001b[0m\u001b[1;33m,\u001b[0m \u001b[0mX_test\u001b[0m\u001b[1;33m,\u001b[0m \u001b[0my_train\u001b[0m\u001b[1;33m,\u001b[0m \u001b[0my_test\u001b[0m \u001b[1;33m=\u001b[0m \u001b[0msamplemethod\u001b[0m\u001b[1;33m(\u001b[0m\u001b[0mX\u001b[0m\u001b[1;33m,\u001b[0m \u001b[0my\u001b[0m\u001b[1;33m)\u001b[0m\u001b[1;33m\u001b[0m\u001b[1;33m\u001b[0m\u001b[0m\n\u001b[0;32m      4\u001b[0m     \u001b[0mlogi\u001b[0m \u001b[1;33m=\u001b[0m \u001b[0mLogisticRegression\u001b[0m\u001b[1;33m(\u001b[0m\u001b[0msolver\u001b[0m\u001b[1;33m=\u001b[0m\u001b[1;34m'lbfgs'\u001b[0m\u001b[1;33m,\u001b[0m\u001b[0mmax_iter\u001b[0m\u001b[1;33m=\u001b[0m\u001b[1;36m400\u001b[0m\u001b[1;33m)\u001b[0m\u001b[1;33m\u001b[0m\u001b[1;33m\u001b[0m\u001b[0m\n\u001b[1;32m----> 5\u001b[1;33m     \u001b[0mmodel\u001b[0m \u001b[1;33m=\u001b[0m \u001b[0mlogi\u001b[0m\u001b[1;33m.\u001b[0m\u001b[0mfit\u001b[0m\u001b[1;33m(\u001b[0m\u001b[0mX_train\u001b[0m\u001b[1;33m,\u001b[0m\u001b[0my_train\u001b[0m\u001b[1;33m)\u001b[0m\u001b[1;33m\u001b[0m\u001b[1;33m\u001b[0m\u001b[0m\n\u001b[0m\u001b[0;32m      6\u001b[0m     \u001b[0my_pred_proba\u001b[0m \u001b[1;33m=\u001b[0m \u001b[0mmodel\u001b[0m\u001b[1;33m.\u001b[0m\u001b[0mpredict_proba\u001b[0m\u001b[1;33m(\u001b[0m\u001b[0mX_test\u001b[0m\u001b[1;33m)\u001b[0m\u001b[1;33m\u001b[0m\u001b[1;33m\u001b[0m\u001b[0m\n\u001b[0;32m      7\u001b[0m     \u001b[0mfpr\u001b[0m\u001b[1;33m,\u001b[0m \u001b[0mtpr\u001b[0m\u001b[1;33m,\u001b[0m \u001b[0m_\u001b[0m \u001b[1;33m=\u001b[0m \u001b[0mroc_curve\u001b[0m\u001b[1;33m(\u001b[0m\u001b[0my_test\u001b[0m\u001b[1;33m,\u001b[0m \u001b[0my_pred_proba\u001b[0m\u001b[1;33m[\u001b[0m\u001b[1;33m:\u001b[0m\u001b[1;33m,\u001b[0m\u001b[1;36m1\u001b[0m\u001b[1;33m]\u001b[0m\u001b[1;33m)\u001b[0m\u001b[1;33m\u001b[0m\u001b[1;33m\u001b[0m\u001b[0m\n",
      "\u001b[1;32mc:\\users\\ayush\\appdata\\local\\programs\\python\\python39\\lib\\site-packages\\sklearn\\linear_model\\_logistic.py\u001b[0m in \u001b[0;36mfit\u001b[1;34m(self, X, y, sample_weight)\u001b[0m\n\u001b[0;32m   1342\u001b[0m             \u001b[0m_dtype\u001b[0m \u001b[1;33m=\u001b[0m \u001b[1;33m[\u001b[0m\u001b[0mnp\u001b[0m\u001b[1;33m.\u001b[0m\u001b[0mfloat64\u001b[0m\u001b[1;33m,\u001b[0m \u001b[0mnp\u001b[0m\u001b[1;33m.\u001b[0m\u001b[0mfloat32\u001b[0m\u001b[1;33m]\u001b[0m\u001b[1;33m\u001b[0m\u001b[1;33m\u001b[0m\u001b[0m\n\u001b[0;32m   1343\u001b[0m \u001b[1;33m\u001b[0m\u001b[0m\n\u001b[1;32m-> 1344\u001b[1;33m         X, y = self._validate_data(X, y, accept_sparse='csr', dtype=_dtype,\n\u001b[0m\u001b[0;32m   1345\u001b[0m                                    \u001b[0morder\u001b[0m\u001b[1;33m=\u001b[0m\u001b[1;34m\"C\"\u001b[0m\u001b[1;33m,\u001b[0m\u001b[1;33m\u001b[0m\u001b[1;33m\u001b[0m\u001b[0m\n\u001b[0;32m   1346\u001b[0m                                    accept_large_sparse=solver != 'liblinear')\n",
      "\u001b[1;32mc:\\users\\ayush\\appdata\\local\\programs\\python\\python39\\lib\\site-packages\\sklearn\\base.py\u001b[0m in \u001b[0;36m_validate_data\u001b[1;34m(self, X, y, reset, validate_separately, **check_params)\u001b[0m\n\u001b[0;32m    431\u001b[0m                 \u001b[0my\u001b[0m \u001b[1;33m=\u001b[0m \u001b[0mcheck_array\u001b[0m\u001b[1;33m(\u001b[0m\u001b[0my\u001b[0m\u001b[1;33m,\u001b[0m \u001b[1;33m**\u001b[0m\u001b[0mcheck_y_params\u001b[0m\u001b[1;33m)\u001b[0m\u001b[1;33m\u001b[0m\u001b[1;33m\u001b[0m\u001b[0m\n\u001b[0;32m    432\u001b[0m             \u001b[1;32melse\u001b[0m\u001b[1;33m:\u001b[0m\u001b[1;33m\u001b[0m\u001b[1;33m\u001b[0m\u001b[0m\n\u001b[1;32m--> 433\u001b[1;33m                 \u001b[0mX\u001b[0m\u001b[1;33m,\u001b[0m \u001b[0my\u001b[0m \u001b[1;33m=\u001b[0m \u001b[0mcheck_X_y\u001b[0m\u001b[1;33m(\u001b[0m\u001b[0mX\u001b[0m\u001b[1;33m,\u001b[0m \u001b[0my\u001b[0m\u001b[1;33m,\u001b[0m \u001b[1;33m**\u001b[0m\u001b[0mcheck_params\u001b[0m\u001b[1;33m)\u001b[0m\u001b[1;33m\u001b[0m\u001b[1;33m\u001b[0m\u001b[0m\n\u001b[0m\u001b[0;32m    434\u001b[0m             \u001b[0mout\u001b[0m \u001b[1;33m=\u001b[0m \u001b[0mX\u001b[0m\u001b[1;33m,\u001b[0m \u001b[0my\u001b[0m\u001b[1;33m\u001b[0m\u001b[1;33m\u001b[0m\u001b[0m\n\u001b[0;32m    435\u001b[0m \u001b[1;33m\u001b[0m\u001b[0m\n",
      "\u001b[1;32mc:\\users\\ayush\\appdata\\local\\programs\\python\\python39\\lib\\site-packages\\sklearn\\utils\\validation.py\u001b[0m in \u001b[0;36minner_f\u001b[1;34m(*args, **kwargs)\u001b[0m\n\u001b[0;32m     61\u001b[0m             \u001b[0mextra_args\u001b[0m \u001b[1;33m=\u001b[0m \u001b[0mlen\u001b[0m\u001b[1;33m(\u001b[0m\u001b[0margs\u001b[0m\u001b[1;33m)\u001b[0m \u001b[1;33m-\u001b[0m \u001b[0mlen\u001b[0m\u001b[1;33m(\u001b[0m\u001b[0mall_args\u001b[0m\u001b[1;33m)\u001b[0m\u001b[1;33m\u001b[0m\u001b[1;33m\u001b[0m\u001b[0m\n\u001b[0;32m     62\u001b[0m             \u001b[1;32mif\u001b[0m \u001b[0mextra_args\u001b[0m \u001b[1;33m<=\u001b[0m \u001b[1;36m0\u001b[0m\u001b[1;33m:\u001b[0m\u001b[1;33m\u001b[0m\u001b[1;33m\u001b[0m\u001b[0m\n\u001b[1;32m---> 63\u001b[1;33m                 \u001b[1;32mreturn\u001b[0m \u001b[0mf\u001b[0m\u001b[1;33m(\u001b[0m\u001b[1;33m*\u001b[0m\u001b[0margs\u001b[0m\u001b[1;33m,\u001b[0m \u001b[1;33m**\u001b[0m\u001b[0mkwargs\u001b[0m\u001b[1;33m)\u001b[0m\u001b[1;33m\u001b[0m\u001b[1;33m\u001b[0m\u001b[0m\n\u001b[0m\u001b[0;32m     64\u001b[0m \u001b[1;33m\u001b[0m\u001b[0m\n\u001b[0;32m     65\u001b[0m             \u001b[1;31m# extra_args > 0\u001b[0m\u001b[1;33m\u001b[0m\u001b[1;33m\u001b[0m\u001b[1;33m\u001b[0m\u001b[0m\n",
      "\u001b[1;32mc:\\users\\ayush\\appdata\\local\\programs\\python\\python39\\lib\\site-packages\\sklearn\\utils\\validation.py\u001b[0m in \u001b[0;36mcheck_X_y\u001b[1;34m(X, y, accept_sparse, accept_large_sparse, dtype, order, copy, force_all_finite, ensure_2d, allow_nd, multi_output, ensure_min_samples, ensure_min_features, y_numeric, estimator)\u001b[0m\n\u001b[0;32m    869\u001b[0m         \u001b[1;32mraise\u001b[0m \u001b[0mValueError\u001b[0m\u001b[1;33m(\u001b[0m\u001b[1;34m\"y cannot be None\"\u001b[0m\u001b[1;33m)\u001b[0m\u001b[1;33m\u001b[0m\u001b[1;33m\u001b[0m\u001b[0m\n\u001b[0;32m    870\u001b[0m \u001b[1;33m\u001b[0m\u001b[0m\n\u001b[1;32m--> 871\u001b[1;33m     X = check_array(X, accept_sparse=accept_sparse,\n\u001b[0m\u001b[0;32m    872\u001b[0m                     \u001b[0maccept_large_sparse\u001b[0m\u001b[1;33m=\u001b[0m\u001b[0maccept_large_sparse\u001b[0m\u001b[1;33m,\u001b[0m\u001b[1;33m\u001b[0m\u001b[1;33m\u001b[0m\u001b[0m\n\u001b[0;32m    873\u001b[0m                     \u001b[0mdtype\u001b[0m\u001b[1;33m=\u001b[0m\u001b[0mdtype\u001b[0m\u001b[1;33m,\u001b[0m \u001b[0morder\u001b[0m\u001b[1;33m=\u001b[0m\u001b[0morder\u001b[0m\u001b[1;33m,\u001b[0m \u001b[0mcopy\u001b[0m\u001b[1;33m=\u001b[0m\u001b[0mcopy\u001b[0m\u001b[1;33m,\u001b[0m\u001b[1;33m\u001b[0m\u001b[1;33m\u001b[0m\u001b[0m\n",
      "\u001b[1;32mc:\\users\\ayush\\appdata\\local\\programs\\python\\python39\\lib\\site-packages\\sklearn\\utils\\validation.py\u001b[0m in \u001b[0;36minner_f\u001b[1;34m(*args, **kwargs)\u001b[0m\n\u001b[0;32m     61\u001b[0m             \u001b[0mextra_args\u001b[0m \u001b[1;33m=\u001b[0m \u001b[0mlen\u001b[0m\u001b[1;33m(\u001b[0m\u001b[0margs\u001b[0m\u001b[1;33m)\u001b[0m \u001b[1;33m-\u001b[0m \u001b[0mlen\u001b[0m\u001b[1;33m(\u001b[0m\u001b[0mall_args\u001b[0m\u001b[1;33m)\u001b[0m\u001b[1;33m\u001b[0m\u001b[1;33m\u001b[0m\u001b[0m\n\u001b[0;32m     62\u001b[0m             \u001b[1;32mif\u001b[0m \u001b[0mextra_args\u001b[0m \u001b[1;33m<=\u001b[0m \u001b[1;36m0\u001b[0m\u001b[1;33m:\u001b[0m\u001b[1;33m\u001b[0m\u001b[1;33m\u001b[0m\u001b[0m\n\u001b[1;32m---> 63\u001b[1;33m                 \u001b[1;32mreturn\u001b[0m \u001b[0mf\u001b[0m\u001b[1;33m(\u001b[0m\u001b[1;33m*\u001b[0m\u001b[0margs\u001b[0m\u001b[1;33m,\u001b[0m \u001b[1;33m**\u001b[0m\u001b[0mkwargs\u001b[0m\u001b[1;33m)\u001b[0m\u001b[1;33m\u001b[0m\u001b[1;33m\u001b[0m\u001b[0m\n\u001b[0m\u001b[0;32m     64\u001b[0m \u001b[1;33m\u001b[0m\u001b[0m\n\u001b[0;32m     65\u001b[0m             \u001b[1;31m# extra_args > 0\u001b[0m\u001b[1;33m\u001b[0m\u001b[1;33m\u001b[0m\u001b[1;33m\u001b[0m\u001b[0m\n",
      "\u001b[1;32mc:\\users\\ayush\\appdata\\local\\programs\\python\\python39\\lib\\site-packages\\sklearn\\utils\\validation.py\u001b[0m in \u001b[0;36mcheck_array\u001b[1;34m(array, accept_sparse, accept_large_sparse, dtype, order, copy, force_all_finite, ensure_2d, allow_nd, ensure_min_samples, ensure_min_features, estimator)\u001b[0m\n\u001b[0;32m    724\u001b[0m         \u001b[0mn_samples\u001b[0m \u001b[1;33m=\u001b[0m \u001b[0m_num_samples\u001b[0m\u001b[1;33m(\u001b[0m\u001b[0marray\u001b[0m\u001b[1;33m)\u001b[0m\u001b[1;33m\u001b[0m\u001b[1;33m\u001b[0m\u001b[0m\n\u001b[0;32m    725\u001b[0m         \u001b[1;32mif\u001b[0m \u001b[0mn_samples\u001b[0m \u001b[1;33m<\u001b[0m \u001b[0mensure_min_samples\u001b[0m\u001b[1;33m:\u001b[0m\u001b[1;33m\u001b[0m\u001b[1;33m\u001b[0m\u001b[0m\n\u001b[1;32m--> 726\u001b[1;33m             raise ValueError(\"Found array with %d sample(s) (shape=%s) while a\"\n\u001b[0m\u001b[0;32m    727\u001b[0m                              \u001b[1;34m\" minimum of %d is required%s.\"\u001b[0m\u001b[1;33m\u001b[0m\u001b[1;33m\u001b[0m\u001b[0m\n\u001b[0;32m    728\u001b[0m                              % (n_samples, array.shape, ensure_min_samples,\n",
      "\u001b[1;31mValueError\u001b[0m: Found array with 0 sample(s) (shape=(0, 29)) while a minimum of 1 is required."
     ]
    },
    {
     "data": {
      "image/png": "[encoded data removed]",
      "text/plain": [
       "<Figure size 1152x1152 with 1 Axes>"
      ]
     },
     "metadata": {
      "needs_background": "light"
     },
     "output_type": "display_data"
    }
   ],
   "source": [
    "fig = plt.figure(figsize=(16,16))\n",
    "fig.subplots_adjust(hspace=0.2, wspace=0.2)\n",
    "\n",
    "\n",
    "ax = fig.add_subplot(2, 2, 1)\n",
    "c1_mean_fpr, c1_mean_tpr, c1_mean_auc, c1_std_auc = logi_plot_roc(seriesA_x_train,seriesA_y_train,colors[0],show_detail=True)\n",
    "label()\n",
    "plt.title(\"Logi (Raw) Mean ROC\")\n",
    "\n",
    "ax = fig.add_subplot(2, 2, 2)\n",
    "c2_mean_fpr, c2_mean_tpr, c2_mean_auc, c2_std_auc = logi_plot_roc(seriesA_x_train[p_seriesA],seriesA_y_train,colors[1],show_detail=True)\n",
    "label()\n",
    "plt.title(\"Logi (p-val) Mean ROC\")\n",
    "\n",
    "ax = fig.add_subplot(2, 2, 3)\n",
    "c3_mean_fpr, c3_mean_tpr, c3_mean_auc, c3_std_auc = logi_plot_roc(seriesA_x_train[chi2_seriesA],seriesA_y_train,colors[2],show_detail=True)\n",
    "label()\n",
    "plt.title(\"Logi (chi2/f) Mean ROC\")\n",
    "\n",
    "ax = fig.add_subplot(2, 2, 4)\n",
    "c4_mean_fpr, c4_mean_tpr, c4_mean_auc, c4_std_auc = logi_plot_roc(seriesA_x_train[mutual_seriesA],seriesA_y_train,colors[3],show_detail=True)\n",
    "label()\n",
    "plt.title(\"Logi (mutual info) Mean ROC\")\n",
    "plt.savefig('seriesA_4x.png')\n",
    "\n",
    "plt.show()"
   ]
  },
  {
   "cell_type": "code",
   "execution_count": 79,
   "id": "3f0121b5",
   "metadata": {},
   "outputs": [
    {
     "data": {
      "image/png": "[encoded data removed]",
      "text/plain": [
       "<Figure size 576x576 with 1 Axes>"
      ]
     },
     "metadata": {
      "needs_background": "light"
     },
     "output_type": "display_data"
    }
   ],
   "source": [
    "fig = plt.figure(figsize=(8,8))\n",
    "\n",
    "plt.plot(c1_mean_fpr, c1_mean_tpr, color=colors[0], label=\"Logi (Raw)\"+ r' Mean ROC (AUC = %0.3f $\\pm$ %0.3f)' \n",
    "         % (c1_mean_auc, c1_std_auc), lw=2, alpha=0.8)\n",
    "plt.plot(c2_mean_fpr, c2_mean_tpr, color=colors[1], label=\"Logi (p-val)\"+ r' Mean ROC (AUC = %0.3f $\\pm$ %0.3f)' \n",
    "         % (c2_mean_auc, c2_std_auc), lw=2, alpha=0.8)\n",
    "plt.plot(c3_mean_fpr, c3_mean_tpr, color=colors[2], label=\"Logi (chi2/f)\"+ r' Mean ROC (AUC = %0.3f $\\pm$ %0.3f)' \n",
    "         % (c3_mean_auc, c3_std_auc), lw=2, alpha=0.8)\n",
    "plt.plot(c4_mean_fpr, c4_mean_tpr, color=colors[3], label=\"Logi (mutual info)\"+ r' Mean ROC (AUC = %0.3f $\\pm$ %0.3f)' \n",
    "         % (c4_mean_auc, c4_std_auc), lw=2, alpha=0.8)\n",
    "\n",
    "label()\n",
    "\n",
    "plt.title(\"ROC: SeriesA variable selections comparison\")\n",
    "plt.savefig('seriesA_all.png')\n",
    "\n",
    "\n",
    "plt.show()"
   ]
  },
  {
   "cell_type": "code",
   "execution_count": 72,
   "id": "c93566d4",
   "metadata": {},
   "outputs": [
    {
     "name": "stderr",
     "output_type": "stream",
     "text": [
      "<ipython-input-63-6083ffdc5030>:8: RuntimeWarning: invalid value encountered in longlong_scalars\n",
      "  tpr = cm[0][0]/np.sum(cm[0])\n"
     ]
    },
    {
     "data": {
      "text/plain": [
       "[0.6, nan, 0.6]"
      ]
     },
     "execution_count": 72,
     "metadata": {},
     "output_type": "execute_result"
    }
   ],
   "source": [
    "test_results(seriesA_x_train[chi2_seriesA], seriesA_y_train, seriesA_x_test[chi2_seriesA], seriesA_y_test)"
   ]
  },
  {
   "cell_type": "code",
   "execution_count": 73,
   "id": "019fcb9a",
   "metadata": {},
   "outputs": [
    {
     "name": "stderr",
     "output_type": "stream",
     "text": [
      "<ipython-input-63-6083ffdc5030>:8: RuntimeWarning: invalid value encountered in longlong_scalars\n",
      "  tpr = cm[0][0]/np.sum(cm[0])\n"
     ]
    },
    {
     "data": {
      "text/plain": [
       "[1.0, nan, 1.0]"
      ]
     },
     "execution_count": 73,
     "metadata": {},
     "output_type": "execute_result"
    }
   ],
   "source": [
    "test_results(seriesA_x_train[mutual_seriesA], seriesA_y_train, seriesA_x_test[mutual_seriesA], seriesA_y_test)"
   ]
  },
  {
   "cell_type": "code",
   "execution_count": 74,
   "id": "d877f4d4",
   "metadata": {},
   "outputs": [
    {
     "name": "stderr",
     "output_type": "stream",
     "text": [
      "<ipython-input-63-6083ffdc5030>:8: RuntimeWarning: invalid value encountered in longlong_scalars\n",
      "  tpr = cm[0][0]/np.sum(cm[0])\n",
      "<ipython-input-63-6083ffdc5030>:8: RuntimeWarning: invalid value encountered in longlong_scalars\n",
      "  tpr = cm[0][0]/np.sum(cm[0])\n",
      "<ipython-input-63-6083ffdc5030>:8: RuntimeWarning: invalid value encountered in longlong_scalars\n",
      "  tpr = cm[0][0]/np.sum(cm[0])\n",
      "<ipython-input-63-6083ffdc5030>:8: RuntimeWarning: invalid value encountered in longlong_scalars\n",
      "  tpr = cm[0][0]/np.sum(cm[0])\n"
     ]
    },
    {
     "data": {
      "text/html": [
       "<div>\n",
       "<style scoped>\n",
       "    .dataframe tbody tr th:only-of-type {\n",
       "        vertical-align: middle;\n",
       "    }\n",
       "\n",
       "    .dataframe tbody tr th {\n",
       "        vertical-align: top;\n",
       "    }\n",
       "\n",
       "    .dataframe thead th {\n",
       "        text-align: right;\n",
       "    }\n",
       "</style>\n",
       "<table border=\"1\" class=\"dataframe\">\n",
       "  <thead>\n",
       "    <tr style=\"text-align: right;\">\n",
       "      <th></th>\n",
       "      <th>Method</th>\n",
       "      <th>Test Accuracy</th>\n",
       "      <th>TPR</th>\n",
       "      <th>TNR</th>\n",
       "    </tr>\n",
       "  </thead>\n",
       "  <tbody>\n",
       "    <tr>\n",
       "      <th>0</th>\n",
       "      <td>SeriesA Raw</td>\n",
       "      <td>0.4</td>\n",
       "      <td>NaN</td>\n",
       "      <td>0.4</td>\n",
       "    </tr>\n",
       "    <tr>\n",
       "      <th>1</th>\n",
       "      <td>SeriesA P-value</td>\n",
       "      <td>0.4</td>\n",
       "      <td>NaN</td>\n",
       "      <td>0.4</td>\n",
       "    </tr>\n",
       "    <tr>\n",
       "      <th>2</th>\n",
       "      <td>SeriesA Chi2/F</td>\n",
       "      <td>0.6</td>\n",
       "      <td>NaN</td>\n",
       "      <td>0.6</td>\n",
       "    </tr>\n",
       "    <tr>\n",
       "      <th>3</th>\n",
       "      <td>SeriesA Mutual</td>\n",
       "      <td>1.0</td>\n",
       "      <td>NaN</td>\n",
       "      <td>1.0</td>\n",
       "    </tr>\n",
       "  </tbody>\n",
       "</table>\n",
       "</div>"
      ],
      "text/plain": [
       "            Method  Test Accuracy  TPR  TNR\n",
       "0      SeriesA Raw            0.4  NaN  0.4\n",
       "1  SeriesA P-value            0.4  NaN  0.4\n",
       "2   SeriesA Chi2/F            0.6  NaN  0.6\n",
       "3   SeriesA Mutual            1.0  NaN  1.0"
      ]
     },
     "execution_count": 74,
     "metadata": {},
     "output_type": "execute_result"
    }
   ],
   "source": [
    "data = [\n",
    "    [\"SeriesA Raw\"] + test_results(seriesA_x_train, seriesA_y_train, seriesA_x_test, seriesA_y_test),\n",
    "    [\"SeriesA P-value\"] + test_results(seriesA_x_train[p_seriesA], seriesA_y_train, seriesA_x_test[p_seriesA], seriesA_y_test),\n",
    "    [\"SeriesA Chi2/F\"] + test_results(seriesA_x_train[chi2_seriesA], seriesA_y_train, seriesA_x_test[chi2_seriesA], seriesA_y_test),\n",
    "    [\"SeriesA Mutual\"] + test_results(seriesA_x_train[mutual_seriesA], seriesA_y_train, seriesA_x_test[mutual_seriesA], seriesA_y_test)]\n",
    "df = pd.DataFrame(data, columns = ['Method','Test Accuracy', 'TPR', \"TNR\"]) \n",
    "df"
   ]
  },
  {
   "cell_type": "markdown",
   "id": "16dae5b2",
   "metadata": {},
   "source": [
    "# Import new data, transform the columns for testing and make into predictable dataset.\n",
    "\n",
    "\n"
   ]
  },
  {
   "cell_type": "code",
   "execution_count": null,
   "id": "ea35bc8e",
   "metadata": {},
   "outputs": [],
   "source": []
  },
  {
   "cell_type": "markdown",
   "id": "483e51fe",
   "metadata": {},
   "source": [
    "###  Saving the model to transpose it onto our data set "
   ]
  },
  {
   "cell_type": "code",
   "execution_count": null,
   "id": "9d6e17b8",
   "metadata": {},
   "outputs": [],
   "source": [
    "import pickle \n",
    "\n",
    "# Save the trained model as a pickle string\n",
    "saved_model = pickle.dumps()\n",
    "\n",
    "#load the pickled model\n",
    "Loaded_model = pickle.loads(saved_model)\n",
    "\n",
    "#Use the loaded model to make predictions\n",
    "Loaded_model.predict(TestingData)"
   ]
  },
  {
   "cell_type": "code",
   "execution_count": 88,
   "id": "b7561aac",
   "metadata": {},
   "outputs": [],
   "source": [
    "working_df.drop('Unnamed: 0.1.1',axis = 1, inplace = True)\n"
   ]
  },
  {
   "cell_type": "code",
   "execution_count": 90,
   "id": "e6c3e52c",
   "metadata": {},
   "outputs": [
    {
     "name": "stdout",
     "output_type": "stream",
     "text": [
      "<class 'pandas.core.frame.DataFrame'>\n",
      "Int64Index: 1939 entries, 0 to 1938\n",
      "Data columns (total 24 columns):\n",
      " #   Column                    Non-Null Count  Dtype         \n",
      "---  ------                    --------------  -----         \n",
      " 0   Sr No                     1939 non-null   int64         \n",
      " 1   Date dd/mm/yyyy           1939 non-null   datetime64[ns]\n",
      " 2   Startup Name              1939 non-null   object        \n",
      " 3   Industry Vertical         1939 non-null   object        \n",
      " 4   SubVertical               1470 non-null   object        \n",
      " 5   City  Location            1935 non-null   object        \n",
      " 6   Investors Name            1919 non-null   object        \n",
      " 7   InvestmentnType           1938 non-null   object        \n",
      " 8   Amount in USD             1939 non-null   int64         \n",
      " 9   TierBoolean               1939 non-null   bool          \n",
      " 10  AmountInUSDBoolean        1939 non-null   bool          \n",
      " 11  Year                      1939 non-null   int64         \n",
      " 12  Month                     1939 non-null   int64         \n",
      " 13  OnlineMarketPlaceBoolean  1939 non-null   bool          \n",
      " 14  EducationBool             1939 non-null   bool          \n",
      " 15  ServiceInternetBoolean    1939 non-null   bool          \n",
      " 16  HealthTechBoolean         1939 non-null   bool          \n",
      " 17  Quantile Rank             1939 non-null   int64         \n",
      " 18  Number_Investors          1939 non-null   int64         \n",
      " 19  tryColumnForInvestment    1938 non-null   object        \n",
      " 20  Reached_Series_A          1939 non-null   int64         \n",
      " 21  Reached_Series_B          1939 non-null   int64         \n",
      " 22  Time                      1939 non-null   float64       \n",
      " 23  annual_raised             1939 non-null   float64       \n",
      "dtypes: bool(6), datetime64[ns](1), float64(2), int64(8), object(7)\n",
      "memory usage: 299.2+ KB\n"
     ]
    }
   ],
   "source": [
    "working_df.info()"
   ]
  },
  {
   "cell_type": "code",
   "execution_count": null,
   "id": "02f0bfbc",
   "metadata": {},
   "outputs": [],
   "source": [
    "working_df[]"
   ]
  }
 ],
 "metadata": {
  "kernelspec": {
   "display_name": "Python 3",
   "language": "python",
   "name": "python3"
  },
  "language_info": {
   "codemirror_mode": {
    "name": "ipython",
    "version": 3
   },
   "file_extension": ".py",
   "mimetype": "text/x-python",
   "name": "python",
   "nbconvert_exporter": "python",
   "pygments_lexer": "ipython3",
   "version": "3.9.4"
  }
 },
 "nbformat": 4,
 "nbformat_minor": 5
}
